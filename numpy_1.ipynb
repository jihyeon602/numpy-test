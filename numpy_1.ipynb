{
  "cells": [
    {
      "cell_type": "markdown",
      "metadata": {
        "id": "view-in-github",
        "colab_type": "text"
      },
      "source": [
        "<a href=\"https://colab.research.google.com/github/jihyeon602/numpy-test/blob/main/numpy_1.ipynb\" target=\"_parent\"><img src=\"https://colab.research.google.com/assets/colab-badge.svg\" alt=\"Open In Colab\"/></a>"
      ]
    },
    {
      "cell_type": "markdown",
      "metadata": {
        "id": "haoJULWrk5KH"
      },
      "source": [
        "(sec:numpy_1)=\n",
        "# 넘파이 어레이"
      ]
    },
    {
      "cell_type": "markdown",
      "metadata": {
        "id": "tTdrTN1Ak5KI"
      },
      "source": [
        "넘파이 라이브러리가 제공하는 다차원 어레이 자료형을 소개한다."
      ]
    },
    {
      "cell_type": "markdown",
      "metadata": {
        "id": "3vFf7cKMk5KI"
      },
      "source": [
        "**주요 내용**\n",
        "\n",
        "- 넘파이 어레이 자료형\n",
        "- 다차원 어레이 소개\n",
        "- 어레이 기초 연산 소개"
      ]
    },
    {
      "cell_type": "markdown",
      "metadata": {
        "id": "bXeMJ1g9k5KJ"
      },
      "source": [
        "**기본 설정**\n",
        "\n",
        "`numpy` 모듈에 대한 기본 설정을 지정한다."
      ]
    },
    {
      "cell_type": "code",
      "execution_count": null,
      "metadata": {
        "id": "Yg6SEbX8k5KJ"
      },
      "outputs": [],
      "source": [
        "# 넘파이\n",
        "import numpy as np\n",
        "\n",
        "# 램덤 시드\n",
        "np.random.seed(12345)\n",
        "\n",
        "# 어레이에 포함된 부동소수점들의 표현 정확도 지정\n",
        "np.set_printoptions(precision=4, suppress=True)"
      ]
    },
    {
      "cell_type": "markdown",
      "metadata": {
        "id": "o24PFIask5KK"
      },
      "source": [
        "## 넘파이란?"
      ]
    },
    {
      "cell_type": "markdown",
      "metadata": {
        "id": "hOfeY2oWk5KK"
      },
      "source": [
        "**넘파이**<font size='2'>numpy</font>는 NUMerical PYthon의 줄임말이며,\n",
        "파이썬 데이터 과학에서 가장 중요한 도구를 제공하는 라이브러리이다.\n",
        "넘파이가 제공하는 가장 중요한 요소는 아래 두 가지이다.\n",
        "\n",
        "* 다차원 어레이(배열)\n",
        "* 메모리 효율적이며 빠른 어레이 연산\n",
        "\n",
        "넘파이의 기능을 잘 이해한다면 이어서 다룰 **판다스**<font size='2'>pandas</font> 라이브러리가 지원하는\n",
        "데이터프레임<font size='2'>Dataframe</font> 자료형의 기능 또한 쉽게 이해할 수 있다."
      ]
    },
    {
      "cell_type": "markdown",
      "metadata": {
        "id": "OWkhUzlOk5KK"
      },
      "source": [
        "리스트 연산과 넘파이 어레이 연산의 속도 차이를 아래 코드가 보여준다.\n",
        "아래 코드는 0부터 1천만까지의 숫자를 각각 두 배하는 연산에 필요한 시간을 측정한다.\n",
        "결과적으로 넘파이 어레이를 이용한 연산이 몇 십배 정도 빠르다."
      ]
    },
    {
      "cell_type": "markdown",
      "metadata": {
        "id": "HOWQcJ3Jk5KK"
      },
      "source": [
        ":::{admonition} `%time` 매직 커맨드\n",
        ":class: warning\n",
        "\n",
        "`%time`은 코드 실행시간을 측정하는 IPython의 매직 커맨드 중의 하나이며, 파이썬 자체의 기능이 아니다.\n",
        ":::"
      ]
    },
    {
      "cell_type": "code",
      "execution_count": null,
      "metadata": {
        "id": "bGZeKKMkk5KL"
      },
      "outputs": [],
      "source": [
        "my_array = np.arange(10000001)\n",
        "my_list = list(range(10000001))"
      ]
    },
    {
      "cell_type": "code",
      "execution_count": null,
      "metadata": {
        "id": "yXHnbjQjk5KL",
        "outputId": "7e798736-dea6-4b32-efa4-4c0815a0cbe8"
      },
      "outputs": [
        {
          "name": "stdout",
          "output_type": "stream",
          "text": [
            "150 ms ± 2.29 ms per loop (mean ± std. dev. of 7 runs, 10 loops each)\n"
          ]
        }
      ],
      "source": [
        "%timeit for _ in range(10): my_array2 = my_array * 2"
      ]
    },
    {
      "cell_type": "code",
      "execution_count": null,
      "metadata": {
        "id": "2IbgQxPmk5KL",
        "outputId": "e401599b-a8dd-436e-8c0f-ba7156a18078"
      },
      "outputs": [
        {
          "name": "stdout",
          "output_type": "stream",
          "text": [
            "4.1 s ± 28 ms per loop (mean ± std. dev. of 7 runs, 1 loop each)\n"
          ]
        }
      ],
      "source": [
        "%timeit for _ in range(10): my_list2 = [x * 2 for x in my_list]"
      ]
    },
    {
      "cell_type": "markdown",
      "metadata": {
        "id": "H58xAy-Tk5KL"
      },
      "source": [
        "이전 코드에서 사용된 `np.arange()` 함수는 `range()` 함수와 유사하게 작동하지만\n",
        "반환값은 항상 넘파이 어레이다."
      ]
    },
    {
      "cell_type": "code",
      "execution_count": null,
      "metadata": {
        "id": "90yUDi2Xk5KM",
        "outputId": "bf9664cf-b4b7-45b0-966d-48bcf9c00e69"
      },
      "outputs": [
        {
          "data": {
            "text/plain": [
              "array([0, 1, 2, 3, 4, 5, 6, 7, 8, 9])"
            ]
          },
          "execution_count": 5,
          "metadata": {},
          "output_type": "execute_result"
        }
      ],
      "source": [
        "np.arange(10)"
      ]
    },
    {
      "cell_type": "markdown",
      "metadata": {
        "id": "N0zpIpirk5KM"
      },
      "source": [
        "넘퍼이 어레이 자료형의 연산은 기본적으로 항목별로 실행된다.\n",
        "따라서 어레이와 정수의 곱은 어레이의 각 항목에 정수를 곱해서 새로운 어레이를 생성한다."
      ]
    },
    {
      "cell_type": "code",
      "execution_count": null,
      "metadata": {
        "id": "51pXOQiKk5KM",
        "outputId": "2bf7b409-1067-46a4-fecb-92828da97a68"
      },
      "outputs": [
        {
          "data": {
            "text/plain": [
              "array([ 0,  2,  4,  6,  8, 10, 12, 14, 16, 18])"
            ]
          },
          "execution_count": 6,
          "metadata": {},
          "output_type": "execute_result"
        }
      ],
      "source": [
        "np.arange(10) * 2"
      ]
    },
    {
      "cell_type": "markdown",
      "metadata": {
        "id": "DOD2dFY6k5KM"
      },
      "source": [
        "이제부터 넘파이에 대해 필수적으로 알아 두어야만 하는 내용들을 정리하며 살펴본다."
      ]
    },
    {
      "cell_type": "markdown",
      "metadata": {
        "id": "Ps_tbRKMk5KM"
      },
      "source": [
        "## 다차원 어레이"
      ]
    },
    {
      "cell_type": "markdown",
      "metadata": {
        "id": "VBwh_qPEk5KM"
      },
      "source": [
        "넘파이 어레이는 리스트와는 달리 포함된 모양, 항목의 자료형 등에 대한 자료형 정보도 포함한다.\n",
        "모양에 따라 차원이 결정되며, 모든 항목은 동일한 자료형을 갖는다.\n",
        "가장 많이 활용되는 어레이의 차원은 다음과 같다."
      ]
    },
    {
      "cell_type": "markdown",
      "metadata": {
        "id": "GCzwX4y2k5KM"
      },
      "source": [
        "### 1차원 어레이"
      ]
    },
    {
      "cell_type": "markdown",
      "metadata": {
        "id": "Yk3QNMH0k5KM"
      },
      "source": [
        "리스트와 유사한 모양을 가지며, 리스트와 튜플 등에 `np.array()` 함수를 적용하여 생성할 수 있다.\n",
        "1차원 어레이는 **벡터**<font size='2'>vector</font>로도 불리며,\n",
        "한 개의 **축**<font size='2'>axis</font>을 갖는다."
      ]
    },
    {
      "cell_type": "markdown",
      "metadata": {
        "id": "SgaEzkt7k5KM"
      },
      "source": [
        "* 리스트 활용"
      ]
    },
    {
      "cell_type": "code",
      "execution_count": null,
      "metadata": {
        "id": "778-LV_Jk5KN",
        "outputId": "232b45b5-ff85-47c1-bc10-5ab59ed9fa49"
      },
      "outputs": [
        {
          "data": {
            "text/plain": [
              "array([6. , 7.5, 8. , 0. , 1. ])"
            ]
          },
          "execution_count": 7,
          "metadata": {},
          "output_type": "execute_result"
        }
      ],
      "source": [
        "data1 = [6, 7.5, 8, 0, 1]\n",
        "arr1 = np.array(data1)\n",
        "arr1"
      ]
    },
    {
      "cell_type": "markdown",
      "metadata": {
        "id": "DkjgeWsVk5KN"
      },
      "source": [
        "* 튜플 활용"
      ]
    },
    {
      "cell_type": "code",
      "execution_count": null,
      "metadata": {
        "id": "T6WivCTMk5KN",
        "outputId": "d2ceaa2b-50ac-4a46-cb9d-c8003cbefe39"
      },
      "outputs": [
        {
          "data": {
            "text/plain": [
              "array([6. , 7.5, 8. , 0. , 1. ])"
            ]
          },
          "execution_count": 8,
          "metadata": {},
          "output_type": "execute_result"
        }
      ],
      "source": [
        "data2 = (6, 7.5, 8, 0, 1)\n",
        "arr1 = np.array(data2)\n",
        "arr1"
      ]
    },
    {
      "cell_type": "markdown",
      "metadata": {
        "id": "FwJeFhCKk5KN"
      },
      "source": [
        "**`ndarray` 자료형**\n",
        "\n",
        "넘파이 어레이 자체의 자료형은 `ndarray`이다."
      ]
    },
    {
      "cell_type": "code",
      "execution_count": null,
      "metadata": {
        "id": "aQ0OdqAbk5KN",
        "outputId": "cf35a0af-c1a3-4bca-bfa2-250e9bdac3b7"
      },
      "outputs": [
        {
          "data": {
            "text/plain": [
              "numpy.ndarray"
            ]
          },
          "execution_count": 9,
          "metadata": {},
          "output_type": "execute_result"
        }
      ],
      "source": [
        "type(arr1)"
      ]
    },
    {
      "cell_type": "markdown",
      "metadata": {
        "id": "KH2iTQh2k5KN"
      },
      "source": [
        "참고로 리스트의 자료형은 `list`다."
      ]
    },
    {
      "cell_type": "code",
      "execution_count": null,
      "metadata": {
        "id": "1tZgHvOPk5KN",
        "outputId": "d0758fd2-63c8-4473-98eb-19926f6e32af"
      },
      "outputs": [
        {
          "data": {
            "text/plain": [
              "list"
            ]
          },
          "execution_count": 10,
          "metadata": {},
          "output_type": "execute_result"
        }
      ],
      "source": [
        "type(data1)"
      ]
    },
    {
      "cell_type": "markdown",
      "metadata": {
        "id": "8S7EPUnMk5KN"
      },
      "source": [
        "### 2차원 어레이"
      ]
    },
    {
      "cell_type": "markdown",
      "metadata": {
        "id": "UV-FGTR_k5KN"
      },
      "source": [
        "동일한 길이의 리스트를 항목으로 갖는 중첩 리스트를\n",
        "2차원 어레이로 변환할 수 있다.\n",
        "따라서 2차원 어레이는 어레이의 모든 항목은\n",
        "동일한 크기의 1차원 어레이이다.\n",
        "2차원 어레이는 **행렬**<font size='2'>matrix</font>로도 불리며,\n",
        "**행**<font size='2'>row</font>과 **열**<font size='2'>column</font>\n",
        "두 개의 축을 갖는다."
      ]
    },
    {
      "cell_type": "code",
      "execution_count": null,
      "metadata": {
        "id": "IBW1ernXk5KO",
        "outputId": "fc25751b-792a-4a07-f18a-6b751e713639"
      },
      "outputs": [
        {
          "data": {
            "text/plain": [
              "array([[1, 2, 3, 4],\n",
              "       [5, 6, 7, 8]])"
            ]
          },
          "execution_count": 11,
          "metadata": {},
          "output_type": "execute_result"
        }
      ],
      "source": [
        "data2 = [[1, 2, 3, 4], [5, 6, 7, 8]]\n",
        "arr2 = np.array(data2)\n",
        "arr2"
      ]
    },
    {
      "cell_type": "markdown",
      "metadata": {
        "id": "FVMWQGHAk5KO"
      },
      "source": [
        "**`shape`** 속성\n",
        "\n",
        "어레이 객체의 `shape` 속성은 생성된 어레이의 모양을 저장한다.\n",
        "예를 들어 위 2차원 어레이의 모양은 행과 열의 개수로 구성된 튜플 `(2, 4)`이다."
      ]
    },
    {
      "cell_type": "code",
      "execution_count": null,
      "metadata": {
        "id": "q-DtKGwtk5KO",
        "outputId": "491e746e-ecff-49cf-a667-210174e41e18"
      },
      "outputs": [
        {
          "data": {
            "text/plain": [
              "(2, 4)"
            ]
          },
          "execution_count": 12,
          "metadata": {},
          "output_type": "execute_result"
        }
      ],
      "source": [
        "arr2.shape"
      ]
    },
    {
      "cell_type": "markdown",
      "metadata": {
        "id": "p3RIngcok5KO"
      },
      "source": [
        "1차원 어레이, 즉 벡터의 모양은 벡터에 포함된 항목의 개수로 구성된\n",
        "길이가 1인 튜플로 표현된다."
      ]
    },
    {
      "cell_type": "code",
      "execution_count": null,
      "metadata": {
        "id": "8yiv_RlGk5KO",
        "outputId": "8b3ab736-2801-4f15-89c8-5545442c9531"
      },
      "outputs": [
        {
          "data": {
            "text/plain": [
              "(5,)"
            ]
          },
          "execution_count": 13,
          "metadata": {},
          "output_type": "execute_result"
        }
      ],
      "source": [
        "arr1.shape"
      ]
    },
    {
      "cell_type": "markdown",
      "metadata": {
        "id": "TRW6mDZtk5KO"
      },
      "source": [
        "**`ndim` 속성**"
      ]
    },
    {
      "cell_type": "markdown",
      "metadata": {
        "id": "38jhCvG4k5KO"
      },
      "source": [
        "차원은 `ndim` 속성에 저장되며, `shape`에 저정된 튜플의 길이와 동일하다."
      ]
    },
    {
      "cell_type": "code",
      "execution_count": null,
      "metadata": {
        "id": "XbXNVLg9k5KO",
        "outputId": "4aaadaac-5ad7-45bb-d439-d6d3a875241a"
      },
      "outputs": [
        {
          "data": {
            "text/plain": [
              "2"
            ]
          },
          "execution_count": 14,
          "metadata": {},
          "output_type": "execute_result"
        }
      ],
      "source": [
        "arr2.ndim"
      ]
    },
    {
      "cell_type": "markdown",
      "metadata": {
        "id": "UNgkuafCk5KS"
      },
      "source": [
        "1차원 어레이의 차원은 1이다."
      ]
    },
    {
      "cell_type": "code",
      "execution_count": null,
      "metadata": {
        "id": "yNQh9SBVk5KS",
        "outputId": "9239a8c5-3f81-4773-f6e0-26ec223d1891"
      },
      "outputs": [
        {
          "data": {
            "text/plain": [
              "1"
            ]
          },
          "execution_count": 15,
          "metadata": {},
          "output_type": "execute_result"
        }
      ],
      "source": [
        "arr1.ndim"
      ]
    },
    {
      "cell_type": "markdown",
      "metadata": {
        "id": "g47AOjNHk5KS"
      },
      "source": [
        "### 3차원 어레이"
      ]
    },
    {
      "cell_type": "markdown",
      "metadata": {
        "id": "0aMRMTGPk5KS"
      },
      "source": [
        "3차원 이상의 어레이는 처음에는 매우 생소하게 다가올 수 있다.\n",
        "하지만 이미지 데이터 분석에서 가장 기본으로 사용되는 차원이기에 3차원 어레이에 익숙해져야 한다.\n",
        "\n",
        "`(n, m, p)` 모양의 3차원 어레이를 이해하는 두 가지 방법은 다음과 같다.\n",
        "\n",
        "첫째, 바둑판을 `(n, m)` 크기의 격자로 나누고 각각의 칸에 길이가 `p` 인 1차원 어레이가\n",
        "위치하는 것으로 이해한다.\n",
        "예를 들어, 아래 그림은 작은 컬러 고양이 사진을 `(5, 5, 3)` 모양의 어레이로 표현한 방식을 보여준다.\n",
        "즉, 모든 항목이 (R, G, B) 색상 정보를 담은 길이가 3인 1차원 어레이인 2차원 어레이로 표현되었다."
      ]
    },
    {
      "cell_type": "markdown",
      "metadata": {
        "id": "D6Q9A0CJk5KS"
      },
      "source": [
        "<div align=\"center\" border=\"1px\"><img src=\"https://raw.githubusercontent.com/codingalzi/datapy/master/jupyter-book/images/rgb-3d-1.png\" style=\"width:80%;\"></div>\n",
        "\n",
        "<div align=\"center\" border=\"1px\"><img src=\"https://raw.githubusercontent.com/codingalzi/datapy/master/jupyter-book/images/rgb-3d-2.png\" style=\"width:80%;\"></div>\n",
        "\n",
        "<p><div style=\"text-align: center\">&lt;그림 출처: <a href=\"https://dev.to/sandeepbalachandran/machine-learning-going-furthur-with-cnn-part-2-41km\">Machine Learning - Going Furthur with CNN Part 2</a>&gt;</div></p>"
      ]
    },
    {
      "cell_type": "markdown",
      "metadata": {
        "id": "uzGaIyUZk5KS"
      },
      "source": [
        "둘째, `(m, p)` 모양의 2차원 어레이 `n` 개를 항목으로 갖는 1차원 어레이로 이해한다.\n",
        "아래 그림은 (3, 2) 모양의 2차원 어레이를 4개 포함한 1차원 어레이로 표현된 3차원 어레이로 이해할 수 있다."
      ]
    },
    {
      "cell_type": "markdown",
      "metadata": {
        "id": "bMcW_mHvk5KS"
      },
      "source": [
        "<div align=\"center\" border=\"1px\"><img src=\"https://raw.githubusercontent.com/codingalzi/datapy/master/jupyter-book/images/numpy-array.svg\" style=\"width:30%;\"></div>\n",
        "\n",
        "<p><div style=\"text-align: center\">&lt;그림 출처: <a href=\"https://www.reallifeedublogging.com/2020/07/numpy-arrays-and-data-analysis.html\">NumPy Arrays and Data Analysis</a>&gt;</div></p>"
      ]
    },
    {
      "cell_type": "raw",
      "metadata": {
        "id": "xb7kHn0sk5KS"
      },
      "source": [
        ":::{admonition} 어레이의 차원 대 벡터의 차원\n",
        ":class: info\n",
        "\n",
        "벡터는 1차원 어레이에 해당한다.\n",
        "그리고 **벡터의 차원**은 벡터에 포함된 항목의 개수를 가리킨다.\n",
        "따라서 벡터의 차원과 어레이의 차원은 전혀 다른 개념이다.\n",
        ":::"
      ]
    },
    {
      "cell_type": "markdown",
      "metadata": {
        "id": "lfNgtmuUk5KS"
      },
      "source": [
        "### 어레이 객체 생성 함수"
      ]
    },
    {
      "cell_type": "markdown",
      "metadata": {
        "id": "ahf-kJQak5KT"
      },
      "source": [
        "배열을 쉽게 생성할 수 있는 함수는 다음과 같으며,\n",
        "각 함수의 기능은\n",
        "[numpy cheat sheet](https://ipgp.github.io/scientific_python_cheat_sheet/?utm_content=buffer7d821&utm_medium=social&utm_source=twitter.com&utm_campaign=buffer#numpy-import-numpy-as-np)를\n",
        "참고한다.\n",
        "\n",
        "* `np.array()`\n",
        "* `np.arange()`\n",
        "* `np.diag()`\n",
        "* `np.empty()`\n",
        "* `np.ones()`\n",
        "* `np.zeros()`"
      ]
    },
    {
      "cell_type": "markdown",
      "metadata": {
        "id": "yC8L-cknk5KT"
      },
      "source": [
        "`np.array()` 함수는 앞서 소개하였으며\n",
        "추가로 `np.zeros()`, `np.arange()` 두 함수를 간략하게 다룬다.\n",
        "나머지 함수들은 연습문제를 통해 학습하도록 한다."
      ]
    },
    {
      "cell_type": "markdown",
      "metadata": {
        "id": "riHGZbDvk5KT"
      },
      "source": [
        "**`zeros()` 함수**\n",
        "\n",
        "0으로 이루어진 어레이를 생성한다.\n",
        "1차원인 경우 정수를 인자로 사용한다."
      ]
    },
    {
      "cell_type": "code",
      "execution_count": null,
      "metadata": {
        "id": "Pc_XhHhfk5KT",
        "outputId": "ce820526-65b4-41ef-85bc-97bf45add2ec"
      },
      "outputs": [
        {
          "data": {
            "text/plain": [
              "array([0., 0., 0., 0., 0., 0., 0., 0., 0., 0.])"
            ]
          },
          "execution_count": 16,
          "metadata": {},
          "output_type": "execute_result"
        }
      ],
      "source": [
        "np.zeros(10)"
      ]
    },
    {
      "cell_type": "markdown",
      "metadata": {
        "id": "TzNOwK0Ak5KT"
      },
      "source": [
        "2차원부터는 정수들의 튜플로 모양을 지정한다."
      ]
    },
    {
      "cell_type": "code",
      "execution_count": null,
      "metadata": {
        "id": "iGDUNEFzk5KT",
        "outputId": "897e2011-fd2f-49b6-e74d-33a4ff5b837b"
      },
      "outputs": [
        {
          "data": {
            "text/plain": [
              "array([[0., 0., 0., 0., 0., 0.],\n",
              "       [0., 0., 0., 0., 0., 0.],\n",
              "       [0., 0., 0., 0., 0., 0.]])"
            ]
          },
          "execution_count": 17,
          "metadata": {},
          "output_type": "execute_result"
        }
      ],
      "source": [
        "np.zeros((3, 6))"
      ]
    },
    {
      "cell_type": "code",
      "execution_count": null,
      "metadata": {
        "id": "kJ3EB4urk5KT",
        "outputId": "e8068ca0-c2d9-4fc2-a339-1c41d2c9f5e7"
      },
      "outputs": [
        {
          "data": {
            "text/plain": [
              "array([[[0., 0.],\n",
              "        [0., 0.],\n",
              "        [0., 0.]],\n",
              "\n",
              "       [[0., 0.],\n",
              "        [0., 0.],\n",
              "        [0., 0.]],\n",
              "\n",
              "       [[0., 0.],\n",
              "        [0., 0.],\n",
              "        [0., 0.]],\n",
              "\n",
              "       [[0., 0.],\n",
              "        [0., 0.],\n",
              "        [0., 0.]]])"
            ]
          },
          "execution_count": 18,
          "metadata": {},
          "output_type": "execute_result"
        }
      ],
      "source": [
        "np.zeros((4, 3, 2))"
      ]
    },
    {
      "cell_type": "markdown",
      "metadata": {
        "id": "MhykLdC1k5KU"
      },
      "source": [
        "**`arange()` 함수**\n",
        "\n",
        "`range()` 함수와 유사하게 작동하며 부동소수점 스텝도 지원한다."
      ]
    },
    {
      "cell_type": "code",
      "execution_count": null,
      "metadata": {
        "id": "A-C1ud39k5KU",
        "outputId": "d3742d04-6362-44c0-e3c0-0ba29674dbb1"
      },
      "outputs": [
        {
          "data": {
            "text/plain": [
              "array([ 0,  1,  2,  3,  4,  5,  6,  7,  8,  9, 10, 11, 12, 13, 14])"
            ]
          },
          "execution_count": 19,
          "metadata": {},
          "output_type": "execute_result"
        }
      ],
      "source": [
        "np.arange(15)"
      ]
    },
    {
      "cell_type": "code",
      "execution_count": null,
      "metadata": {
        "id": "-QsO0Rzak5KU",
        "outputId": "5d13369e-f2b6-430d-9ba7-b3b8bd5bedcd"
      },
      "outputs": [
        {
          "data": {
            "text/plain": [
              "array([0. , 0.1, 0.2, 0.3, 0.4, 0.5, 0.6, 0.7, 0.8, 0.9])"
            ]
          },
          "execution_count": 20,
          "metadata": {},
          "output_type": "execute_result"
        }
      ],
      "source": [
        "np.arange(0, 1, 0.1)"
      ]
    },
    {
      "cell_type": "markdown",
      "metadata": {
        "id": "yyPc1oEck5KU"
      },
      "source": [
        "## `dtype` 종류"
      ]
    },
    {
      "cell_type": "markdown",
      "metadata": {
        "id": "GKZxr_etk5KU"
      },
      "source": [
        "넘파이 어레이의 `dtype` 속성은 어레이 항목의 자료형을 담고 있으며, 파이썬 표준 라이브러리에서 제공하는\n",
        "`int`, `float`, `str`, `bool` 등을 보다 세분화시킨 자료형을 제공한다."
      ]
    },
    {
      "cell_type": "markdown",
      "metadata": {
        "id": "p_Lkin7Fk5KU"
      },
      "source": [
        "### 기본 `dtype`"
      ]
    },
    {
      "cell_type": "markdown",
      "metadata": {
        "id": "6S_QjZPek5KU"
      },
      "source": [
        "여기서는 세분화된 자료형을 일일이 설명하기 보다는 예제를 이용하여 세분화된 자료형의 형식을\n",
        "살펴본다.\n",
        "자료형 세분화는 주로 자료형의 객체가 사용하는 메모리 용량을 제한하는 형식으로 이루어진다.\n",
        "이를 통해 보다 메모리 효율적이며 빠른 계산이 가능해졌다."
      ]
    },
    {
      "cell_type": "markdown",
      "metadata": {
        "id": "KcJZGjY1k5KU"
      },
      "source": [
        "| 자료형 | 자료형 코드 | 설명 |\n",
        "| :--- | :--- | :--- |\n",
        "| int8 / uint8 | 'i1' / 'u1' | signed / unsigned 8 비트 정수|\n",
        "| int16 / uint16 | 'i2' / 'u2' | signed / unsigned 16 비트 정수|\n",
        "| int32 / uint32 | 'i4' / 'u4' | signed / unsigned 32 비트 정수|\n",
        "| int64 / uint64 | 'i8' / 'u8' | signed / unsigned 64 비트 정수|\n",
        "| float16 | 'f2' | 16비트 부동소수점 |\n",
        "| float32 | 'f4' 또는 'f' | 32비트 부동소수점 |\n",
        "| float64 | 'f8' 또는 'd' | 64비트 부동소수점 |\n",
        "| float128 | 'f16' 또는 'g' | 128비트 부동소수점 |\n",
        "| bool | '?' | 부울 값 |\n",
        "| object | 'O' | 임의의 파이썬 객체 |\n",
        "| string_ | 'S' | 고정 길이 아스키 문자열 / 예) `S8`, `S10` |\n",
        "| unicode_ | 'U' | 고정 길이 유니코드 문자열 / 예) `U8`, `U10`|"
      ]
    },
    {
      "cell_type": "markdown",
      "metadata": {
        "id": "rmLmyNhZk5KU"
      },
      "source": [
        "**`float64` 자료형**"
      ]
    },
    {
      "cell_type": "code",
      "execution_count": null,
      "metadata": {
        "id": "zp6tiaZCk5KV",
        "outputId": "b5d30321-0837-4881-ab81-6a38ae85938b"
      },
      "outputs": [
        {
          "data": {
            "text/plain": [
              "dtype('float64')"
            ]
          },
          "execution_count": 21,
          "metadata": {},
          "output_type": "execute_result"
        }
      ],
      "source": [
        "arr1 = np.array([1, 2, 3], dtype=np.float64)\n",
        "\n",
        "arr1.dtype"
      ]
    },
    {
      "cell_type": "code",
      "execution_count": null,
      "metadata": {
        "id": "gw17TIJBk5KV",
        "outputId": "c7db21bf-ec18-44a8-a852-0adcce9ce79c"
      },
      "outputs": [
        {
          "data": {
            "text/plain": [
              "dtype('float64')"
            ]
          },
          "execution_count": 22,
          "metadata": {},
          "output_type": "execute_result"
        }
      ],
      "source": [
        "arr1 = np.array([1, 2, 3], dtype='f8')\n",
        "\n",
        "arr1.dtype"
      ]
    },
    {
      "cell_type": "markdown",
      "metadata": {
        "id": "cLiNxHAYk5KV"
      },
      "source": [
        "**`int32` 자료형**"
      ]
    },
    {
      "cell_type": "code",
      "execution_count": null,
      "metadata": {
        "id": "YlLgIF_uk5KV",
        "outputId": "0a5b7745-a778-473c-b151-dee919821df0"
      },
      "outputs": [
        {
          "data": {
            "text/plain": [
              "dtype('int32')"
            ]
          },
          "execution_count": 23,
          "metadata": {},
          "output_type": "execute_result"
        }
      ],
      "source": [
        "arr2 = np.array([1, 2, 3], dtype=np.int32)\n",
        "\n",
        "arr2.dtype"
      ]
    },
    {
      "cell_type": "code",
      "execution_count": null,
      "metadata": {
        "id": "xmyEvJUAk5KV",
        "outputId": "e48be026-d2b9-4965-e2be-01e4c77d791b"
      },
      "outputs": [
        {
          "data": {
            "text/plain": [
              "dtype('int32')"
            ]
          },
          "execution_count": 24,
          "metadata": {},
          "output_type": "execute_result"
        }
      ],
      "source": [
        "arr2 = np.array([1, 2, 3], dtype='i4')\n",
        "\n",
        "arr2.dtype"
      ]
    },
    {
      "cell_type": "markdown",
      "metadata": {
        "id": "gxIa3aw8k5KV"
      },
      "source": [
        "**문자열 자료형**"
      ]
    },
    {
      "cell_type": "markdown",
      "metadata": {
        "id": "cdXs_paMk5KV"
      },
      "source": [
        "문자열은 기본적으로 유니코드로 처리되며 크기는 최장 길이의 문자열에 맞춰 결정된다."
      ]
    },
    {
      "cell_type": "code",
      "execution_count": null,
      "metadata": {
        "id": "zoQ7SLosk5KV",
        "outputId": "27447374-566f-4685-ebfc-7acb883556cd"
      },
      "outputs": [
        {
          "data": {
            "text/plain": [
              "dtype('<U6')"
            ]
          },
          "execution_count": 25,
          "metadata": {},
          "output_type": "execute_result"
        }
      ],
      "source": [
        "np.array(['python', 'data']).dtype"
      ]
    },
    {
      "cell_type": "code",
      "execution_count": null,
      "metadata": {
        "id": "OO-Pyocvk5KV",
        "outputId": "7301912b-5ce8-48c2-9fef-c3e7b3565a09"
      },
      "outputs": [
        {
          "data": {
            "text/plain": [
              "dtype('<U4')"
            ]
          },
          "execution_count": 26,
          "metadata": {},
          "output_type": "execute_result"
        }
      ],
      "source": [
        "numeric_strings = np.array(['1.25', '-9.6', '42'])\n",
        "numeric_strings.dtype"
      ]
    },
    {
      "cell_type": "markdown",
      "metadata": {
        "id": "lqFRdLaEk5KW"
      },
      "source": [
        "**`bool` 자료형**"
      ]
    },
    {
      "cell_type": "code",
      "execution_count": null,
      "metadata": {
        "id": "MAz-BXWek5KW",
        "outputId": "1b4b350c-86c5-4269-d2b3-488d2e7c785a"
      },
      "outputs": [
        {
          "data": {
            "text/plain": [
              "dtype('bool')"
            ]
          },
          "execution_count": 27,
          "metadata": {},
          "output_type": "execute_result"
        }
      ],
      "source": [
        "np.array([True, False], dtype='?').dtype"
      ]
    },
    {
      "cell_type": "markdown",
      "metadata": {
        "id": "lvl9vAHrk5KW"
      },
      "source": [
        "### 형변환: `astype()` 메서드"
      ]
    },
    {
      "cell_type": "markdown",
      "metadata": {
        "id": "Cphb1z-0k5KW"
      },
      "source": [
        "`astype()` 메서드를 이용하여 dtype을 변경할 수 있다.\n",
        "즉, 항목의 자료형을 강제로 변환시킨다.\n",
        "\n",
        "* `int` 자료형을 `float` 자료형으로 형변환하기"
      ]
    },
    {
      "cell_type": "code",
      "execution_count": null,
      "metadata": {
        "id": "xjBM79KJk5KW",
        "outputId": "a0f356e3-12ec-4950-d2db-6ac5c0de9f16"
      },
      "outputs": [
        {
          "data": {
            "text/plain": [
              "dtype('int64')"
            ]
          },
          "execution_count": 28,
          "metadata": {},
          "output_type": "execute_result"
        }
      ],
      "source": [
        "arr = np.array([1, 2, 3, 4, 5])\n",
        "arr.dtype"
      ]
    },
    {
      "cell_type": "code",
      "execution_count": null,
      "metadata": {
        "id": "qSSAUJATk5KW",
        "outputId": "d8ae8df7-745d-4288-e790-446e34354aaf"
      },
      "outputs": [
        {
          "data": {
            "text/plain": [
              "dtype('float64')"
            ]
          },
          "execution_count": 29,
          "metadata": {},
          "output_type": "execute_result"
        }
      ],
      "source": [
        "float_arr = arr.astype(np.float64)\n",
        "float_arr.dtype"
      ]
    },
    {
      "cell_type": "markdown",
      "metadata": {
        "id": "pSLf9OcYk5KW"
      },
      "source": [
        "* `float` 자료형을 `int` 자료형으로 형변환하기\n",
        "    - 소수점 이하는 버림."
      ]
    },
    {
      "cell_type": "code",
      "execution_count": null,
      "metadata": {
        "id": "koBDQY0Kk5KW",
        "outputId": "1a6f5daa-2525-45df-f9a8-dc79eb16e2b7"
      },
      "outputs": [
        {
          "data": {
            "text/plain": [
              "array([ 3.7, -1.2, -2.6,  0.5, 12.9, 10.1])"
            ]
          },
          "execution_count": 30,
          "metadata": {},
          "output_type": "execute_result"
        }
      ],
      "source": [
        "arr = np.array([3.7, -1.2, -2.6, 0.5, 12.9, 10.1])\n",
        "arr"
      ]
    },
    {
      "cell_type": "code",
      "execution_count": null,
      "metadata": {
        "id": "3kdLonflk5KW",
        "outputId": "865ac8aa-48d9-4995-d2fe-32c89de6abf3"
      },
      "outputs": [
        {
          "data": {
            "text/plain": [
              "array([ 3, -1, -2,  0, 12, 10], dtype=int32)"
            ]
          },
          "execution_count": 31,
          "metadata": {},
          "output_type": "execute_result"
        }
      ],
      "source": [
        "arr.astype(np.int32)"
      ]
    },
    {
      "cell_type": "markdown",
      "metadata": {
        "id": "cvCsHnnmk5KX"
      },
      "source": [
        "* 숫자 형식의 문자열을 숫자로 형변환하기: 문자열 자료형의 크기는 넘파이가 알아서 정함"
      ]
    },
    {
      "cell_type": "code",
      "execution_count": null,
      "metadata": {
        "id": "0Y-o3ApDk5KX",
        "outputId": "f63c7c34-0881-4123-c99d-94475c94854d"
      },
      "outputs": [
        {
          "data": {
            "text/plain": [
              "dtype('<U4')"
            ]
          },
          "execution_count": 32,
          "metadata": {},
          "output_type": "execute_result"
        }
      ],
      "source": [
        "numeric_strings = np.array(['1.25', '-9.6', '42'])\n",
        "numeric_strings.dtype"
      ]
    },
    {
      "cell_type": "code",
      "execution_count": null,
      "metadata": {
        "id": "KGfIHWfdk5KX",
        "outputId": "7b09f9bd-d9da-46be-9aae-ab04ed54b111"
      },
      "outputs": [
        {
          "data": {
            "text/plain": [
              "array([ 1.25, -9.6 , 42.  ])"
            ]
          },
          "execution_count": 33,
          "metadata": {},
          "output_type": "execute_result"
        }
      ],
      "source": [
        "numeric_strings.astype(float)"
      ]
    },
    {
      "cell_type": "code",
      "execution_count": null,
      "metadata": {
        "id": "N86fvqetk5KX",
        "outputId": "8a29d32b-d5f9-4ac2-d158-0009801e2997"
      },
      "outputs": [
        {
          "data": {
            "text/plain": [
              "dtype('S12')"
            ]
          },
          "execution_count": 34,
          "metadata": {},
          "output_type": "execute_result"
        }
      ],
      "source": [
        "numeric_strings2 = np.array(['1.25345', '-9.673811345', '42'], dtype=np.string_)\n",
        "numeric_strings2.dtype"
      ]
    },
    {
      "cell_type": "markdown",
      "metadata": {
        "id": "Nt3OFoRak5KX"
      },
      "source": [
        "* 부동소수점으로 형변환하면\n",
        "    지정된 정밀도에 따라 소수점 이하를 자른다."
      ]
    },
    {
      "cell_type": "code",
      "execution_count": null,
      "metadata": {
        "id": "PLjJv2IEk5KX",
        "outputId": "0311f962-4ed2-486c-b5c0-176029304f5a"
      },
      "outputs": [
        {
          "data": {
            "text/plain": [
              "array([ 1.2534, -9.6738, 42.    ])"
            ]
          },
          "execution_count": 35,
          "metadata": {},
          "output_type": "execute_result"
        }
      ],
      "source": [
        "numeric_strings2.astype(float)"
      ]
    },
    {
      "cell_type": "markdown",
      "metadata": {
        "id": "kO7eJzQmk5KX"
      },
      "source": [
        "**주의사항:** 앞서 부동소수점 정밀도를 4로 지정했기 때문에 어레이 항목은 모두 소수점 이하 네 자리까지만 보여준다.\n",
        "\n",
        "```python\n",
        "np.set_printoptions(precision=4, suppress=True)\n",
        "```\n",
        "\n",
        "부동소수점 정밀도를 변경하면 그에 따라 다르게 결정된다."
      ]
    },
    {
      "cell_type": "code",
      "execution_count": null,
      "metadata": {
        "id": "DkiAje5xk5KX"
      },
      "outputs": [],
      "source": [
        "np.set_printoptions(precision=6, suppress=True)"
      ]
    },
    {
      "cell_type": "code",
      "execution_count": null,
      "metadata": {
        "id": "DqqoZaPak5KY",
        "outputId": "61d88674-6155-41af-8bab-bf4ab7b83fe4"
      },
      "outputs": [
        {
          "data": {
            "text/plain": [
              "array([ 1.25345 , -9.673811, 42.      ])"
            ]
          },
          "execution_count": 37,
          "metadata": {},
          "output_type": "execute_result"
        }
      ],
      "source": [
        "numeric_strings2.astype(float)"
      ]
    },
    {
      "cell_type": "markdown",
      "metadata": {
        "id": "w9gWfq0Kk5KY"
      },
      "source": [
        "## 어레이 연산"
      ]
    },
    {
      "cell_type": "markdown",
      "metadata": {
        "id": "0r0ZsPRXk5KY"
      },
      "source": [
        "넘파이 어레이 연산은 기본적으로 항목별로 이루어진다.\n",
        "즉, 지정된 연산을 동일한 위치의 항목끼리 실행하여 새로운, 동일한 모양의 어레이를 생성한다."
      ]
    },
    {
      "cell_type": "code",
      "execution_count": null,
      "metadata": {
        "id": "LLrNcLXWk5KY",
        "outputId": "7b0a3d01-554a-4dab-82b9-1e9bbecabb46"
      },
      "outputs": [
        {
          "data": {
            "text/plain": [
              "array([[1., 2., 3.],\n",
              "       [4., 5., 6.]])"
            ]
          },
          "execution_count": 38,
          "metadata": {},
          "output_type": "execute_result"
        }
      ],
      "source": [
        "arr = np.array([[1., 2., 3.], [4., 5., 6.]])\n",
        "arr"
      ]
    },
    {
      "cell_type": "code",
      "execution_count": null,
      "metadata": {
        "id": "pm0SfCuZk5KY",
        "outputId": "0e8084d6-86b9-4d6a-d073-d3aa9d340b27"
      },
      "outputs": [
        {
          "data": {
            "text/plain": [
              "array([[ 3.,  2.,  1.],\n",
              "       [ 4.,  2., 12.]])"
            ]
          },
          "execution_count": 39,
          "metadata": {},
          "output_type": "execute_result"
        }
      ],
      "source": [
        "arr2 = np.array([[3., 2., 1.], [4., 2., 12.]])\n",
        "arr2"
      ]
    },
    {
      "cell_type": "markdown",
      "metadata": {
        "id": "71HDHGcdk5KY"
      },
      "source": [
        "**덧셈**"
      ]
    },
    {
      "cell_type": "code",
      "execution_count": null,
      "metadata": {
        "id": "mME3cSeFk5KY",
        "outputId": "15768dbf-a2cf-419d-ae10-ab8df66ba847"
      },
      "outputs": [
        {
          "data": {
            "text/plain": [
              "array([[ 4.,  4.,  4.],\n",
              "       [ 8.,  7., 18.]])"
            ]
          },
          "execution_count": 40,
          "metadata": {},
          "output_type": "execute_result"
        }
      ],
      "source": [
        "arr + arr2"
      ]
    },
    {
      "cell_type": "markdown",
      "metadata": {
        "id": "6FDmcQE0k5KY"
      },
      "source": [
        "숫자와의 연산은 모든 항목에 동일한 값을 사용한다."
      ]
    },
    {
      "cell_type": "code",
      "execution_count": null,
      "metadata": {
        "id": "tddH6HFfk5KY",
        "outputId": "0ddddcc1-ef9d-48ce-df81-3bd958b43a0a"
      },
      "outputs": [
        {
          "data": {
            "text/plain": [
              "array([[3.4, 4.4, 5.4],\n",
              "       [6.4, 7.4, 8.4]])"
            ]
          },
          "execution_count": 41,
          "metadata": {},
          "output_type": "execute_result"
        }
      ],
      "source": [
        "arr + 2.4"
      ]
    },
    {
      "cell_type": "markdown",
      "metadata": {
        "id": "EhkerZ1Jk5KY"
      },
      "source": [
        "행별로 다른 일정한 값을 더하려면 다음과 같이 1개의 열로 구성된 2차원 어레이를 사용하면 된다.\n",
        "아래 두 코드는 행별로 각각 4와 8을 더한다."
      ]
    },
    {
      "cell_type": "code",
      "execution_count": null,
      "metadata": {
        "id": "xv2TfMEzk5KZ",
        "outputId": "55dc9cd9-7370-46a8-fa02-137ee8562bf8"
      },
      "outputs": [
        {
          "data": {
            "text/plain": [
              "array([[4],\n",
              "       [8]])"
            ]
          },
          "execution_count": 42,
          "metadata": {},
          "output_type": "execute_result"
        }
      ],
      "source": [
        "arr3 = np.array([[4], [8]])\n",
        "arr3"
      ]
    },
    {
      "cell_type": "code",
      "execution_count": null,
      "metadata": {
        "id": "fytaXkZwk5KZ",
        "outputId": "4c664d7e-c977-4a7b-8536-73f677fa9634"
      },
      "outputs": [
        {
          "data": {
            "text/plain": [
              "array([[ 5.,  6.,  7.],\n",
              "       [12., 13., 14.]])"
            ]
          },
          "execution_count": 43,
          "metadata": {},
          "output_type": "execute_result"
        }
      ],
      "source": [
        "arr + arr3"
      ]
    },
    {
      "cell_type": "markdown",
      "metadata": {
        "id": "dOS102q5k5KZ"
      },
      "source": [
        "**뺄셈**"
      ]
    },
    {
      "cell_type": "code",
      "execution_count": null,
      "metadata": {
        "id": "Xfv4-hRyk5KZ",
        "outputId": "6c8f242d-bfa0-4799-c0c5-222a6f090801"
      },
      "outputs": [
        {
          "data": {
            "text/plain": [
              "array([[-2.,  0.,  2.],\n",
              "       [ 0.,  3., -6.]])"
            ]
          },
          "execution_count": 44,
          "metadata": {},
          "output_type": "execute_result"
        }
      ],
      "source": [
        "arr - arr2"
      ]
    },
    {
      "cell_type": "code",
      "execution_count": null,
      "metadata": {
        "id": "EBS-qb9zk5KZ",
        "outputId": "2d842fa1-3873-4b90-b68c-5a96bd577b76"
      },
      "outputs": [
        {
          "data": {
            "text/plain": [
              "array([[ 2.78,  1.78,  0.78],\n",
              "       [-0.22, -1.22, -2.22]])"
            ]
          },
          "execution_count": 45,
          "metadata": {},
          "output_type": "execute_result"
        }
      ],
      "source": [
        "3.78 - arr"
      ]
    },
    {
      "cell_type": "markdown",
      "metadata": {
        "id": "iXdxWq6Tk5KZ"
      },
      "source": [
        "아래 코드는 행별로 각각 4와 8을 뺀다."
      ]
    },
    {
      "cell_type": "code",
      "execution_count": null,
      "metadata": {
        "id": "ElfyBarsk5KZ",
        "outputId": "0cf5cb08-274a-45f6-cc14-aa32bac730ca"
      },
      "outputs": [
        {
          "data": {
            "text/plain": [
              "array([[-3., -2., -1.],\n",
              "       [-4., -3., -2.]])"
            ]
          },
          "execution_count": 46,
          "metadata": {},
          "output_type": "execute_result"
        }
      ],
      "source": [
        "arr - arr3"
      ]
    },
    {
      "cell_type": "markdown",
      "metadata": {
        "id": "AAG0FOL8k5KZ"
      },
      "source": [
        "**곱셈**"
      ]
    },
    {
      "cell_type": "markdown",
      "metadata": {
        "id": "4HLl9ty2k5KZ"
      },
      "source": [
        "나눗셈 또한 항목별로 연산이 이루어진다.\n",
        "따라서 0이 항목으로 포함되면 오류가 발생한다."
      ]
    },
    {
      "cell_type": "code",
      "execution_count": null,
      "metadata": {
        "id": "zpElt9Z5k5KZ",
        "outputId": "3b832268-d61b-4771-e23f-22506e6da862"
      },
      "outputs": [
        {
          "data": {
            "text/plain": [
              "array([[ 3.,  4.,  3.],\n",
              "       [16., 10., 72.]])"
            ]
          },
          "execution_count": 47,
          "metadata": {},
          "output_type": "execute_result"
        }
      ],
      "source": [
        "arr * arr2"
      ]
    },
    {
      "cell_type": "code",
      "execution_count": null,
      "metadata": {
        "id": "i3HcrEkZk5Ka",
        "outputId": "8f082a36-2c18-4570-b1bc-b8961932b371"
      },
      "outputs": [
        {
          "data": {
            "text/plain": [
              "array([[1., 2., 3.],\n",
              "       [4., 5., 6.]])"
            ]
          },
          "execution_count": 48,
          "metadata": {},
          "output_type": "execute_result"
        }
      ],
      "source": [
        "1 * arr"
      ]
    },
    {
      "cell_type": "code",
      "execution_count": null,
      "metadata": {
        "id": "mpIatvdYk5Ka",
        "outputId": "d2fe6f46-62ff-4548-b9a3-6782d09e90a8"
      },
      "outputs": [
        {
          "data": {
            "text/plain": [
              "array([[ 3.2,  6.4,  9.6],\n",
              "       [12.8, 16. , 19.2]])"
            ]
          },
          "execution_count": 49,
          "metadata": {},
          "output_type": "execute_result"
        }
      ],
      "source": [
        "arr * 3.2"
      ]
    },
    {
      "cell_type": "markdown",
      "metadata": {
        "id": "sfKMUp0ok5Ka"
      },
      "source": [
        "아래 코드는 행별로 각각 4와 8을 곱한다."
      ]
    },
    {
      "cell_type": "code",
      "execution_count": null,
      "metadata": {
        "id": "CQ-nkbYXk5Ka",
        "outputId": "e806aacb-4302-45b5-ae10-4bfa0ed266cc"
      },
      "outputs": [
        {
          "data": {
            "text/plain": [
              "array([[ 4.,  8., 12.],\n",
              "       [32., 40., 48.]])"
            ]
          },
          "execution_count": 50,
          "metadata": {},
          "output_type": "execute_result"
        }
      ],
      "source": [
        "arr * arr3"
      ]
    },
    {
      "cell_type": "markdown",
      "metadata": {
        "id": "xczwxXzfk5Ka"
      },
      "source": [
        "**나눗셈**"
      ]
    },
    {
      "cell_type": "markdown",
      "metadata": {
        "id": "m5NZ7fJak5Ka"
      },
      "source": [
        "나눗셈 또한 항목별로 연산이 이루어진다.\n",
        "따라서 0이 항목으로 포함되면 오류가 발생한다."
      ]
    },
    {
      "cell_type": "code",
      "execution_count": null,
      "metadata": {
        "id": "YzKPidvfk5Ka",
        "outputId": "44a5cc05-7def-4ee7-cde7-46eff365416f"
      },
      "outputs": [
        {
          "data": {
            "text/plain": [
              "array([[0.333333, 1.      , 3.      ],\n",
              "       [1.      , 2.5     , 0.5     ]])"
            ]
          },
          "execution_count": 51,
          "metadata": {},
          "output_type": "execute_result"
        }
      ],
      "source": [
        "arr / arr2"
      ]
    },
    {
      "cell_type": "code",
      "execution_count": null,
      "metadata": {
        "id": "7HjhtAbfk5Ka",
        "outputId": "47219858-6fb4-4df4-c047-4e5302125bef"
      },
      "outputs": [
        {
          "data": {
            "text/plain": [
              "array([[1.      , 0.5     , 0.333333],\n",
              "       [0.25    , 0.2     , 0.166667]])"
            ]
          },
          "execution_count": 52,
          "metadata": {},
          "output_type": "execute_result"
        }
      ],
      "source": [
        "1 / arr"
      ]
    },
    {
      "cell_type": "code",
      "execution_count": null,
      "metadata": {
        "id": "7P0oG6smk5Ka",
        "outputId": "19aa97ed-a7a2-4e1d-af78-006b70fe3820"
      },
      "outputs": [
        {
          "data": {
            "text/plain": [
              "array([[0.3125, 0.625 , 0.9375],\n",
              "       [1.25  , 1.5625, 1.875 ]])"
            ]
          },
          "execution_count": 53,
          "metadata": {},
          "output_type": "execute_result"
        }
      ],
      "source": [
        "arr / 3.2"
      ]
    },
    {
      "cell_type": "markdown",
      "metadata": {
        "id": "Vp3xXxqik5Kb"
      },
      "source": [
        "아래 코드는 행별로 각각 4와 8을 나눈다."
      ]
    },
    {
      "cell_type": "code",
      "execution_count": null,
      "metadata": {
        "id": "lGySbWO2k5Kb",
        "outputId": "f010e417-17ed-419b-c04b-842e6bc345ff"
      },
      "outputs": [
        {
          "data": {
            "text/plain": [
              "array([[0.25 , 0.5  , 0.75 ],\n",
              "       [0.5  , 0.625, 0.75 ]])"
            ]
          },
          "execution_count": 54,
          "metadata": {},
          "output_type": "execute_result"
        }
      ],
      "source": [
        "arr / arr3"
      ]
    },
    {
      "cell_type": "markdown",
      "metadata": {
        "id": "6T9fmooBk5Kb"
      },
      "source": [
        "**거듭제곱(지수승)**"
      ]
    },
    {
      "cell_type": "code",
      "execution_count": null,
      "metadata": {
        "id": "Vz4r62Hck5Kb",
        "outputId": "ed8be32b-a787-4806-ee71-cd2a00d01c09"
      },
      "outputs": [
        {
          "data": {
            "text/plain": [
              "array([[1.000000e+00, 4.000000e+00, 3.000000e+00],\n",
              "       [2.560000e+02, 2.500000e+01, 2.176782e+09]])"
            ]
          },
          "execution_count": 55,
          "metadata": {},
          "output_type": "execute_result"
        }
      ],
      "source": [
        "arr ** arr2"
      ]
    },
    {
      "cell_type": "code",
      "execution_count": null,
      "metadata": {
        "id": "lE55EEHQk5Kb",
        "outputId": "568e201d-3aaf-46a4-81f3-7de0ae3570a7"
      },
      "outputs": [
        {
          "data": {
            "text/plain": [
              "array([[ 2.,  4.,  8.],\n",
              "       [16., 32., 64.]])"
            ]
          },
          "execution_count": 56,
          "metadata": {},
          "output_type": "execute_result"
        }
      ],
      "source": [
        "2 ** arr"
      ]
    },
    {
      "cell_type": "code",
      "execution_count": null,
      "metadata": {
        "id": "g2boxpl8k5Kb",
        "outputId": "a7f9d39f-86c5-4d50-b618-bf81f2ddd617"
      },
      "outputs": [
        {
          "data": {
            "text/plain": [
              "array([[1.      , 1.414214, 1.732051],\n",
              "       [2.      , 2.236068, 2.44949 ]])"
            ]
          },
          "execution_count": 57,
          "metadata": {},
          "output_type": "execute_result"
        }
      ],
      "source": [
        "arr ** 0.5"
      ]
    },
    {
      "cell_type": "markdown",
      "metadata": {
        "id": "zjj8mMcBk5Kb"
      },
      "source": [
        "아래 코드는 행별로 각각 4승과 8승을 계산한다."
      ]
    },
    {
      "cell_type": "code",
      "execution_count": null,
      "metadata": {
        "id": "BbOwfP9Pk5Kb",
        "outputId": "c96bf243-1da9-407f-a26e-7744e0d9246c"
      },
      "outputs": [
        {
          "data": {
            "text/plain": [
              "array([[      1.,      16.,      81.],\n",
              "       [  65536.,  390625., 1679616.]])"
            ]
          },
          "execution_count": 58,
          "metadata": {},
          "output_type": "execute_result"
        }
      ],
      "source": [
        "arr ** arr3"
      ]
    },
    {
      "cell_type": "markdown",
      "metadata": {
        "id": "MQ2LYw39k5Kb"
      },
      "source": [
        "**비교 연산**"
      ]
    },
    {
      "cell_type": "code",
      "execution_count": null,
      "metadata": {
        "id": "uWJ4J7Bmk5Kc",
        "outputId": "48a6af7c-a4e3-43b9-a623-88a1d8e664f6"
      },
      "outputs": [
        {
          "data": {
            "text/plain": [
              "array([[ True, False, False],\n",
              "       [False, False,  True]])"
            ]
          },
          "execution_count": 59,
          "metadata": {},
          "output_type": "execute_result"
        }
      ],
      "source": [
        "arr2 > arr"
      ]
    },
    {
      "cell_type": "code",
      "execution_count": null,
      "metadata": {
        "id": "Qann_x-gk5Kc",
        "outputId": "e6bfa905-f11a-4b96-c340-b4fcd14bb9cf"
      },
      "outputs": [
        {
          "data": {
            "text/plain": [
              "array([[False,  True,  True],\n",
              "       [ True,  True, False]])"
            ]
          },
          "execution_count": 60,
          "metadata": {},
          "output_type": "execute_result"
        }
      ],
      "source": [
        "arr2 <= arr"
      ]
    },
    {
      "cell_type": "code",
      "execution_count": null,
      "metadata": {
        "id": "ED806vN6k5Kc",
        "outputId": "8bc39cb6-d0ce-4cad-d7f2-e31d0ffa8267"
      },
      "outputs": [
        {
          "data": {
            "text/plain": [
              "array([[False,  True,  True],\n",
              "       [ True,  True,  True]])"
            ]
          },
          "execution_count": 61,
          "metadata": {},
          "output_type": "execute_result"
        }
      ],
      "source": [
        "1.2 < arr"
      ]
    },
    {
      "cell_type": "code",
      "execution_count": null,
      "metadata": {
        "id": "R1xgzMNCk5Kc",
        "outputId": "8503701a-1617-4180-ad1a-abc6a22af248"
      },
      "outputs": [
        {
          "data": {
            "text/plain": [
              "array([[False, False,  True],\n",
              "       [False, False, False]])"
            ]
          },
          "execution_count": 62,
          "metadata": {},
          "output_type": "execute_result"
        }
      ],
      "source": [
        "1.2 >= arr2"
      ]
    },
    {
      "cell_type": "code",
      "execution_count": null,
      "metadata": {
        "id": "fc_H436Qk5Kc",
        "outputId": "fbbc66e5-e6b1-4f51-8b3c-3e444048ebb7"
      },
      "outputs": [
        {
          "data": {
            "text/plain": [
              "array([[ True,  True,  True],\n",
              "       [ True,  True,  True]])"
            ]
          },
          "execution_count": 63,
          "metadata": {},
          "output_type": "execute_result"
        }
      ],
      "source": [
        "arr == arr"
      ]
    },
    {
      "cell_type": "code",
      "execution_count": null,
      "metadata": {
        "id": "NY3t_zwnk5Kc",
        "outputId": "c615b743-6c59-4806-f01d-f7f98f481210"
      },
      "outputs": [
        {
          "data": {
            "text/plain": [
              "array([[ True, False,  True],\n",
              "       [False,  True,  True]])"
            ]
          },
          "execution_count": 64,
          "metadata": {},
          "output_type": "execute_result"
        }
      ],
      "source": [
        "arr != arr2"
      ]
    },
    {
      "cell_type": "markdown",
      "metadata": {
        "id": "zqFL5MYyk5Kc"
      },
      "source": [
        "**논리 연산**"
      ]
    },
    {
      "cell_type": "markdown",
      "metadata": {
        "id": "2duJrtsbk5Kc"
      },
      "source": [
        "사용 가능한 논리 연산은 아래 세 가지이다.\n",
        "\n",
        "* `~`: 부정(not) 연산자\n",
        "* `&`: 논리곱(and) 연산자\n",
        "* `|`: 논리합(or) 연산자"
      ]
    },
    {
      "cell_type": "code",
      "execution_count": null,
      "metadata": {
        "id": "8hgu-1jIk5Kc",
        "outputId": "78b4affd-e93e-453a-d910-3267866c9bdc"
      },
      "outputs": [
        {
          "data": {
            "text/plain": [
              "array([[False, False, False],\n",
              "       [False, False, False]])"
            ]
          },
          "execution_count": 65,
          "metadata": {},
          "output_type": "execute_result"
        }
      ],
      "source": [
        "~(arr == arr)"
      ]
    },
    {
      "cell_type": "code",
      "execution_count": null,
      "metadata": {
        "id": "6Jz7r5gyk5Kd",
        "outputId": "532ee1ea-407a-4b43-8159-5dced93fccd5"
      },
      "outputs": [
        {
          "data": {
            "text/plain": [
              "array([[ True,  True,  True],\n",
              "       [ True,  True,  True]])"
            ]
          },
          "execution_count": 66,
          "metadata": {},
          "output_type": "execute_result"
        }
      ],
      "source": [
        "(arr == arr) & (arr2 == arr2)"
      ]
    },
    {
      "cell_type": "code",
      "execution_count": null,
      "metadata": {
        "id": "tldKGqmXk5Kd",
        "outputId": "fdbf4bd0-0afc-4f12-d10d-881cf00aa8bf"
      },
      "outputs": [
        {
          "data": {
            "text/plain": [
              "array([[ True, False,  True],\n",
              "       [False,  True,  True]])"
            ]
          },
          "execution_count": 67,
          "metadata": {},
          "output_type": "execute_result"
        }
      ],
      "source": [
        "~(arr == arr) | (arr2 != arr)"
      ]
    },
    {
      "cell_type": "markdown",
      "metadata": {
        "id": "V9jeXI6Jk5Kd"
      },
      "source": [
        "## 어레이 변형: `reshape()` 메서드"
      ]
    },
    {
      "cell_type": "markdown",
      "metadata": {
        "id": "SA8jO6mnk5Kd"
      },
      "source": [
        "주어진 어레이의 항목을 그대로 유지하면서 모양만 변형시키는 방식과\n",
        "활용법을 소개한다."
      ]
    },
    {
      "cell_type": "markdown",
      "metadata": {
        "id": "zm-Tk9Wrk5Kd"
      },
      "source": [
        "**`reshape()` 메서드**"
      ]
    },
    {
      "cell_type": "markdown",
      "metadata": {
        "id": "lqPa9Tkpk5Kd"
      },
      "source": [
        "`reshape()` 메서드를 활용하여 주어진 어레이의 모양을 원하는 대로 변형한다.\n",
        "단, 항목의 수가 변하지 않도록 모양을 지정해야 한다.\n",
        "예를 들어, 길이가 8인 1차원 어레이가 다음과 같다."
      ]
    },
    {
      "cell_type": "code",
      "execution_count": null,
      "metadata": {
        "id": "QnzNBv8Ek5Kd",
        "outputId": "14f6bc95-27f4-4216-bc33-ce07be0d283a"
      },
      "outputs": [
        {
          "data": {
            "text/plain": [
              "array([0, 1, 2, 3, 4, 5, 6, 7])"
            ]
          },
          "execution_count": 68,
          "metadata": {},
          "output_type": "execute_result"
        }
      ],
      "source": [
        "arr = np.arange(8)\n",
        "arr"
      ]
    },
    {
      "cell_type": "markdown",
      "metadata": {
        "id": "AlYd7mSik5Kd"
      },
      "source": [
        "이제 (4, 2) 모양의 2차원 어레이로 모양을 변형할 수 있다."
      ]
    },
    {
      "cell_type": "code",
      "execution_count": null,
      "metadata": {
        "id": "1W0wyE-0k5Kd",
        "outputId": "a998e98c-27b7-4b7d-b7b2-3e0e259068f3"
      },
      "outputs": [
        {
          "data": {
            "text/plain": [
              "array([[0, 1],\n",
              "       [2, 3],\n",
              "       [4, 5],\n",
              "       [6, 7]])"
            ]
          },
          "execution_count": 69,
          "metadata": {},
          "output_type": "execute_result"
        }
      ],
      "source": [
        "arr.reshape((4, 2))"
      ]
    },
    {
      "cell_type": "markdown",
      "metadata": {
        "id": "Tf_hwMstk5Kd"
      },
      "source": [
        "항목의 수만 같으면 임의의 차원의 어레이를 임의의 차원의 어레이로 변형시킬 수 있다."
      ]
    },
    {
      "cell_type": "code",
      "execution_count": null,
      "metadata": {
        "id": "zfSWrYDJk5Ke",
        "outputId": "c09bcff9-835d-4089-e6bb-08c2c0a45441"
      },
      "outputs": [
        {
          "data": {
            "text/plain": [
              "array([[[0, 1],\n",
              "        [2, 3]],\n",
              "\n",
              "       [[4, 5],\n",
              "        [6, 7]]])"
            ]
          },
          "execution_count": 70,
          "metadata": {},
          "output_type": "execute_result"
        }
      ],
      "source": [
        "arr.reshape((4, 2)).reshape((2, 2, 2))"
      ]
    },
    {
      "cell_type": "markdown",
      "metadata": {
        "id": "QD4lmB-vk5Ke"
      },
      "source": [
        "**`-1`의 역할**"
      ]
    },
    {
      "cell_type": "markdown",
      "metadata": {
        "id": "pCFWsyRuk5Ke"
      },
      "source": [
        "어레의 모양을 지정할 때 튜플의 특정 위치에 -1을 사용할 수 있다.\n",
        "그러면 그 위치의 값은 튜플의 다른 항목의 정보를 이용하여 자동 결정된다.\n",
        "예를 들어, 아래 코드에서 -1은 4를 의미한다.\n",
        "이유는 20개의 항목을 5개의 행으로 이루어진 2차원 어레이로 지정하려면 열은 4개 있어야 하기 때문이다."
      ]
    },
    {
      "cell_type": "code",
      "execution_count": null,
      "metadata": {
        "id": "Vytyo4f1k5Ke",
        "outputId": "dc81da79-ebc2-4c94-d7ed-55ab3f1feed5"
      },
      "outputs": [
        {
          "data": {
            "text/plain": [
              "array([[ 0,  1,  2,  3],\n",
              "       [ 4,  5,  6,  7],\n",
              "       [ 8,  9, 10, 11],\n",
              "       [12, 13, 14, 15],\n",
              "       [16, 17, 18, 19]])"
            ]
          },
          "execution_count": 71,
          "metadata": {},
          "output_type": "execute_result"
        }
      ],
      "source": [
        "arr = np.arange(20)\n",
        "arr.reshape((5, -1))"
      ]
    },
    {
      "cell_type": "code",
      "execution_count": null,
      "metadata": {
        "id": "VZyDzkYgk5Ke",
        "outputId": "2ad01e7e-f187-4276-eece-525158a65b14"
      },
      "outputs": [
        {
          "data": {
            "text/plain": [
              "array([[ 0,  1,  2,  3],\n",
              "       [ 4,  5,  6,  7],\n",
              "       [ 8,  9, 10, 11],\n",
              "       [12, 13, 14, 15],\n",
              "       [16, 17, 18, 19]])"
            ]
          },
          "execution_count": 72,
          "metadata": {},
          "output_type": "execute_result"
        }
      ],
      "source": [
        "arr.reshape((5, 4))"
      ]
    },
    {
      "cell_type": "markdown",
      "metadata": {
        "id": "8uAfuVmzk5Ke"
      },
      "source": [
        "동일한 이유로 아래에서 -1은 5를 의미한다."
      ]
    },
    {
      "cell_type": "code",
      "execution_count": null,
      "metadata": {
        "id": "txa-6ZBPk5Ke",
        "outputId": "69040525-bc36-430a-d92d-4a9f09168024"
      },
      "outputs": [
        {
          "data": {
            "text/plain": [
              "array([[[ 0,  1],\n",
              "        [ 2,  3],\n",
              "        [ 4,  5],\n",
              "        [ 6,  7],\n",
              "        [ 8,  9]],\n",
              "\n",
              "       [[10, 11],\n",
              "        [12, 13],\n",
              "        [14, 15],\n",
              "        [16, 17],\n",
              "        [18, 19]]])"
            ]
          },
          "execution_count": 73,
          "metadata": {},
          "output_type": "execute_result"
        }
      ],
      "source": [
        "arr.reshape((2, -1, 2))"
      ]
    },
    {
      "cell_type": "code",
      "execution_count": null,
      "metadata": {
        "id": "I9Rk8JnNk5Ke",
        "outputId": "1e388aec-0e16-445f-8e53-89ea98624fa1"
      },
      "outputs": [
        {
          "data": {
            "text/plain": [
              "array([[[ 0,  1],\n",
              "        [ 2,  3],\n",
              "        [ 4,  5],\n",
              "        [ 6,  7],\n",
              "        [ 8,  9]],\n",
              "\n",
              "       [[10, 11],\n",
              "        [12, 13],\n",
              "        [14, 15],\n",
              "        [16, 17],\n",
              "        [18, 19]]])"
            ]
          },
          "execution_count": 74,
          "metadata": {},
          "output_type": "execute_result"
        }
      ],
      "source": [
        "arr.reshape((2, 5, 2))"
      ]
    },
    {
      "cell_type": "markdown",
      "metadata": {
        "id": "Pf4I-Zmgk5Ke"
      },
      "source": [
        "**예제**"
      ]
    },
    {
      "cell_type": "markdown",
      "metadata": {
        "id": "qm2tuXOJk5Ke"
      },
      "source": [
        "아래 모양의 2차원 어레이를 생성하라."
      ]
    },
    {
      "cell_type": "markdown",
      "metadata": {
        "id": "8CM7Ujyok5Kf"
      },
      "source": [
        "```python\n",
        "array([[ 0,  1,  2,  3,  4,  5],\n",
        "       [10, 11, 12, 13, 14, 15],\n",
        "       [20, 21, 22, 23, 24, 25],\n",
        "       [30, 31, 32, 33, 34, 35],\n",
        "       [40, 41, 42, 43, 44, 45],\n",
        "       [50, 51, 52, 53, 54, 55]])\n",
        "```"
      ]
    },
    {
      "cell_type": "markdown",
      "metadata": {
        "id": "UV_qfO9_k5Kf"
      },
      "source": [
        "어레이의 모양이 (6, 6)이기에 우선 `np.arange(36)`과 `reshape()` 메서드를 이용하여 아래 어레이를 생성한다."
      ]
    },
    {
      "cell_type": "code",
      "execution_count": null,
      "metadata": {
        "id": "1vJHgvI_k5Kf",
        "outputId": "ef2ebb29-066a-4593-f8a1-e1c81bfb35d9"
      },
      "outputs": [
        {
          "data": {
            "text/plain": [
              "array([[ 0,  1,  2,  3,  4,  5],\n",
              "       [ 6,  7,  8,  9, 10, 11],\n",
              "       [12, 13, 14, 15, 16, 17],\n",
              "       [18, 19, 20, 21, 22, 23],\n",
              "       [24, 25, 26, 27, 28, 29],\n",
              "       [30, 31, 32, 33, 34, 35]])"
            ]
          },
          "execution_count": 75,
          "metadata": {},
          "output_type": "execute_result"
        }
      ],
      "source": [
        "arr_1 = np.arange(36).reshape(6, 6)\n",
        "arr_1"
      ]
    },
    {
      "cell_type": "markdown",
      "metadata": {
        "id": "iDsQg4oOk5Kf"
      },
      "source": [
        "이제 0행부터 차례대로 0, 4, 8, 12, 16, 20을 더해야 하기에\n",
        "언급된 값들을 항목으로 갖는 (6, 1) 모양의\n",
        "어레이를 다음과 같이 생성한다."
      ]
    },
    {
      "cell_type": "code",
      "execution_count": null,
      "metadata": {
        "id": "Y6xWZsILk5Kf",
        "outputId": "87559813-2352-42be-f302-3ad954841ad4"
      },
      "outputs": [
        {
          "data": {
            "text/plain": [
              "array([[ 0],\n",
              "       [ 4],\n",
              "       [ 8],\n",
              "       [12],\n",
              "       [16],\n",
              "       [20]])"
            ]
          },
          "execution_count": 76,
          "metadata": {},
          "output_type": "execute_result"
        }
      ],
      "source": [
        "arr_2 = np.arange(0, 21, 4).reshape(6, 1)\n",
        "arr_2"
      ]
    },
    {
      "cell_type": "markdown",
      "metadata": {
        "id": "6Ifuwu_Hk5Kf"
      },
      "source": [
        "이제 두 어레이를 더하면 원하는 2차원 어레이가 생성된다."
      ]
    },
    {
      "cell_type": "code",
      "execution_count": null,
      "metadata": {
        "id": "fEhDn71Ok5Kf",
        "outputId": "a6d4f673-acb5-4372-e0fc-293d08101b81"
      },
      "outputs": [
        {
          "data": {
            "text/plain": [
              "array([[ 0,  1,  2,  3,  4,  5],\n",
              "       [10, 11, 12, 13, 14, 15],\n",
              "       [20, 21, 22, 23, 24, 25],\n",
              "       [30, 31, 32, 33, 34, 35],\n",
              "       [40, 41, 42, 43, 44, 45],\n",
              "       [50, 51, 52, 53, 54, 55]])"
            ]
          },
          "execution_count": 77,
          "metadata": {},
          "output_type": "execute_result"
        }
      ],
      "source": [
        "arr = arr_1 + arr_2\n",
        "arr"
      ]
    },
    {
      "cell_type": "markdown",
      "metadata": {
        "id": "EJMYgL_yk5Kf"
      },
      "source": [
        "## 연습문제"
      ]
    },
    {
      "cell_type": "markdown",
      "metadata": {
        "id": "ia2mXkdWk5Kf"
      },
      "source": [
        "참고: [(실습) 넘파이 어레이](https://colab.research.google.com/github/codingalzi/datapy/blob/master/practices/practice-numpy_1.ipynb)"
      ]
    }
  ],
  "metadata": {
    "kernelspec": {
      "display_name": "Python 3 (ipykernel)",
      "language": "python",
      "name": "python3"
    },
    "language_info": {
      "codemirror_mode": {
        "name": "ipython",
        "version": 3
      },
      "file_extension": ".py",
      "mimetype": "text/x-python",
      "name": "python",
      "nbconvert_exporter": "python",
      "pygments_lexer": "ipython3",
      "version": "3.11.4"
    },
    "vscode": {
      "interpreter": {
        "hash": "ad0f3c8a064f687cbf898a0868fd45ba1c7e928ac8a0404f7c241d812ddc1e76"
      }
    },
    "colab": {
      "provenance": [],
      "include_colab_link": true
    }
  },
  "nbformat": 4,
  "nbformat_minor": 0
}