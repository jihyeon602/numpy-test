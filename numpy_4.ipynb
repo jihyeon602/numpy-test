{
  "cells": [
    {
      "cell_type": "markdown",
      "metadata": {
        "id": "view-in-github",
        "colab_type": "text"
      },
      "source": [
        "<a href=\"https://colab.research.google.com/github/jihyeon602/numpy-test/blob/main/numpy_4.ipynb\" target=\"_parent\"><img src=\"https://colab.research.google.com/assets/colab-badge.svg\" alt=\"Open In Colab\"/></a>"
      ]
    },
    {
      "cell_type": "markdown",
      "metadata": {
        "id": "xhSqoFBWlYjO"
      },
      "source": [
        "(sec:numpy_4)=\n",
        "# 어레이 변형"
      ]
    },
    {
      "cell_type": "markdown",
      "metadata": {
        "id": "Evu58P--lYjP"
      },
      "source": [
        "어레이의 모양을 변형해서 새로운 어레이를 생성하는 다양한 방식을 살펴본다."
      ]
    },
    {
      "cell_type": "markdown",
      "metadata": {
        "id": "FOceywYhlYjQ"
      },
      "source": [
        "**주요 내용**\n",
        "\n",
        "* 어레이 변형\n",
        "* 차원 추가와 삭제\n",
        "* 어레이 이어붙이기/쌓기\n",
        "* 브로드캐스팅"
      ]
    },
    {
      "cell_type": "markdown",
      "metadata": {
        "id": "8HmX1b45lYjR"
      },
      "source": [
        "**기본 설정**\n",
        "\n",
        "`numpy` 모듈과 시각화 도구 모듈인 `matplotlib.pyplot`에 대한 기본 설정을 지정한다."
      ]
    },
    {
      "cell_type": "code",
      "execution_count": null,
      "metadata": {
        "id": "P_vgS_SDlYjS"
      },
      "outputs": [],
      "source": [
        "# 넘파이\n",
        "import numpy as np\n",
        "\n",
        "# 램덤 시드\n",
        "np.random.seed(12345)\n",
        "\n",
        "# 어레이 사용되는 부동소수점들의 정확도 지정\n",
        "np.set_printoptions(precision=4, suppress=True)"
      ]
    },
    {
      "cell_type": "code",
      "execution_count": null,
      "metadata": {
        "id": "4P2pddy8lYjT"
      },
      "outputs": [],
      "source": [
        "# 파이플롯\n",
        "import matplotlib.pyplot as plt\n",
        "\n",
        "# 도표 크기 지정\n",
        "plt.rc('figure', figsize=(10, 6))"
      ]
    },
    {
      "cell_type": "markdown",
      "metadata": {
        "id": "BwMTlfgMlYjU"
      },
      "source": [
        "## 차원 추가와 삭제"
      ]
    },
    {
      "cell_type": "markdown",
      "metadata": {
        "id": "zarwf1lylYjU"
      },
      "source": [
        "`reshape()` 메서드와 함께\n",
        "항목은 그대로 유지하면서 어레이의 모양만 변형시키는 방법으로\n",
        "차원 추가와 삭제 기법이 활용된다."
      ]
    },
    {
      "cell_type": "markdown",
      "metadata": {
        "id": "Fx3l7IlIlYjV"
      },
      "source": [
        "### 차원 추가"
      ]
    },
    {
      "cell_type": "markdown",
      "metadata": {
        "id": "dIvB2_HMlYjW"
      },
      "source": [
        "어레이에 임의의 축을 추가하는 방식으로 차원이 하나 더 추가된 어레이를 생성할 수 있다.\n",
        "어느 축을 추가하느냐에 따라 생성된 어레이의  모양은 달라진다."
      ]
    },
    {
      "cell_type": "markdown",
      "metadata": {
        "id": "mVaFphcUlYjW"
      },
      "source": [
        "**예제**"
      ]
    },
    {
      "cell_type": "markdown",
      "metadata": {
        "id": "nKt1O8FXlYjW"
      },
      "source": [
        "다음 길이가 3인 1차원 어레이를 이용하자."
      ]
    },
    {
      "cell_type": "code",
      "execution_count": null,
      "metadata": {
        "id": "t0vCnpFXlYjW",
        "outputId": "6958c2e9-1f31-4692-9233-42dab8eea121"
      },
      "outputs": [
        {
          "data": {
            "text/plain": [
              "array([-0.2047,  0.4789, -0.5194])"
            ]
          },
          "execution_count": 3,
          "metadata": {},
          "output_type": "execute_result"
        }
      ],
      "source": [
        "arr_1d = np.random.normal(size=3)\n",
        "arr_1d"
      ]
    },
    {
      "cell_type": "markdown",
      "metadata": {
        "id": "7VM_HraNlYjX"
      },
      "source": [
        "`arr_1d`는 원래 0번 축 하나만 갖는데,\n",
        "아래 코드는 여기에 1번 축을 추가하여 2차원 어레이로 만든다."
      ]
    },
    {
      "cell_type": "code",
      "execution_count": null,
      "metadata": {
        "id": "bAZqg0uMlYjX",
        "outputId": "5b4380a9-3d66-4eed-d85b-10490f525c7d"
      },
      "outputs": [
        {
          "data": {
            "text/plain": [
              "array([[-0.2047],\n",
              "       [ 0.4789],\n",
              "       [-0.5194]])"
            ]
          },
          "execution_count": 4,
          "metadata": {},
          "output_type": "execute_result"
        }
      ],
      "source": [
        "arr_1d[:, np.newaxis]"
      ]
    },
    {
      "cell_type": "markdown",
      "metadata": {
        "id": "v18P8N3mlYjX"
      },
      "source": [
        "`reshape()` 메소드로도 동일한 결과를 얻을 수 있다."
      ]
    },
    {
      "cell_type": "code",
      "execution_count": null,
      "metadata": {
        "id": "A-hiUxMzlYjX",
        "outputId": "2eeecc1c-de6a-4f50-f25c-75e2957d70c0"
      },
      "outputs": [
        {
          "data": {
            "text/plain": [
              "array([[-0.2047],\n",
              "       [ 0.4789],\n",
              "       [-0.5194]])"
            ]
          },
          "execution_count": 5,
          "metadata": {},
          "output_type": "execute_result"
        }
      ],
      "source": [
        "arr_1d.reshape((3, 1))"
      ]
    },
    {
      "cell_type": "markdown",
      "metadata": {
        "id": "Z1I1CBG9lYjX"
      },
      "source": [
        "아래 코드는 기존의 0번 축을 1번 축으로 바꾼다."
      ]
    },
    {
      "cell_type": "code",
      "execution_count": null,
      "metadata": {
        "id": "GA7f7HiZlYjX",
        "outputId": "af1d380b-5dc7-4a52-8531-4edf08e466b6"
      },
      "outputs": [
        {
          "data": {
            "text/plain": [
              "array([[-0.2047,  0.4789, -0.5194]])"
            ]
          },
          "execution_count": 6,
          "metadata": {},
          "output_type": "execute_result"
        }
      ],
      "source": [
        "arr_1d[np.newaxis, :]"
      ]
    },
    {
      "cell_type": "markdown",
      "metadata": {
        "id": "xj_eSHyalYjX"
      },
      "source": [
        "`reshape()` 메소드로도 동일한 결과를 얻을 수 있다."
      ]
    },
    {
      "cell_type": "code",
      "execution_count": null,
      "metadata": {
        "id": "xGF9_OF_lYjY",
        "outputId": "fe0e6055-a753-4cde-8f8e-cbe711404b13"
      },
      "outputs": [
        {
          "data": {
            "text/plain": [
              "array([[-0.2047,  0.4789, -0.5194]])"
            ]
          },
          "execution_count": 7,
          "metadata": {},
          "output_type": "execute_result"
        }
      ],
      "source": [
        "arr_1d.reshape((1,3))"
      ]
    },
    {
      "cell_type": "markdown",
      "metadata": {
        "id": "NVvpc6hSlYjY"
      },
      "source": [
        "**예제**"
      ]
    },
    {
      "cell_type": "markdown",
      "metadata": {
        "id": "spsU1wJFlYjY"
      },
      "source": [
        "2차원 어레이에 축을 추가하면 3차원 어레이가 생성되며, 작동방식은 앞서와 동일하다."
      ]
    },
    {
      "cell_type": "code",
      "execution_count": null,
      "metadata": {
        "id": "snyh7XrJlYjY",
        "outputId": "2dc21541-e831-49e3-94c9-522f556186d2"
      },
      "outputs": [
        {
          "data": {
            "text/plain": [
              "array([[-0.5557,  1.9658,  1.3934],\n",
              "       [ 0.0929,  0.2817,  0.769 ],\n",
              "       [ 1.2464,  1.0072, -1.2962],\n",
              "       [ 0.275 ,  0.2289,  1.3529]])"
            ]
          },
          "execution_count": 8,
          "metadata": {},
          "output_type": "execute_result"
        }
      ],
      "source": [
        "arr = np.random.normal(size=(4, 3))\n",
        "arr"
      ]
    },
    {
      "cell_type": "code",
      "execution_count": null,
      "metadata": {
        "id": "F39hES1SlYjY",
        "outputId": "71bf5a39-5b50-4b70-ae1b-46ca6ab3f2f2"
      },
      "outputs": [
        {
          "data": {
            "text/plain": [
              "(4, 3, 1)"
            ]
          },
          "execution_count": 9,
          "metadata": {},
          "output_type": "execute_result"
        }
      ],
      "source": [
        "arr[:,:,np.newaxis].shape"
      ]
    },
    {
      "cell_type": "code",
      "execution_count": null,
      "metadata": {
        "id": "eE3q2gTHlYjY",
        "outputId": "d2a7c44b-ec99-4127-de29-d5e502d6c6e4"
      },
      "outputs": [
        {
          "data": {
            "text/plain": [
              "array([[[-0.5557],\n",
              "        [ 1.9658],\n",
              "        [ 1.3934]],\n",
              "\n",
              "       [[ 0.0929],\n",
              "        [ 0.2817],\n",
              "        [ 0.769 ]],\n",
              "\n",
              "       [[ 1.2464],\n",
              "        [ 1.0072],\n",
              "        [-1.2962]],\n",
              "\n",
              "       [[ 0.275 ],\n",
              "        [ 0.2289],\n",
              "        [ 1.3529]]])"
            ]
          },
          "execution_count": 10,
          "metadata": {},
          "output_type": "execute_result"
        }
      ],
      "source": [
        "arr[:,:,np.newaxis]"
      ]
    },
    {
      "cell_type": "code",
      "execution_count": null,
      "metadata": {
        "id": "DF0sQn-LlYjY",
        "outputId": "c6068f7c-77f5-43ab-e9ba-bf858714a27a"
      },
      "outputs": [
        {
          "data": {
            "text/plain": [
              "(4, 1, 3)"
            ]
          },
          "execution_count": 11,
          "metadata": {},
          "output_type": "execute_result"
        }
      ],
      "source": [
        "arr[:,np.newaxis,:].shape"
      ]
    },
    {
      "cell_type": "code",
      "execution_count": null,
      "metadata": {
        "id": "zD7VOId6lYjY",
        "outputId": "6e2e619b-68d0-475b-c452-7cbe7671d267"
      },
      "outputs": [
        {
          "data": {
            "text/plain": [
              "array([[[-0.5557,  1.9658,  1.3934]],\n",
              "\n",
              "       [[ 0.0929,  0.2817,  0.769 ]],\n",
              "\n",
              "       [[ 1.2464,  1.0072, -1.2962]],\n",
              "\n",
              "       [[ 0.275 ,  0.2289,  1.3529]]])"
            ]
          },
          "execution_count": 12,
          "metadata": {},
          "output_type": "execute_result"
        }
      ],
      "source": [
        "arr[:,np.newaxis,:]"
      ]
    },
    {
      "cell_type": "markdown",
      "metadata": {
        "id": "W2pvPvp2lYjZ"
      },
      "source": [
        "### 차원 삭제"
      ]
    },
    {
      "cell_type": "markdown",
      "metadata": {
        "id": "BlFyCZQvlYjZ"
      },
      "source": [
        "`ravel()` 메서드와 `flatten()` 메서드는 어레이를 1차원으로 변형한다.\n",
        "즉, 차원을 모두 없앤다."
      ]
    },
    {
      "cell_type": "code",
      "execution_count": null,
      "metadata": {
        "id": "l87ijZdhlYjZ",
        "outputId": "5d4ca2cd-381f-48ba-8f22-2ea9fd59d1d8"
      },
      "outputs": [
        {
          "data": {
            "text/plain": [
              "array([[ 0,  1,  2],\n",
              "       [ 3,  4,  5],\n",
              "       [ 6,  7,  8],\n",
              "       [ 9, 10, 11],\n",
              "       [12, 13, 14]])"
            ]
          },
          "execution_count": 13,
          "metadata": {},
          "output_type": "execute_result"
        }
      ],
      "source": [
        "arr = np.arange(15).reshape((5, 3))\n",
        "arr"
      ]
    },
    {
      "cell_type": "code",
      "execution_count": null,
      "metadata": {
        "id": "_sON7GTZlYjZ",
        "outputId": "bcf6e054-359b-4600-c1d2-533bc12501be"
      },
      "outputs": [
        {
          "data": {
            "text/plain": [
              "array([ 0,  1,  2,  3,  4,  5,  6,  7,  8,  9, 10, 11, 12, 13, 14])"
            ]
          },
          "execution_count": 14,
          "metadata": {},
          "output_type": "execute_result"
        }
      ],
      "source": [
        "arr1 = arr.ravel()\n",
        "arr1"
      ]
    },
    {
      "cell_type": "code",
      "execution_count": null,
      "metadata": {
        "id": "tkE6XKlQlYjZ",
        "outputId": "bda167f0-276c-4bbf-da66-d7c34cfbfc7c"
      },
      "outputs": [
        {
          "data": {
            "text/plain": [
              "array([ 0,  1,  2,  3,  4,  5,  6,  7,  8,  9, 10, 11, 12, 13, 14])"
            ]
          },
          "execution_count": 15,
          "metadata": {},
          "output_type": "execute_result"
        }
      ],
      "source": [
        "arr2 = arr.flatten()\n",
        "arr2"
      ]
    },
    {
      "cell_type": "markdown",
      "metadata": {
        "id": "-mB2ZPZ6lYjZ"
      },
      "source": [
        "차이점은 `ravel()` 메서드는 뷰(view)를 사용하는 반면에 `flatten()` 메서드는 어레이를 새로 생성한다.\n",
        "예를 들어, 아래처럼 `arr1`의 항목을 변경하면 `arr`의 항목도 함께 변경된다."
      ]
    },
    {
      "cell_type": "code",
      "execution_count": null,
      "metadata": {
        "id": "HdupBUJslYjZ",
        "outputId": "f7569444-085a-49e7-ce2d-7011fb2cef21"
      },
      "outputs": [
        {
          "data": {
            "text/plain": [
              "array([[-1,  1,  2],\n",
              "       [ 3,  4,  5],\n",
              "       [ 6,  7,  8],\n",
              "       [ 9, 10, 11],\n",
              "       [12, 13, 14]])"
            ]
          },
          "execution_count": 16,
          "metadata": {},
          "output_type": "execute_result"
        }
      ],
      "source": [
        "arr1[0] = -1\n",
        "arr"
      ]
    },
    {
      "cell_type": "markdown",
      "metadata": {
        "id": "h2EewQg9lYjZ"
      },
      "source": [
        "`arr2`은 `arr`과 전혀 상관이 없다."
      ]
    },
    {
      "cell_type": "code",
      "execution_count": null,
      "metadata": {
        "id": "gV3px16zlYja",
        "outputId": "3abb8da0-f004-4233-d351-7453d0aba1d6"
      },
      "outputs": [
        {
          "data": {
            "text/plain": [
              "array([[-1,  1,  2],\n",
              "       [ 3,  4,  5],\n",
              "       [ 6,  7,  8],\n",
              "       [ 9, 10, 11],\n",
              "       [12, 13, 14]])"
            ]
          },
          "execution_count": 17,
          "metadata": {},
          "output_type": "execute_result"
        }
      ],
      "source": [
        "arr2[0] = -7\n",
        "arr"
      ]
    },
    {
      "cell_type": "markdown",
      "metadata": {
        "id": "bnFGVQSolYja"
      },
      "source": [
        "## 어레이 쪼개기"
      ]
    },
    {
      "cell_type": "markdown",
      "metadata": {
        "id": "ku1Y5EgzlYja"
      },
      "source": [
        "**`np.split()` 함수**"
      ]
    },
    {
      "cell_type": "markdown",
      "metadata": {
        "id": "LCULZ2EKlYjd"
      },
      "source": [
        "어레이를 지정된 기준에 따라 여러 개의 어레이로 쪼갠다.\n",
        "반환값은 쪼개진 어레이들의 리스트다.\n",
        "\n",
        "아래 예제를 살펴보자."
      ]
    },
    {
      "cell_type": "code",
      "execution_count": null,
      "metadata": {
        "id": "lYYo645xlYjd",
        "outputId": "2bec03cf-b761-498f-f671-1cccb3963080"
      },
      "outputs": [
        {
          "data": {
            "text/plain": [
              "array([[ 0.8864, -2.0016, -0.3718,  1.669 , -0.4386],\n",
              "       [-0.5397,  0.477 ,  3.2489, -1.0212, -0.5771],\n",
              "       [ 0.1241,  0.3026,  0.5238,  0.0009,  1.3438],\n",
              "       [-0.7135, -0.8312, -2.3702, -1.8608, -0.8608],\n",
              "       [ 0.5601, -1.2659,  0.1198, -1.0635,  0.3329],\n",
              "       [-2.3594, -0.1995, -1.542 , -0.9707, -1.307 ]])"
            ]
          },
          "execution_count": 18,
          "metadata": {},
          "output_type": "execute_result"
        }
      ],
      "source": [
        "arr = np.random.randn(6, 5)\n",
        "arr"
      ]
    },
    {
      "cell_type": "markdown",
      "metadata": {
        "id": "umy8UwCylYjd"
      },
      "source": [
        "`np.split()` 함수의 인자는 하나의 인덱스이거나 여러 인덱스들의 리스트가 사용된다.\n",
        "먼저, 정수 리스트가 들어오면 축이 정한 방향으로 리스트에 포함된 정수를 이용하여 여러 개의 구간으로 쪼갠다.\n",
        "\n",
        "아래 코드는 행을 기준으로 행의 인덱스를 0-1, 2, 3-5 세 개의 구간으로 쪼갠다.\n",
        "따라서 결과는 네 개의 어레이로 이루어진 리스트가 되며,\n",
        "각 어레의 모양은 다음과 같다.\n",
        "\n",
        "```python\n",
        "(2, 5), (1, 5), (3, 5)\n",
        "```"
      ]
    },
    {
      "cell_type": "code",
      "execution_count": null,
      "metadata": {
        "id": "DwoiGykVlYjd",
        "outputId": "b3ef82f6-0405-4784-e426-1ae03e783c7c"
      },
      "outputs": [
        {
          "data": {
            "text/plain": [
              "[array([[ 0.8864, -2.0016, -0.3718,  1.669 , -0.4386],\n",
              "        [-0.5397,  0.477 ,  3.2489, -1.0212, -0.5771]]),\n",
              " array([[0.1241, 0.3026, 0.5238, 0.0009, 1.3438]]),\n",
              " array([[-0.7135, -0.8312, -2.3702, -1.8608, -0.8608],\n",
              "        [ 0.5601, -1.2659,  0.1198, -1.0635,  0.3329],\n",
              "        [-2.3594, -0.1995, -1.542 , -0.9707, -1.307 ]])]"
            ]
          },
          "execution_count": 19,
          "metadata": {},
          "output_type": "execute_result"
        }
      ],
      "source": [
        "np.split(arr, [2, 3]) # np.split(arr, [2, 3],axis=0)"
      ]
    },
    {
      "cell_type": "markdown",
      "metadata": {
        "id": "DMBeRadHlYjd"
      },
      "source": [
        "반면에 열을 기준으로 0, 1-2, 3-4 세 개의 구간으로 쪼개면 다음과 같으며,\n",
        "각 어레이의 모양은 다음과 같다.\n",
        "\n",
        "```python\n",
        "(7, 1) (7, 2), (7, 2)\n",
        "```"
      ]
    },
    {
      "cell_type": "code",
      "execution_count": null,
      "metadata": {
        "id": "hc35Rt6ylYjd",
        "outputId": "9c9ee748-ce58-4711-b2b8-f73438fce061"
      },
      "outputs": [
        {
          "data": {
            "text/plain": [
              "[array([[ 0.8864],\n",
              "        [-0.5397],\n",
              "        [ 0.1241],\n",
              "        [-0.7135],\n",
              "        [ 0.5601],\n",
              "        [-2.3594]]),\n",
              " array([[-2.0016, -0.3718],\n",
              "        [ 0.477 ,  3.2489],\n",
              "        [ 0.3026,  0.5238],\n",
              "        [-0.8312, -2.3702],\n",
              "        [-1.2659,  0.1198],\n",
              "        [-0.1995, -1.542 ]]),\n",
              " array([[ 1.669 , -0.4386],\n",
              "        [-1.0212, -0.5771],\n",
              "        [ 0.0009,  1.3438],\n",
              "        [-1.8608, -0.8608],\n",
              "        [-1.0635,  0.3329],\n",
              "        [-0.9707, -1.307 ]])]"
            ]
          },
          "execution_count": 20,
          "metadata": {},
          "output_type": "execute_result"
        }
      ],
      "source": [
        "np.split(arr, [1, 3], axis=1)"
      ]
    },
    {
      "cell_type": "markdown",
      "metadata": {
        "id": "YDyKiZwzlYje"
      },
      "source": [
        "둘째 인자로 하나의 정수를 사용하면 행 또는 열을 기준으로 등분한다.\n",
        "아래 코드는 6개의 행을 3등분 한다."
      ]
    },
    {
      "cell_type": "code",
      "execution_count": null,
      "metadata": {
        "id": "dOkPRnVvlYje",
        "outputId": "74ec8f1f-850f-4656-ad87-611f0e3f4e6f"
      },
      "outputs": [
        {
          "data": {
            "text/plain": [
              "[array([[ 0.8864, -2.0016, -0.3718,  1.669 , -0.4386],\n",
              "        [-0.5397,  0.477 ,  3.2489, -1.0212, -0.5771]]),\n",
              " array([[ 0.1241,  0.3026,  0.5238,  0.0009,  1.3438],\n",
              "        [-0.7135, -0.8312, -2.3702, -1.8608, -0.8608]]),\n",
              " array([[ 0.5601, -1.2659,  0.1198, -1.0635,  0.3329],\n",
              "        [-2.3594, -0.1995, -1.542 , -0.9707, -1.307 ]])]"
            ]
          },
          "execution_count": 21,
          "metadata": {},
          "output_type": "execute_result"
        }
      ],
      "source": [
        "np.split(arr, 3)"
      ]
    },
    {
      "cell_type": "markdown",
      "metadata": {
        "id": "k5l84TBFlYje"
      },
      "source": [
        "등분을 위해서는 행 또는 열의 약수만 둘째 인자로 사용할 수 있다. 그렇지 않으면 오류가 발생한다.\n",
        "예를 들어, 아래 코드처럼 열을 2등분 하려 하면 오류가 발생한다.\n",
        "이유는 5개의 열을 2등분 할 수 없기 때문이다."
      ]
    },
    {
      "cell_type": "markdown",
      "metadata": {
        "id": "4rMUmVrBlYje"
      },
      "source": [
        "```python\n",
        ">>> np.split(arr, 2, axis=1)\n",
        "---------------------------------------------------------------------------\n",
        "ValueError                                Traceback (most recent call last)\n",
        "Input In [16], in <module>\n",
        "----> 1 np.split(arr, 2, axis=1)\n",
        "\n",
        "File <__array_function__ internals>:180, in split(*args, **kwargs)\n",
        "\n",
        "File ~\\miniconda3\\envs\\homl3\\lib\\site-packages\\numpy\\lib\\shape_base.py:872, in split(ary, indices_or_sections, axis)\n",
        "    870     N = ary.shape[axis]\n",
        "    871     if N % sections:\n",
        "--> 872         raise ValueError(\n",
        "    873             'array split does not result in an equal division') from None\n",
        "    874 return array_split(ary, indices_or_sections, axis)\n",
        "\n",
        "ValueError: array split does not result in an equal division\n",
        "```"
      ]
    },
    {
      "cell_type": "markdown",
      "metadata": {
        "id": "TJZNFlONlYje"
      },
      "source": [
        "**`np.vsplit()`/`np.hsplit()` 함수**"
      ]
    },
    {
      "cell_type": "markdown",
      "metadata": {
        "id": "_SojXXE1lYje"
      },
      "source": [
        "두 함수는 `np.split()` 함수에 축을 각각 0과 1로 지정한 함수이다."
      ]
    },
    {
      "cell_type": "markdown",
      "metadata": {
        "id": "xG6SzeO_lYje"
      },
      "source": [
        "* `np.vsplit(arr, z)` := `np.split(arr, z, axis=0)`"
      ]
    },
    {
      "cell_type": "code",
      "execution_count": null,
      "metadata": {
        "id": "G6t_xR_slYje",
        "outputId": "48892dfa-7dc4-4a8b-9e94-da012b6f99a0"
      },
      "outputs": [
        {
          "data": {
            "text/plain": [
              "[array([[ 0.8864, -2.0016, -0.3718,  1.669 , -0.4386],\n",
              "        [-0.5397,  0.477 ,  3.2489, -1.0212, -0.5771]]),\n",
              " array([[0.1241, 0.3026, 0.5238, 0.0009, 1.3438]]),\n",
              " array([[-0.7135, -0.8312, -2.3702, -1.8608, -0.8608],\n",
              "        [ 0.5601, -1.2659,  0.1198, -1.0635,  0.3329]]),\n",
              " array([[-2.3594, -0.1995, -1.542 , -0.9707, -1.307 ]])]"
            ]
          },
          "execution_count": 22,
          "metadata": {},
          "output_type": "execute_result"
        }
      ],
      "source": [
        "np.vsplit(arr, [2, 3, 5])"
      ]
    },
    {
      "cell_type": "markdown",
      "metadata": {
        "id": "FukGsuX0lYje"
      },
      "source": [
        "* `np.hsplit(arr, z)` := `np.split(arr, z, axis=1)`"
      ]
    },
    {
      "cell_type": "code",
      "execution_count": null,
      "metadata": {
        "id": "ve_ZGbYMlYjf",
        "outputId": "8d8c7fe0-d9e4-41fb-95b6-c7bd110511f6"
      },
      "outputs": [
        {
          "data": {
            "text/plain": [
              "[array([[ 0.8864],\n",
              "        [-0.5397],\n",
              "        [ 0.1241],\n",
              "        [-0.7135],\n",
              "        [ 0.5601],\n",
              "        [-2.3594]]),\n",
              " array([[-2.0016, -0.3718],\n",
              "        [ 0.477 ,  3.2489],\n",
              "        [ 0.3026,  0.5238],\n",
              "        [-0.8312, -2.3702],\n",
              "        [-1.2659,  0.1198],\n",
              "        [-0.1995, -1.542 ]]),\n",
              " array([[ 1.669 , -0.4386],\n",
              "        [-1.0212, -0.5771],\n",
              "        [ 0.0009,  1.3438],\n",
              "        [-1.8608, -0.8608],\n",
              "        [-1.0635,  0.3329],\n",
              "        [-0.9707, -1.307 ]])]"
            ]
          },
          "execution_count": 23,
          "metadata": {},
          "output_type": "execute_result"
        }
      ],
      "source": [
        "np.hsplit(arr, [1, 3])"
      ]
    },
    {
      "cell_type": "markdown",
      "metadata": {
        "id": "AYk98Zy5lYjf"
      },
      "source": [
        "## 어레이 이어붙이기와 쌓기"
      ]
    },
    {
      "cell_type": "markdown",
      "metadata": {
        "id": "IDU_zAoclYjf"
      },
      "source": [
        "**`np.concatenate()` 함수**"
      ]
    },
    {
      "cell_type": "markdown",
      "metadata": {
        "id": "bNZzRPy8lYjf"
      },
      "source": [
        "두 개의 어레이를 이어붙인다.\n",
        "지정되는 축에 따라 좌우로 또는 상하로 이어붙인다.\n",
        "아래 세 어레이를 이용하여 사용법을 설명한다."
      ]
    },
    {
      "cell_type": "code",
      "execution_count": null,
      "metadata": {
        "id": "ssCJAWOQlYjf",
        "outputId": "568d04e5-bbbf-4578-aa6f-a886a8d4a4c6"
      },
      "outputs": [
        {
          "data": {
            "text/plain": [
              "array([[1, 2, 3],\n",
              "       [4, 5, 6]])"
            ]
          },
          "execution_count": 24,
          "metadata": {},
          "output_type": "execute_result"
        }
      ],
      "source": [
        "arr1 = np.array([[1, 2, 3], [4, 5, 6]])\n",
        "arr1"
      ]
    },
    {
      "cell_type": "code",
      "execution_count": null,
      "metadata": {
        "id": "4kYN0dF4lYjf",
        "outputId": "9a47403e-69fe-479c-e043-2fd66d2e6b8b"
      },
      "outputs": [
        {
          "data": {
            "text/plain": [
              "array([[ 7,  8,  9],\n",
              "       [10, 11, 12]])"
            ]
          },
          "execution_count": 25,
          "metadata": {},
          "output_type": "execute_result"
        }
      ],
      "source": [
        "arr2 = np.array([[7, 8, 9], [10, 11, 12]])\n",
        "arr2"
      ]
    },
    {
      "cell_type": "code",
      "execution_count": null,
      "metadata": {
        "id": "bVXVCKB1lYjf",
        "outputId": "7d7c0752-073f-4371-da94-6012f7340f3a"
      },
      "outputs": [
        {
          "data": {
            "text/plain": [
              "array([[13, 14, 15],\n",
              "       [16, 17, 18]])"
            ]
          },
          "execution_count": 26,
          "metadata": {},
          "output_type": "execute_result"
        }
      ],
      "source": [
        "arr3 = np.array([[13, 14, 15], [16, 17, 18]])\n",
        "arr3"
      ]
    },
    {
      "cell_type": "markdown",
      "metadata": {
        "id": "iuJf0siMlYjf"
      },
      "source": [
        "위아래로 이어붙이려면 축을 0으로 정한다.\n",
        "이어붙이 어레이로 이루어진 리스트 또는 튜플을 사용함에 주의한다."
      ]
    },
    {
      "cell_type": "code",
      "execution_count": null,
      "metadata": {
        "id": "EkEYgVMilYjg",
        "outputId": "ee9491df-3928-4577-862f-29d0b818f4d9"
      },
      "outputs": [
        {
          "data": {
            "text/plain": [
              "array([[ 1,  2,  3],\n",
              "       [ 4,  5,  6],\n",
              "       [ 7,  8,  9],\n",
              "       [10, 11, 12],\n",
              "       [13, 14, 15],\n",
              "       [16, 17, 18]])"
            ]
          },
          "execution_count": 27,
          "metadata": {},
          "output_type": "execute_result"
        }
      ],
      "source": [
        "np.concatenate([arr1, arr2, arr3], axis=0)"
      ]
    },
    {
      "cell_type": "code",
      "execution_count": null,
      "metadata": {
        "id": "50t9VYK0lYjg",
        "outputId": "534da2e1-acfc-401e-da53-0fc70a855a4a"
      },
      "outputs": [
        {
          "data": {
            "text/plain": [
              "array([[ 1,  2,  3],\n",
              "       [ 4,  5,  6],\n",
              "       [ 7,  8,  9],\n",
              "       [10, 11, 12],\n",
              "       [13, 14, 15],\n",
              "       [16, 17, 18]])"
            ]
          },
          "execution_count": 28,
          "metadata": {},
          "output_type": "execute_result"
        }
      ],
      "source": [
        "np.concatenate((arr1, arr2, arr3), axis=0)"
      ]
    },
    {
      "cell_type": "markdown",
      "metadata": {
        "id": "P2y33NK6lYjg"
      },
      "source": [
        "좌우로 이어붙이려면 축을 1로 정한다."
      ]
    },
    {
      "cell_type": "code",
      "execution_count": null,
      "metadata": {
        "id": "mTcoG69blYjg",
        "outputId": "220ec60f-8255-453d-e798-a23c51c24985"
      },
      "outputs": [
        {
          "data": {
            "text/plain": [
              "array([[ 1,  2,  3,  7,  8,  9, 13, 14, 15],\n",
              "       [ 4,  5,  6, 10, 11, 12, 16, 17, 18]])"
            ]
          },
          "execution_count": 29,
          "metadata": {},
          "output_type": "execute_result"
        }
      ],
      "source": [
        "np.concatenate([arr1, arr2, arr3], axis=1)"
      ]
    },
    {
      "cell_type": "code",
      "execution_count": null,
      "metadata": {
        "id": "PrUvqYTMlYjg",
        "outputId": "f0997836-473e-4103-d159-91c70aa83c7a"
      },
      "outputs": [
        {
          "data": {
            "text/plain": [
              "array([[ 1,  2,  3,  7,  8,  9, 13, 14, 15],\n",
              "       [ 4,  5,  6, 10, 11, 12, 16, 17, 18]])"
            ]
          },
          "execution_count": 30,
          "metadata": {},
          "output_type": "execute_result"
        }
      ],
      "source": [
        "np.concatenate((arr1, arr2, arr3), axis=1)"
      ]
    },
    {
      "cell_type": "markdown",
      "metadata": {
        "id": "tWC-qWHGlYjg"
      },
      "source": [
        "**`np.vstack()`/`np.hstack()` 함수**"
      ]
    },
    {
      "cell_type": "markdown",
      "metadata": {
        "id": "8BXb7VvNlYjg"
      },
      "source": [
        "두 함수는 `np.concatenate()` 함수에 축을 각각 0과 1로 지정한 함수이다."
      ]
    },
    {
      "cell_type": "markdown",
      "metadata": {
        "id": "eaFTzVutlYjg"
      },
      "source": [
        "* `np.vstack((x, y, ...))` := `np.concatenate((x, y, ...), axis=0)`"
      ]
    },
    {
      "cell_type": "code",
      "execution_count": null,
      "metadata": {
        "id": "toOt3SRFlYjg",
        "outputId": "737f65b5-2528-42df-d168-fe91fe95e646"
      },
      "outputs": [
        {
          "data": {
            "text/plain": [
              "array([[ 1,  2,  3],\n",
              "       [ 4,  5,  6],\n",
              "       [ 7,  8,  9],\n",
              "       [10, 11, 12],\n",
              "       [13, 14, 15],\n",
              "       [16, 17, 18]])"
            ]
          },
          "execution_count": 31,
          "metadata": {},
          "output_type": "execute_result"
        }
      ],
      "source": [
        "np.vstack((arr1, arr2, arr3))"
      ]
    },
    {
      "cell_type": "markdown",
      "metadata": {
        "id": "nfhFloEflYjh"
      },
      "source": [
        "* `np.hstack((x, y, ...))` := `np.concatenate((x, y, ...) axis=1)`"
      ]
    },
    {
      "cell_type": "code",
      "execution_count": null,
      "metadata": {
        "id": "LpxgM2TdlYjh",
        "outputId": "11c48704-9e3f-4332-ad4e-be2798a407c6"
      },
      "outputs": [
        {
          "data": {
            "text/plain": [
              "array([[ 1,  2,  3,  7,  8,  9, 13, 14, 15],\n",
              "       [ 4,  5,  6, 10, 11, 12, 16, 17, 18]])"
            ]
          },
          "execution_count": 32,
          "metadata": {},
          "output_type": "execute_result"
        }
      ],
      "source": [
        "np.hstack((arr1, arr2, arr3))"
      ]
    },
    {
      "cell_type": "markdown",
      "metadata": {
        "id": "VO0i8eMolYjh"
      },
      "source": [
        "**`np.r_[]`/`np.c_[]` 객체**"
      ]
    },
    {
      "cell_type": "markdown",
      "metadata": {
        "id": "yjGduSWBlYjh"
      },
      "source": [
        "`vstack()`/`hstack()` 과 동일한 기능을 수행하는 특수한 객체들이다."
      ]
    },
    {
      "cell_type": "markdown",
      "metadata": {
        "id": "4E2SBDGMlYjh"
      },
      "source": [
        "- `np.r_[x, y, ...]` := `np.vstack((x, y, ...))`"
      ]
    },
    {
      "cell_type": "code",
      "execution_count": null,
      "metadata": {
        "id": "euF_3smzlYjh",
        "outputId": "c999c34e-677b-4dc9-f371-eb1f34490794"
      },
      "outputs": [
        {
          "data": {
            "text/plain": [
              "array([[ 1,  2,  3],\n",
              "       [ 4,  5,  6],\n",
              "       [ 7,  8,  9],\n",
              "       [10, 11, 12],\n",
              "       [13, 14, 15],\n",
              "       [16, 17, 18]])"
            ]
          },
          "execution_count": 33,
          "metadata": {},
          "output_type": "execute_result"
        }
      ],
      "source": [
        "np.r_[arr1, arr2, arr3]"
      ]
    },
    {
      "cell_type": "markdown",
      "metadata": {
        "id": "wLDmV7AYlYjh"
      },
      "source": [
        "- `np.c_[x, y, ...]` := `np.hstack((x, y, ...))`"
      ]
    },
    {
      "cell_type": "code",
      "execution_count": null,
      "metadata": {
        "id": "tLldpr-klYjh",
        "outputId": "4cd8bf5a-2386-4de9-e0fa-1bf008c27ecc"
      },
      "outputs": [
        {
          "data": {
            "text/plain": [
              "array([[ 1,  2,  3,  7,  8,  9, 13, 14, 15],\n",
              "       [ 4,  5,  6, 10, 11, 12, 16, 17, 18]])"
            ]
          },
          "execution_count": 34,
          "metadata": {},
          "output_type": "execute_result"
        }
      ],
      "source": [
        "np.c_[arr1, arr2, arr3]"
      ]
    },
    {
      "cell_type": "markdown",
      "metadata": {
        "id": "bV_tvf39lYjh"
      },
      "source": [
        "## 브로드캐스팅"
      ]
    },
    {
      "cell_type": "markdown",
      "metadata": {
        "id": "8kXan25nlYjh"
      },
      "source": [
        "**브로드캐스팅**<font size='2'>broadcasting</font>\n",
        "모양이 서로 다른 두 어레이가 주어졌을 때 두 모양을 통일시킬 수 있다면 두 어레이의 연산이 가능하도록\n",
        "도와주는 기능이다.\n",
        "설명을 위해 하나의 어레이와 하나의 정수의 곱셈이 작동하는 과정을 살펴본다."
      ]
    },
    {
      "cell_type": "code",
      "execution_count": null,
      "metadata": {
        "id": "yfaXAQenlYji",
        "outputId": "68ef9e33-7578-43ce-ba6f-65bfd0552236"
      },
      "outputs": [
        {
          "data": {
            "text/plain": [
              "array([[0, 1, 2],\n",
              "       [3, 4, 5]])"
            ]
          },
          "execution_count": 35,
          "metadata": {},
          "output_type": "execute_result"
        }
      ],
      "source": [
        "arr = np.arange(6).reshape((2,3))\n",
        "arr"
      ]
    },
    {
      "cell_type": "markdown",
      "metadata": {
        "id": "w7ypHMG8lYji"
      },
      "source": [
        "위 어레이에 4를 곱한 결과는 다음과 같다."
      ]
    },
    {
      "cell_type": "code",
      "execution_count": null,
      "metadata": {
        "id": "lDh6KGaXlYji",
        "outputId": "67481395-dc51-475f-a326-599ce006c0aa"
      },
      "outputs": [
        {
          "data": {
            "text/plain": [
              "array([[ 0,  4,  8],\n",
              "       [12, 16, 20]])"
            ]
          },
          "execution_count": 36,
          "metadata": {},
          "output_type": "execute_result"
        }
      ],
      "source": [
        "arr * 4"
      ]
    },
    {
      "cell_type": "markdown",
      "metadata": {
        "id": "UIbCGDkmlYji"
      },
      "source": [
        "결과가 항목별로 곱해지는 이유는 `arr * 4` 가 아래 어레이의 곱셈과 동일하게 작동하기 때문이다.\n",
        "즉, 정수 4로 채워진 동일한 모양의 어레이를 먼저 생성한 후에 항목별 곱셈을 진행한다."
      ]
    },
    {
      "cell_type": "markdown",
      "metadata": {
        "id": "jRb4Qqj6lYji"
      },
      "source": [
        "<div align=\"center\"><img src=\"https://raw.githubusercontent.com/codingalzi/datapy/master/jupyter-book/images/broadcasting14.png?raw=true\" style=\"width:300px;\"></div>"
      ]
    },
    {
      "cell_type": "markdown",
      "metadata": {
        "id": "_zNWsDJglYji"
      },
      "source": [
        "이와 같이 어레이의 모양을 확장하여 항목별 연산이 가능해지도록 하는 기능은 두 어레이의 모야을\n",
        "통일시킬 수 있는 경우 항상 작동한다."
      ]
    },
    {
      "cell_type": "markdown",
      "metadata": {
        "id": "JVtnN638lYji"
      },
      "source": [
        "### 브로드캐스팅과 연산"
      ]
    },
    {
      "cell_type": "markdown",
      "metadata": {
        "id": "_cbW4dUnlYji"
      },
      "source": [
        "어레이 연산을 실행할 때 브로드캐스팅이 가능한 경우 자동 적용된다."
      ]
    },
    {
      "cell_type": "markdown",
      "metadata": {
        "id": "0Rb42z2LlYji"
      },
      "source": [
        "**예제**"
      ]
    },
    {
      "cell_type": "markdown",
      "metadata": {
        "id": "zyQJQ16XlYji"
      },
      "source": [
        "아래 코드는 1차원 어레이를 2차원 어레이로 확장하여 다른 어레이와 모양을 맞춘 후 연산을 실행한 결과를 보여준다."
      ]
    },
    {
      "cell_type": "code",
      "execution_count": null,
      "metadata": {
        "id": "KfsAF7yAlYjj",
        "outputId": "98d32833-6205-4810-e8d1-c84eb2776e45"
      },
      "outputs": [
        {
          "data": {
            "text/plain": [
              "array([[0, 0, 0],\n",
              "       [1, 1, 1],\n",
              "       [2, 2, 2],\n",
              "       [3, 3, 3]])"
            ]
          },
          "execution_count": 37,
          "metadata": {},
          "output_type": "execute_result"
        }
      ],
      "source": [
        "arr2 = np.arange(4).reshape((4,1)).repeat(3,axis=1)\n",
        "arr2"
      ]
    },
    {
      "cell_type": "code",
      "execution_count": null,
      "metadata": {
        "id": "udpunr_ylYjj",
        "outputId": "cd438aa9-1941-48cc-b1b1-12cc0068916c"
      },
      "outputs": [
        {
          "data": {
            "text/plain": [
              "array([1, 2, 3])"
            ]
          },
          "execution_count": 38,
          "metadata": {},
          "output_type": "execute_result"
        }
      ],
      "source": [
        "arr3 = np.arange(1, 4)\n",
        "arr3"
      ]
    },
    {
      "cell_type": "code",
      "execution_count": null,
      "metadata": {
        "id": "uzML5fGJlYjj",
        "outputId": "6cc997a9-0370-4a12-e67c-ed9441a51149"
      },
      "outputs": [
        {
          "data": {
            "text/plain": [
              "array([[1, 2, 3],\n",
              "       [2, 3, 4],\n",
              "       [3, 4, 5],\n",
              "       [4, 5, 6]])"
            ]
          },
          "execution_count": 39,
          "metadata": {},
          "output_type": "execute_result"
        }
      ],
      "source": [
        "arr2 + arr3"
      ]
    },
    {
      "cell_type": "markdown",
      "metadata": {
        "id": "LvUgKLG5lYjj"
      },
      "source": [
        "아래 그림이 위 연산이 작동하는 이유를 설명한다."
      ]
    },
    {
      "cell_type": "markdown",
      "metadata": {
        "id": "8SdFbGlRlYjj"
      },
      "source": [
        "<div align=\"center\"><img src=\"https://raw.githubusercontent.com/codingalzi/datapy/master/jupyter-book/images/broadcasting10.png?raw=true\" style=\"width:400px;\"></div>"
      ]
    },
    {
      "cell_type": "markdown",
      "metadata": {
        "id": "PSfp8-CYlYjj"
      },
      "source": [
        "동일한 이유로 다음 연산도 가능하다."
      ]
    },
    {
      "cell_type": "code",
      "execution_count": null,
      "metadata": {
        "id": "GpvwdyXTlYjj",
        "outputId": "54db79ee-36cc-4942-f772-de29fd8bf1c2"
      },
      "outputs": [
        {
          "data": {
            "text/plain": [
              "array([[1, 2, 3]])"
            ]
          },
          "execution_count": 40,
          "metadata": {},
          "output_type": "execute_result"
        }
      ],
      "source": [
        "arr3_a = np.arange(1, 4)[np.newaxis, :]\n",
        "arr3_a"
      ]
    },
    {
      "cell_type": "code",
      "execution_count": null,
      "metadata": {
        "id": "NNYZRdj7lYjj",
        "outputId": "d87e7b42-6597-4cf8-9de6-4a72c9e14a85"
      },
      "outputs": [
        {
          "data": {
            "text/plain": [
              "array([[1, 2, 3],\n",
              "       [2, 3, 4],\n",
              "       [3, 4, 5],\n",
              "       [4, 5, 6]])"
            ]
          },
          "execution_count": 41,
          "metadata": {},
          "output_type": "execute_result"
        }
      ],
      "source": [
        "arr2 + arr3_a"
      ]
    },
    {
      "cell_type": "markdown",
      "metadata": {
        "id": "40UkoZE1lYjj"
      },
      "source": [
        "<div align=\"center\"><img src=\"https://raw.githubusercontent.com/codingalzi/datapy/master/jupyter-book/images/broadcasting10a.png?raw=true\" style=\"width:400px;\"></div>"
      ]
    },
    {
      "cell_type": "markdown",
      "metadata": {
        "id": "mEM5AjMWlYjj"
      },
      "source": [
        "**예제**"
      ]
    },
    {
      "cell_type": "markdown",
      "metadata": {
        "id": "qgS48ecPlYjk"
      },
      "source": [
        "아래 예제는 2차원 어레이의 칸을 복제하여 모양을 맞춘 후 연산을 실행한다."
      ]
    },
    {
      "cell_type": "code",
      "execution_count": null,
      "metadata": {
        "id": "9mdxXlXtlYjk",
        "outputId": "174ddcfd-5619-4a25-9054-26819f0bb938"
      },
      "outputs": [
        {
          "data": {
            "text/plain": [
              "array([[1],\n",
              "       [2],\n",
              "       [3],\n",
              "       [4]])"
            ]
          },
          "execution_count": 42,
          "metadata": {},
          "output_type": "execute_result"
        }
      ],
      "source": [
        "arr4 = np.arange(1, 5).reshape((4,1))\n",
        "arr4"
      ]
    },
    {
      "cell_type": "code",
      "execution_count": null,
      "metadata": {
        "id": "khPeOqB0lYjk",
        "outputId": "4984e4a5-c0f5-4120-9aa3-cec72ed1b119"
      },
      "outputs": [
        {
          "data": {
            "text/plain": [
              "array([[1, 1, 1],\n",
              "       [3, 3, 3],\n",
              "       [5, 5, 5],\n",
              "       [7, 7, 7]])"
            ]
          },
          "execution_count": 43,
          "metadata": {},
          "output_type": "execute_result"
        }
      ],
      "source": [
        "arr2 + arr4"
      ]
    },
    {
      "cell_type": "markdown",
      "metadata": {
        "id": "zCC0RVfDlYjk"
      },
      "source": [
        "<div align=\"center\"><img src=\"https://raw.githubusercontent.com/codingalzi/datapy/master/jupyter-book/images/broadcasting11.png?raw=true\" style=\"width:400px;\"></div>"
      ]
    },
    {
      "cell_type": "markdown",
      "metadata": {
        "id": "eSeB1UWQlYjk"
      },
      "source": [
        "그런데 브로드캐스팅이 가능하지 않으면 오류가 발생한다.\n",
        "예를 아래 두 어레이의 덧셈은 불가능하다."
      ]
    },
    {
      "cell_type": "code",
      "execution_count": null,
      "metadata": {
        "id": "RSiIFfcPlYjk",
        "outputId": "48f38ff6-4efc-4fd0-db23-98577477aeda"
      },
      "outputs": [
        {
          "data": {
            "text/plain": [
              "array([[ 0,  0,  0],\n",
              "       [10, 10, 10],\n",
              "       [20, 20, 20],\n",
              "       [30, 30, 30]])"
            ]
          },
          "execution_count": 44,
          "metadata": {},
          "output_type": "execute_result"
        }
      ],
      "source": [
        "x = np.arange(0, 31, 10)\n",
        "arr5 = np.c_[x, x, x]\n",
        "arr5"
      ]
    },
    {
      "cell_type": "code",
      "execution_count": null,
      "metadata": {
        "id": "HdS7b1AnlYjk",
        "outputId": "c91e51dd-57cd-41a1-e571-154f250e9e45"
      },
      "outputs": [
        {
          "data": {
            "text/plain": [
              "array([1, 2, 3, 4])"
            ]
          },
          "execution_count": 45,
          "metadata": {},
          "output_type": "execute_result"
        }
      ],
      "source": [
        "arr4_a = arr4.flatten()\n",
        "arr4_a"
      ]
    },
    {
      "cell_type": "markdown",
      "metadata": {
        "id": "ZOjOEv-1lYjk"
      },
      "source": [
        "```python\n",
        ">>> arr5+ arr4_a\n",
        "---------------------------------------------------------------------------\n",
        "ValueError                                Traceback (most recent call last)\n",
        "Cell In [80], line 1\n",
        "----> 1 arr5+ arr4_a\n",
        "\n",
        "ValueError: operands could not be broadcast together with shapes (4,3) (4,)\n",
        "```"
      ]
    },
    {
      "cell_type": "markdown",
      "metadata": {
        "id": "T_Xe__uclYjk"
      },
      "source": [
        "아래 그림이 이유를 설명한다."
      ]
    },
    {
      "cell_type": "markdown",
      "metadata": {
        "id": "IzYbx-S3lYjk"
      },
      "source": [
        "<div align=\"center\"><img src=\"https://raw.githubusercontent.com/codingalzi/datapy/master/jupyter-book/images/broadcasting11a.png?raw=true\" style=\"width:380px;\"></div>\n",
        "\n",
        "<p><div style=\"text-align: center\">&lt;그림 출처: <a href=\"https://numpy.org/doc/stable/user/basics.broadcasting.html\">NumPy: Broadcasting</a>&gt;</div></p>"
      ]
    },
    {
      "cell_type": "markdown",
      "metadata": {
        "id": "EFGeHJrTlYjl"
      },
      "source": [
        "**예제**"
      ]
    },
    {
      "cell_type": "markdown",
      "metadata": {
        "id": "cm2BjXvzlYjl"
      },
      "source": [
        "아래 예제는 2차원 어레이를 3차원으로 확장한 후에 연산을 진행하는 것을 보여준다."
      ]
    },
    {
      "cell_type": "code",
      "execution_count": null,
      "metadata": {
        "id": "F9c3zJYzlYjl",
        "outputId": "085f9a2a-f5e4-4f9c-a560-b039f4ee28fa"
      },
      "outputs": [
        {
          "data": {
            "text/plain": [
              "array([[[ 0,  1],\n",
              "        [ 2,  3],\n",
              "        [ 4,  5],\n",
              "        [ 6,  7]],\n",
              "\n",
              "       [[ 8,  9],\n",
              "        [10, 11],\n",
              "        [12, 13],\n",
              "        [14, 15]],\n",
              "\n",
              "       [[16, 17],\n",
              "        [18, 19],\n",
              "        [20, 21],\n",
              "        [22, 23]]])"
            ]
          },
          "execution_count": 46,
          "metadata": {},
          "output_type": "execute_result"
        }
      ],
      "source": [
        "arr6 = np.arange(24).reshape((3, 4, 2))\n",
        "arr6"
      ]
    },
    {
      "cell_type": "code",
      "execution_count": null,
      "metadata": {
        "id": "qfm7nSxilYjl",
        "outputId": "99f65446-2fe9-42f7-8ea4-b85cd557475e"
      },
      "outputs": [
        {
          "data": {
            "text/plain": [
              "array([[0, 1],\n",
              "       [2, 3],\n",
              "       [4, 5],\n",
              "       [6, 7]])"
            ]
          },
          "execution_count": 47,
          "metadata": {},
          "output_type": "execute_result"
        }
      ],
      "source": [
        "arr7 = np.arange(8).reshape((4, 2))\n",
        "arr7"
      ]
    },
    {
      "cell_type": "code",
      "execution_count": null,
      "metadata": {
        "id": "nY0l6VAplYjl",
        "outputId": "639e32f7-d883-4bd7-97a9-af79778f3760"
      },
      "outputs": [
        {
          "data": {
            "text/plain": [
              "array([[[ 0,  2],\n",
              "        [ 4,  6],\n",
              "        [ 8, 10],\n",
              "        [12, 14]],\n",
              "\n",
              "       [[ 8, 10],\n",
              "        [12, 14],\n",
              "        [16, 18],\n",
              "        [20, 22]],\n",
              "\n",
              "       [[16, 18],\n",
              "        [20, 22],\n",
              "        [24, 26],\n",
              "        [28, 30]]])"
            ]
          },
          "execution_count": 48,
          "metadata": {},
          "output_type": "execute_result"
        }
      ],
      "source": [
        "arr6 + arr7"
      ]
    },
    {
      "cell_type": "markdown",
      "metadata": {
        "id": "PihQfs2MlYjl"
      },
      "source": [
        "<div align=\"center\"><img src=\"https://raw.githubusercontent.com/codingalzi/datapy/master/jupyter-book/images/broadcasting12.png?raw=true\" style=\"width:400px;\"></div>"
      ]
    },
    {
      "cell_type": "markdown",
      "metadata": {
        "id": "HCJnPzY0lYjl"
      },
      "source": [
        "**예제**"
      ]
    },
    {
      "cell_type": "markdown",
      "metadata": {
        "id": "8J8XSC56lYjl"
      },
      "source": [
        "아래 코드는 어레이의 열별 평균값이 0이 되도록 하려 한다."
      ]
    },
    {
      "cell_type": "code",
      "execution_count": null,
      "metadata": {
        "id": "zN_Sd5snlYjm",
        "outputId": "71f54267-23c4-4b57-8fe8-a5ea16eaeda5"
      },
      "outputs": [
        {
          "data": {
            "text/plain": [
              "array([[ 0.2863,  0.378 , -0.7539],\n",
              "       [ 0.3313,  1.3497,  0.0699],\n",
              "       [ 0.2467, -0.0119,  1.0048],\n",
              "       [ 1.3272, -0.9193, -1.5491]])"
            ]
          },
          "execution_count": 49,
          "metadata": {},
          "output_type": "execute_result"
        }
      ],
      "source": [
        "arr = np.random.randn(4, 3)\n",
        "arr"
      ]
    },
    {
      "cell_type": "markdown",
      "metadata": {
        "id": "VY7aI-U0lYjm"
      },
      "source": [
        "기존 어레이의 열별 평균값을 각각의 열에서 뺀다."
      ]
    },
    {
      "cell_type": "code",
      "execution_count": null,
      "metadata": {
        "id": "qkaeRTs7lYjm",
        "outputId": "852fab58-09ca-4a47-d04d-5507cc9f3a51"
      },
      "outputs": [
        {
          "data": {
            "text/plain": [
              "array([ 0.5479,  0.1992, -0.3071])"
            ]
          },
          "execution_count": 50,
          "metadata": {},
          "output_type": "execute_result"
        }
      ],
      "source": [
        "arr.mean(0) # arr.mean(axis=0)"
      ]
    },
    {
      "cell_type": "code",
      "execution_count": null,
      "metadata": {
        "id": "ftBOG4ZIlYjm",
        "outputId": "a3b29100-2ce4-4f32-9ca3-d6e2e8b856e9"
      },
      "outputs": [
        {
          "data": {
            "text/plain": [
              "array([[-0.2615,  0.1788, -0.4468],\n",
              "       [-0.2166,  1.1506,  0.377 ],\n",
              "       [-0.3012, -0.211 ,  1.3119],\n",
              "       [ 0.7793, -1.1184, -1.242 ]])"
            ]
          },
          "execution_count": 51,
          "metadata": {},
          "output_type": "execute_result"
        }
      ],
      "source": [
        "demeaned = arr - arr.mean(0)\n",
        "demeaned"
      ]
    },
    {
      "cell_type": "markdown",
      "metadata": {
        "id": "6aVqxXuslYjm"
      },
      "source": [
        "이제 열별 평균값을 확인하면 0이 된다."
      ]
    },
    {
      "cell_type": "code",
      "execution_count": null,
      "metadata": {
        "id": "PyHbTXCulYjm",
        "outputId": "62f7c956-1c38-4a73-d41d-d62638e6f262"
      },
      "outputs": [
        {
          "data": {
            "text/plain": [
              "array([-0.,  0.,  0.])"
            ]
          },
          "execution_count": 52,
          "metadata": {},
          "output_type": "execute_result"
        }
      ],
      "source": [
        "demeaned.mean(0)"
      ]
    },
    {
      "cell_type": "markdown",
      "metadata": {
        "id": "ORGsSQiMlYjn"
      },
      "source": [
        "**예제**"
      ]
    },
    {
      "cell_type": "markdown",
      "metadata": {
        "id": "LmU6_gCElYjn"
      },
      "source": [
        "아래 코드는 어레이의 행별 평균값이 0이 되도록 하려 한다."
      ]
    },
    {
      "cell_type": "code",
      "execution_count": null,
      "metadata": {
        "id": "BhUOUvXglYjn",
        "outputId": "8168f91f-c39a-4c72-c6c9-59e4cb574e22"
      },
      "outputs": [
        {
          "data": {
            "text/plain": [
              "array([[ 0.2863,  0.378 , -0.7539],\n",
              "       [ 0.3313,  1.3497,  0.0699],\n",
              "       [ 0.2467, -0.0119,  1.0048],\n",
              "       [ 1.3272, -0.9193, -1.5491]])"
            ]
          },
          "execution_count": 53,
          "metadata": {},
          "output_type": "execute_result"
        }
      ],
      "source": [
        "arr"
      ]
    },
    {
      "cell_type": "code",
      "execution_count": null,
      "metadata": {
        "id": "KrsLhEXXlYjn",
        "outputId": "8b5cea08-1dee-4591-f437-6d694a652d4b"
      },
      "outputs": [
        {
          "data": {
            "text/plain": [
              "array([-0.0299,  0.5836,  0.4132, -0.3804])"
            ]
          },
          "execution_count": 54,
          "metadata": {},
          "output_type": "execute_result"
        }
      ],
      "source": [
        "row_means = arr.mean(1)\n",
        "row_means"
      ]
    },
    {
      "cell_type": "code",
      "execution_count": null,
      "metadata": {
        "id": "tbCHlbH6lYjn",
        "outputId": "4f5f3223-21d3-4f58-8632-c74ed13d9e94"
      },
      "outputs": [
        {
          "data": {
            "text/plain": [
              "array([[-0.0299],\n",
              "       [ 0.5836],\n",
              "       [ 0.4132],\n",
              "       [-0.3804]])"
            ]
          },
          "execution_count": 55,
          "metadata": {},
          "output_type": "execute_result"
        }
      ],
      "source": [
        "row_means.reshape((4, 1))"
      ]
    },
    {
      "cell_type": "code",
      "execution_count": null,
      "metadata": {
        "id": "VJkJCAu5lYjn"
      },
      "outputs": [],
      "source": [
        "demeaned = arr - row_means.reshape((4, 1))"
      ]
    },
    {
      "cell_type": "code",
      "execution_count": null,
      "metadata": {
        "id": "pcDQUY_7lYjn",
        "outputId": "00c64004-c5bf-42ea-a6ef-a7c7bb3c6e6c"
      },
      "outputs": [
        {
          "data": {
            "text/plain": [
              "array([ 0.,  0., -0.,  0.])"
            ]
          },
          "execution_count": 57,
          "metadata": {},
          "output_type": "execute_result"
        }
      ],
      "source": [
        "demeaned.mean(1)"
      ]
    },
    {
      "cell_type": "markdown",
      "metadata": {
        "id": "RPb9IKuYlYjo"
      },
      "source": [
        "### 브로드캐스팅과 항목 대체"
      ]
    },
    {
      "cell_type": "markdown",
      "metadata": {
        "id": "xtPdUnEqlYjo"
      },
      "source": [
        "브로드캐스팅으로 어레이의 항목을 대체할 수 있다.\n",
        "설명을 위해 아래 어레이를 사용한다."
      ]
    },
    {
      "cell_type": "code",
      "execution_count": null,
      "metadata": {
        "id": "FZ-k2iSHlYjo",
        "outputId": "857c36a8-56cd-4916-8037-3ac06a65c070"
      },
      "outputs": [
        {
          "data": {
            "text/plain": [
              "array([[0., 0., 0.],\n",
              "       [0., 0., 0.],\n",
              "       [0., 0., 0.],\n",
              "       [0., 0., 0.]])"
            ]
          },
          "execution_count": 58,
          "metadata": {},
          "output_type": "execute_result"
        }
      ],
      "source": [
        "arr = np.zeros((4, 3))\n",
        "arr"
      ]
    },
    {
      "cell_type": "markdown",
      "metadata": {
        "id": "7LrdCbeTlYjo"
      },
      "source": [
        "**예제**"
      ]
    },
    {
      "cell_type": "markdown",
      "metadata": {
        "id": "jHh7NmfzlYjo"
      },
      "source": [
        "모든 항목을 5로 대체한다."
      ]
    },
    {
      "cell_type": "code",
      "execution_count": null,
      "metadata": {
        "id": "HXE4AFT_lYjo",
        "outputId": "03a54158-2dd0-4367-ec4d-2bcf9e7e6218"
      },
      "outputs": [
        {
          "data": {
            "text/plain": [
              "array([[5., 5., 5.],\n",
              "       [5., 5., 5.],\n",
              "       [5., 5., 5.],\n",
              "       [5., 5., 5.]])"
            ]
          },
          "execution_count": 59,
          "metadata": {},
          "output_type": "execute_result"
        }
      ],
      "source": [
        "arr[:] = 5\n",
        "arr"
      ]
    },
    {
      "cell_type": "markdown",
      "metadata": {
        "id": "fW6c_tknlYjo"
      },
      "source": [
        "**예제**"
      ]
    },
    {
      "cell_type": "markdown",
      "metadata": {
        "id": "sGNMMsywlYjo"
      },
      "source": [
        "모든 열을 지정된 열로 대체한다."
      ]
    },
    {
      "cell_type": "code",
      "execution_count": null,
      "metadata": {
        "id": "H1VO5X4flYjo",
        "outputId": "1e53903b-d9d1-48b1-b64e-9b227d9626f0"
      },
      "outputs": [
        {
          "data": {
            "text/plain": [
              "array([[ 1.28],\n",
              "       [-0.42],\n",
              "       [ 0.44],\n",
              "       [ 1.6 ]])"
            ]
          },
          "execution_count": 60,
          "metadata": {},
          "output_type": "execute_result"
        }
      ],
      "source": [
        "col = np.array([1.28, -0.42, 0.44, 1.6])\n",
        "col[:, np.newaxis]"
      ]
    },
    {
      "cell_type": "code",
      "execution_count": null,
      "metadata": {
        "id": "98onWBWxlYjo",
        "outputId": "3e6a488e-a5fa-4d1c-fae4-6b664c0fa534"
      },
      "outputs": [
        {
          "data": {
            "text/plain": [
              "array([[ 1.28,  1.28,  1.28],\n",
              "       [-0.42, -0.42, -0.42],\n",
              "       [ 0.44,  0.44,  0.44],\n",
              "       [ 1.6 ,  1.6 ,  1.6 ]])"
            ]
          },
          "execution_count": 61,
          "metadata": {},
          "output_type": "execute_result"
        }
      ],
      "source": [
        "arr[:] = col[:, np.newaxis]\n",
        "arr"
      ]
    },
    {
      "cell_type": "markdown",
      "metadata": {
        "id": "fphtDRPzlYjp"
      },
      "source": [
        "**예제**"
      ]
    },
    {
      "cell_type": "markdown",
      "metadata": {
        "id": "RuCAUTivlYjp"
      },
      "source": [
        "0번, 1번 행을 특정 값으로 대체한다."
      ]
    },
    {
      "cell_type": "code",
      "execution_count": null,
      "metadata": {
        "id": "xxOeHkuDlYjp",
        "outputId": "9873841f-6a2b-42b1-edc3-081a81747c17"
      },
      "outputs": [
        {
          "data": {
            "text/plain": [
              "array([[-1.37 , -1.37 , -1.37 ],\n",
              "       [ 0.509,  0.509,  0.509],\n",
              "       [ 0.44 ,  0.44 ,  0.44 ],\n",
              "       [ 1.6  ,  1.6  ,  1.6  ]])"
            ]
          },
          "execution_count": 62,
          "metadata": {},
          "output_type": "execute_result"
        }
      ],
      "source": [
        "arr[:2] = [[-1.37], [0.509]]\n",
        "arr"
      ]
    },
    {
      "cell_type": "markdown",
      "metadata": {
        "id": "wuwNQFEQlYjp"
      },
      "source": [
        "## 연습문제"
      ]
    },
    {
      "cell_type": "markdown",
      "metadata": {
        "id": "h6_39zxKlYjp"
      },
      "source": [
        "참고: [(실습) 고급 넘파이](https://colab.research.google.com/github/codingalzi/datapy/blob/master/practices/practice-numpy_4.ipynb)"
      ]
    }
  ],
  "metadata": {
    "kernelspec": {
      "display_name": "Python 3 (ipykernel)",
      "language": "python",
      "name": "python3"
    },
    "language_info": {
      "codemirror_mode": {
        "name": "ipython",
        "version": 3
      },
      "file_extension": ".py",
      "mimetype": "text/x-python",
      "name": "python",
      "nbconvert_exporter": "python",
      "pygments_lexer": "ipython3",
      "version": "3.11.4"
    },
    "vscode": {
      "interpreter": {
        "hash": "ad0f3c8a064f687cbf898a0868fd45ba1c7e928ac8a0404f7c241d812ddc1e76"
      }
    },
    "colab": {
      "provenance": [],
      "include_colab_link": true
    }
  },
  "nbformat": 4,
  "nbformat_minor": 0
}