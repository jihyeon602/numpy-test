{
  "cells": [
    {
      "cell_type": "markdown",
      "metadata": {
        "id": "Ik7aVeYNNRaf"
      },
      "source": [
        "# (실습) 넘파이 어레이"
      ]
    },
    {
      "cell_type": "markdown",
      "metadata": {
        "id": "llsbgJz3NRag"
      },
      "source": [
        "**주의사항**\n",
        "\n",
        "- `None`은 적절한 표현식으로 대체한다.\n",
        "- `Pass`는 적절한 명령문으로 대체한다."
      ]
    },
    {
      "cell_type": "markdown",
      "metadata": {
        "id": "U_-kmcQiNRag"
      },
      "source": [
        "## numpy 모듈"
      ]
    },
    {
      "cell_type": "markdown",
      "metadata": {
        "id": "Q7O-2tx1NRah"
      },
      "source": [
        "**문제 1**"
      ]
    },
    {
      "cell_type": "markdown",
      "metadata": {
        "id": "1Rk3MCirx-gA"
      },
      "source": [
        "아래 코드를 설명하라."
      ]
    },
    {
      "cell_type": "code",
      "execution_count": 1,
      "metadata": {
        "id": "J71Fcvihxzi9"
      },
      "outputs": [],
      "source": [
        "import numpy as np"
      ]
    },
    {
      "cell_type": "markdown",
      "metadata": {
        "id": "2A1lwouvNRai"
      },
      "source": [
        "`코드설명`: 넘파이 기본 모듈 임폴트"
      ]
    },
    {
      "cell_type": "markdown",
      "metadata": {
        "id": "w4gZgwzHNRai"
      },
      "source": [
        "아래 코드는 수정하지 마세요!!!"
      ]
    },
    {
      "cell_type": "code",
      "execution_count": 2,
      "metadata": {
        "colab": {
          "base_uri": "https://localhost:8080/",
          "height": 35
        },
        "id": "pXMIfvi9yHG5",
        "outputId": "e1d352dd-1195-4178-83ff-99ed3e701e22"
      },
      "outputs": [
        {
          "output_type": "execute_result",
          "data": {
            "text/plain": [
              "'1.26.4'"
            ],
            "application/vnd.google.colaboratory.intrinsic+json": {
              "type": "string"
            }
          },
          "metadata": {},
          "execution_count": 2
        }
      ],
      "source": [
        "np.__version__"
      ]
    },
    {
      "cell_type": "markdown",
      "metadata": {
        "id": "WzFAUdqfNRai"
      },
      "source": [
        "**문제 2**"
      ]
    },
    {
      "cell_type": "markdown",
      "metadata": {
        "id": "zu0he5qtNRaj"
      },
      "source": [
        "아래 코드의 기능을 설명하라"
      ]
    },
    {
      "cell_type": "code",
      "execution_count": null,
      "metadata": {
        "id": "d_Ns_vg-NRaj"
      },
      "outputs": [],
      "source": [
        "np.random.seed(42)"
      ]
    },
    {
      "cell_type": "markdown",
      "metadata": {
        "id": "FEubtOlqNRaj"
      },
      "source": [
        "`코드설명`: 42까지의 랜덤시드 생성"
      ]
    },
    {
      "cell_type": "markdown",
      "metadata": {
        "id": "e9_nBbKENRaj"
      },
      "source": [
        "**문제 3**"
      ]
    },
    {
      "cell_type": "markdown",
      "metadata": {
        "id": "i7FxY4r1NRaj"
      },
      "source": [
        "부동소수점으로 구성된 어레이의 항목은 기본적으로 소수점 이하 8자리까지 출력한다."
      ]
    },
    {
      "cell_type": "code",
      "execution_count": 3,
      "metadata": {
        "colab": {
          "base_uri": "https://localhost:8080/"
        },
        "id": "-YZo7VvlNRaj",
        "outputId": "55dc73a7-7211-481b-eebc-08b4bdf6913e"
      },
      "outputs": [
        {
          "output_type": "execute_result",
          "data": {
            "text/plain": [
              "array([[0.14212133, 0.45513806, 0.57902406, ..., 0.17524441, 0.32361802,\n",
              "        0.57091341],\n",
              "       [0.95246032, 0.07265213, 0.14121553, ..., 0.1388551 , 0.69755234,\n",
              "        0.17828653],\n",
              "       [0.34083857, 0.19982505, 0.84158356, ..., 0.19831164, 0.78075047,\n",
              "        0.77271555],\n",
              "       ...,\n",
              "       [0.04676722, 0.08464179, 0.14928981, ..., 0.61288741, 0.13461771,\n",
              "        0.45002274],\n",
              "       [0.87275801, 0.59809252, 0.97613938, ..., 0.34774266, 0.55721059,\n",
              "        0.67063702],\n",
              "       [0.48919849, 0.99104513, 0.47476002, ..., 0.09389428, 0.6465654 ,\n",
              "        0.23629007]])"
            ]
          },
          "metadata": {},
          "execution_count": 3
        }
      ],
      "source": [
        "Z = np.random.random((40,40))\n",
        "Z"
      ]
    },
    {
      "cell_type": "markdown",
      "metadata": {
        "id": "GKBp6EMKNRaj"
      },
      "source": [
        "`np.set_printoptions()` 의 기능을 다음 두 개의 예를 이용하여 설명하라."
      ]
    },
    {
      "cell_type": "code",
      "execution_count": 4,
      "metadata": {
        "id": "HZ4SbiFVNRaj"
      },
      "outputs": [],
      "source": [
        "np.set_printoptions(precision=4)"
      ]
    },
    {
      "cell_type": "code",
      "execution_count": 5,
      "metadata": {
        "colab": {
          "base_uri": "https://localhost:8080/"
        },
        "id": "FvSqJVSWNRaj",
        "outputId": "1b23dbe5-1b32-478d-a897-598491dfc3bf"
      },
      "outputs": [
        {
          "output_type": "execute_result",
          "data": {
            "text/plain": [
              "array([[0.1421, 0.4551, 0.579 , ..., 0.1752, 0.3236, 0.5709],\n",
              "       [0.9525, 0.0727, 0.1412, ..., 0.1389, 0.6976, 0.1783],\n",
              "       [0.3408, 0.1998, 0.8416, ..., 0.1983, 0.7808, 0.7727],\n",
              "       ...,\n",
              "       [0.0468, 0.0846, 0.1493, ..., 0.6129, 0.1346, 0.45  ],\n",
              "       [0.8728, 0.5981, 0.9761, ..., 0.3477, 0.5572, 0.6706],\n",
              "       [0.4892, 0.991 , 0.4748, ..., 0.0939, 0.6466, 0.2363]])"
            ]
          },
          "metadata": {},
          "execution_count": 5
        }
      ],
      "source": [
        "Z"
      ]
    },
    {
      "cell_type": "code",
      "execution_count": 6,
      "metadata": {
        "id": "1TVI_trkNRak"
      },
      "outputs": [],
      "source": [
        "np.set_printoptions(precision=6)"
      ]
    },
    {
      "cell_type": "code",
      "execution_count": 7,
      "metadata": {
        "colab": {
          "base_uri": "https://localhost:8080/"
        },
        "id": "OYSlSYYrNRak",
        "outputId": "2a1a18df-0715-4bd3-cfe8-1970f0b0e833"
      },
      "outputs": [
        {
          "output_type": "execute_result",
          "data": {
            "text/plain": [
              "array([[0.142121, 0.455138, 0.579024, ..., 0.175244, 0.323618, 0.570913],\n",
              "       [0.95246 , 0.072652, 0.141216, ..., 0.138855, 0.697552, 0.178287],\n",
              "       [0.340839, 0.199825, 0.841584, ..., 0.198312, 0.78075 , 0.772716],\n",
              "       ...,\n",
              "       [0.046767, 0.084642, 0.14929 , ..., 0.612887, 0.134618, 0.450023],\n",
              "       [0.872758, 0.598093, 0.976139, ..., 0.347743, 0.557211, 0.670637],\n",
              "       [0.489198, 0.991045, 0.47476 , ..., 0.093894, 0.646565, 0.23629 ]])"
            ]
          },
          "metadata": {},
          "execution_count": 7
        }
      ],
      "source": [
        "Z"
      ]
    },
    {
      "cell_type": "markdown",
      "metadata": {
        "id": "s7pZE3gyNRak"
      },
      "source": [
        "`코드설명`: 어레이에 포함된 부동소수점들의 표현 정확도 지정"
      ]
    },
    {
      "cell_type": "markdown",
      "metadata": {
        "id": "1eo7TRYvNRak"
      },
      "source": [
        "아래 코드는 기본 옵션값으로 되돌린다. 수정하지 마세요."
      ]
    },
    {
      "cell_type": "code",
      "execution_count": 8,
      "metadata": {
        "id": "DQcs-9WyNRak"
      },
      "outputs": [],
      "source": [
        "np.set_printoptions(precision=8)"
      ]
    },
    {
      "cell_type": "markdown",
      "metadata": {
        "id": "lUx0hujKNRak"
      },
      "source": [
        "## 1차원 어레이"
      ]
    },
    {
      "cell_type": "markdown",
      "metadata": {
        "id": "jrxLd5prNRak"
      },
      "source": [
        "**문제 1**"
      ]
    },
    {
      "cell_type": "markdown",
      "metadata": {
        "id": "D52rYqifyYtK"
      },
      "source": [
        "크기가 10이고 모든 항목이 0인 1차원 어레이를\n",
        "변수 `Z`가 가리키도록 하라.\n",
        "단, `np.zeros()` 함수를 반드시 이용한다."
      ]
    },
    {
      "cell_type": "code",
      "execution_count": 9,
      "metadata": {
        "id": "9a2qagIByT5-"
      },
      "outputs": [],
      "source": [
        "# None을 적절한 표현식으로 대체하라.\n",
        "Z = np.zeros(10)"
      ]
    },
    {
      "cell_type": "markdown",
      "metadata": {
        "id": "Wi8X-zFUNRak"
      },
      "source": [
        "아래 코드는 수정하지 마세요!!!"
      ]
    },
    {
      "cell_type": "code",
      "execution_count": 10,
      "metadata": {
        "id": "1n3iPr9nNRal"
      },
      "outputs": [],
      "source": [
        "assert (Z == np.array([0., 0., 0., 0., 0., 0., 0., 0., 0., 0.])).all()"
      ]
    },
    {
      "cell_type": "markdown",
      "metadata": {
        "id": "2kZQ_hOeNRal"
      },
      "source": [
        "**문제 2**"
      ]
    },
    {
      "cell_type": "markdown",
      "metadata": {
        "id": "Bly_H3ozyaSd"
      },
      "source": [
        "변수 `Z`가 10에서 49까지의 정수 중에서 짝수로만 구성된 1차원 어레이를 가리키도록 하라.\n",
        "단, `np.arange()` 함수를 반드시 이용한다."
      ]
    },
    {
      "cell_type": "code",
      "execution_count": 15,
      "metadata": {
        "id": "0VkfsWyPKvcE"
      },
      "outputs": [],
      "source": [
        "# None을 적절한 표현식으로 대체하라.\n",
        "Z = np.arange(10, 49 ,2)"
      ]
    },
    {
      "cell_type": "markdown",
      "metadata": {
        "id": "bvKdywxTNRal"
      },
      "source": [
        "아래 코드는 수정하지 마세요!!!"
      ]
    },
    {
      "cell_type": "code",
      "execution_count": 16,
      "metadata": {
        "id": "lIruESl5NRal"
      },
      "outputs": [],
      "source": [
        "assert (Z == np.array([10, 12, 14, 16, 18, 20, 22, 24, 26, 28, 30, 32, 34, 36, 38, 40, 42,\n",
        "                        44, 46, 48])).all()"
      ]
    },
    {
      "cell_type": "markdown",
      "metadata": {
        "id": "1Z5_-soxNRal"
      },
      "source": [
        "**문제 3**"
      ]
    },
    {
      "cell_type": "markdown",
      "metadata": {
        "id": "Csap4EuPNRal"
      },
      "source": [
        "변수 `Z`가 아래와 같이 선언되었다."
      ]
    },
    {
      "cell_type": "code",
      "execution_count": 17,
      "metadata": {
        "colab": {
          "base_uri": "https://localhost:8080/"
        },
        "id": "mL96IBD4NRal",
        "outputId": "5d526c7f-c949-475a-df47-3257e067bb8c"
      },
      "outputs": [
        {
          "output_type": "execute_result",
          "data": {
            "text/plain": [
              "array([2, 3, 1, 0, 4])"
            ]
          },
          "metadata": {},
          "execution_count": 17
        }
      ],
      "source": [
        "Z = np.array([2, 3, 1, 0, 4])\n",
        "Z"
      ]
    },
    {
      "cell_type": "markdown",
      "metadata": {
        "id": "SxzdUM19NRal"
      },
      "source": [
        "변수 `Z`의 항목을 정렬하라.\n",
        "단, sort() 메서드를 활용한다."
      ]
    },
    {
      "cell_type": "code",
      "execution_count": 18,
      "metadata": {
        "id": "Z2dPfMWFNRas"
      },
      "outputs": [],
      "source": [
        "# None을 적절한 표현식으로 대체하라.\n",
        "Z.sort()"
      ]
    },
    {
      "cell_type": "markdown",
      "metadata": {
        "id": "IdSDN7eoNRas"
      },
      "source": [
        "아래 코드는 수정하지 마세요!!!"
      ]
    },
    {
      "cell_type": "code",
      "execution_count": 19,
      "metadata": {
        "id": "0jvYvLU9NRat"
      },
      "outputs": [],
      "source": [
        "assert (Z == np.arange(5)).all()"
      ]
    },
    {
      "cell_type": "markdown",
      "metadata": {
        "id": "qzwulBXjNRat"
      },
      "source": [
        "**문제 4**"
      ]
    },
    {
      "cell_type": "markdown",
      "metadata": {
        "id": "VtKG2PA8NRat"
      },
      "source": [
        "변수 `Z`가 크기 30이며 무작위로 생성된 1차원 어레이를 가리키도록 하라.\n",
        "또한 포함된 항목들의 평균값을 계산하라.\n",
        "단, 어레이의 항목은 0과 1 사이의 임의의 부동소수점으로 구성되어야 한다.\n",
        "`np.random.random()` 함수, `mean()` 어레이 메서드를 반드시 이용한다."
      ]
    },
    {
      "cell_type": "code",
      "execution_count": 20,
      "metadata": {
        "id": "GKugpBY6NRat"
      },
      "outputs": [],
      "source": [
        "# None을 적절한 표현식으로 대체하라.\n",
        "Z = np.random.random(30)\n",
        "Z_mean = Z.mean()"
      ]
    },
    {
      "cell_type": "markdown",
      "metadata": {
        "id": "VKWnud1uNRat"
      },
      "source": [
        "아래 코드는 수정하지 마세요!!!"
      ]
    },
    {
      "cell_type": "code",
      "execution_count": 21,
      "metadata": {
        "colab": {
          "base_uri": "https://localhost:8080/"
        },
        "id": "MX3Gk2i4NRat",
        "outputId": "575b33f4-3ceb-41cc-a4f1-b569427b4733"
      },
      "outputs": [
        {
          "output_type": "stream",
          "name": "stdout",
          "text": [
            "1차원 어레이 평균값: 0.500795179183734\n"
          ]
        }
      ],
      "source": [
        "assert (Z.shape == (30,))\n",
        "print(f\"1차원 어레이 평균값: {Z_mean}\")"
      ]
    },
    {
      "cell_type": "markdown",
      "metadata": {
        "id": "A7yelnZENRat"
      },
      "source": [
        "**문제 5**"
      ]
    },
    {
      "cell_type": "markdown",
      "metadata": {
        "id": "pocSZJSY-y56"
      },
      "source": [
        "1차원 어레이가 다음과 같이 주어졌다."
      ]
    },
    {
      "cell_type": "code",
      "execution_count": 22,
      "metadata": {
        "id": "xE7Yb4k0NRat"
      },
      "outputs": [],
      "source": [
        "Z = np.arange(1, 4)"
      ]
    },
    {
      "cell_type": "markdown",
      "metadata": {
        "id": "JhEXQgtlNRat"
      },
      "source": [
        "(1) 아래 표현식의 계산 결과를 설명하라."
      ]
    },
    {
      "cell_type": "code",
      "execution_count": 23,
      "metadata": {
        "id": "ZMAOCK-mZVbd",
        "colab": {
          "base_uri": "https://localhost:8080/"
        },
        "outputId": "82b26d20-8dfc-4e12-d8a5-3d4d61055b31"
      },
      "outputs": [
        {
          "output_type": "execute_result",
          "data": {
            "text/plain": [
              "array([1, 4, 9])"
            ]
          },
          "metadata": {},
          "execution_count": 23
        }
      ],
      "source": [
        "Z*Z"
      ]
    },
    {
      "cell_type": "markdown",
      "metadata": {
        "id": "grX279fCNRau"
      },
      "source": [
        "`코드설명`: array([1, 2, 3]) * array([1, 2, 3]) = array([1, 4, 9])"
      ]
    },
    {
      "cell_type": "markdown",
      "metadata": {
        "id": "kMyxV27ONRau"
      },
      "source": [
        "(2) 아래 표현식의 계산 결과를 설명하라."
      ]
    },
    {
      "cell_type": "code",
      "execution_count": 24,
      "metadata": {
        "colab": {
          "base_uri": "https://localhost:8080/"
        },
        "id": "zi7TlBdwNRau",
        "outputId": "cb87c59d-a654-409f-ddf7-d1fd366a5d52"
      },
      "outputs": [
        {
          "output_type": "execute_result",
          "data": {
            "text/plain": [
              "array([ 1,  4, 27])"
            ]
          },
          "metadata": {},
          "execution_count": 24
        }
      ],
      "source": [
        "Z**Z"
      ]
    },
    {
      "cell_type": "markdown",
      "metadata": {
        "id": "u17BALfwNRau"
      },
      "source": [
        "\n",
        "\n",
        "`코드설명`: 제곱근"
      ]
    },
    {
      "cell_type": "markdown",
      "metadata": {
        "id": "71Lup8MYNRau"
      },
      "source": [
        "(3) 아래 표현식의 계산 결과를 설명하라."
      ]
    },
    {
      "cell_type": "code",
      "execution_count": 25,
      "metadata": {
        "colab": {
          "base_uri": "https://localhost:8080/"
        },
        "id": "CJfJkqQ8ZhZI",
        "outputId": "d648f5cd-4c79-40b8-e791-bb74ff97e03c"
      },
      "outputs": [
        {
          "output_type": "execute_result",
          "data": {
            "text/plain": [
              "array([False, False, False])"
            ]
          },
          "metadata": {},
          "execution_count": 25
        }
      ],
      "source": [
        "Z < -Z"
      ]
    },
    {
      "cell_type": "markdown",
      "metadata": {
        "id": "6a7rOM0ENRau"
      },
      "source": [
        "`코드설명`: array([1, 2, 3]) < array([-1, -2, -3]) = array([False, False, False]"
      ]
    },
    {
      "cell_type": "markdown",
      "metadata": {
        "id": "_WL4sRbBNRau"
      },
      "source": [
        "(4) 아래 표현식의 계산 결과를 설명하라."
      ]
    },
    {
      "cell_type": "code",
      "execution_count": 26,
      "metadata": {
        "colab": {
          "base_uri": "https://localhost:8080/"
        },
        "id": "wYc9wQ29ZoHt",
        "outputId": "f732cd20-b498-4638-9dfd-62437084315c"
      },
      "outputs": [
        {
          "output_type": "execute_result",
          "data": {
            "text/plain": [
              "array([1., 2., 3.])"
            ]
          },
          "metadata": {},
          "execution_count": 26
        }
      ],
      "source": [
        "Z/1/1"
      ]
    },
    {
      "cell_type": "markdown",
      "metadata": {
        "id": "eM9vBRuFNRav"
      },
      "source": [
        "`코드설명`: (array([1, 2, 3]) / 1) /1 #동일값 반환"
      ]
    },
    {
      "cell_type": "markdown",
      "metadata": {
        "id": "gFJgtCg6NRav"
      },
      "source": [
        "**문제 6**"
      ]
    },
    {
      "cell_type": "markdown",
      "metadata": {
        "id": "C1MEypUfNRav"
      },
      "source": [
        "변수 `Z`가 아래 모양의 어레이를 가리키도록 하라.\n",
        "단, `np.linspace()` 함수와 `endpoint` 키워드 인자를 이용한다.\n",
        "\n",
        "```\n",
        "[0. , 0.1, 0.2, 0.3, 0.4, 0.5, 0.6, 0.7, 0.8, 0.9]\n",
        "```"
      ]
    },
    {
      "cell_type": "code",
      "execution_count": 32,
      "metadata": {
        "id": "pau0tJaHNRav"
      },
      "outputs": [],
      "source": [
        "# None을 적절한 표현식으로 대체하라.\n",
        "Z = np.linspace(0, 1, 10, endpoint=False)"
      ]
    },
    {
      "cell_type": "markdown",
      "metadata": {
        "id": "y-fQZRt7NRav"
      },
      "source": [
        "아래 코드는 수정하지 마세요!!!"
      ]
    },
    {
      "cell_type": "code",
      "execution_count": 33,
      "metadata": {
        "id": "N05krLWsNRav"
      },
      "outputs": [],
      "source": [
        "assert np.isclose(Z, np.array([0. , 0.1, 0.2, 0.3, 0.4, 0.5, 0.6, 0.7, 0.8, 0.9])).all()"
      ]
    },
    {
      "cell_type": "markdown",
      "metadata": {
        "id": "uAg8EOePNRav"
      },
      "source": [
        "**문제 7**"
      ]
    },
    {
      "cell_type": "markdown",
      "metadata": {
        "lines_to_next_cell": 0,
        "id": "2OOBQiKQNRav"
      },
      "source": [
        "아래 코드의 실행결과를 설명하라."
      ]
    },
    {
      "cell_type": "code",
      "execution_count": 37,
      "metadata": {
        "colab": {
          "base_uri": "https://localhost:8080/"
        },
        "id": "iBcO6X3bNRav",
        "outputId": "edaf33e0-6800-4d6e-e579-7d71833ddafc"
      },
      "outputs": [
        {
          "output_type": "stream",
          "name": "stdout",
          "text": [
            "800 bytes\n",
            "100\n",
            "8\n"
          ]
        }
      ],
      "source": [
        "Z = np.zeros((10,10))\n",
        "print(\"%d bytes\" % (Z.size * Z.itemsize))\n",
        "print(Z.size)\n",
        "print(Z.itemsize)"
      ]
    },
    {
      "cell_type": "markdown",
      "metadata": {
        "id": "rXub9M94NRav"
      },
      "source": [
        "`코드설명`: 0이 10개로 이루어진 튜플 10개\n",
        "- Z.size는 10*10=100개\n",
        "- Z.item은 Z = np.zeros((10,10))이 float64 형 데이터 타입이라 8바이트"
      ]
    },
    {
      "cell_type": "markdown",
      "metadata": {
        "id": "8FTYaLQXNRaw"
      },
      "source": [
        "**문제 8**"
      ]
    },
    {
      "cell_type": "markdown",
      "metadata": {
        "id": "tD34OZ81NRaw"
      },
      "source": [
        "다음 리스트에서 0이 아닌 항목들의 인덱스로 구성된 어레이를 한줄 코드로 생성하라.\n",
        "단. `np.nonzero()` 함수를 활용한다."
      ]
    },
    {
      "cell_type": "code",
      "execution_count": 38,
      "metadata": {
        "id": "U-uzZNnZNRaw"
      },
      "outputs": [],
      "source": [
        "Z = [1, 2, 0, 0, 4, 0]"
      ]
    },
    {
      "cell_type": "code",
      "execution_count": 39,
      "metadata": {
        "id": "nA-gxDhBNRaw"
      },
      "outputs": [],
      "source": [
        "# None을 적절한 표현식으로 대체하라.\n",
        "\n",
        "non_zeros = np.nonzero(Z)"
      ]
    },
    {
      "cell_type": "markdown",
      "source": [
        "np.nonzero(Z) #튜플 순서대로 각 배열의 인덱스를 읽음"
      ],
      "metadata": {
        "id": "oJriufQNep93"
      }
    },
    {
      "cell_type": "markdown",
      "metadata": {
        "id": "qkRUhRanNRaw"
      },
      "source": [
        "아래 코드는 수정하지 마세요!!!"
      ]
    },
    {
      "cell_type": "code",
      "execution_count": 40,
      "metadata": {
        "id": "toy_gmDdNRaw"
      },
      "outputs": [],
      "source": [
        "assert (non_zeros == np.array([0, 1, 4])).all()"
      ]
    },
    {
      "cell_type": "markdown",
      "metadata": {
        "id": "y1eg7s6ONRaw"
      },
      "source": [
        "**문제 9**"
      ]
    },
    {
      "cell_type": "markdown",
      "metadata": {
        "id": "DrB-GWdhNRaw"
      },
      "source": [
        "두 개의 1차원 어레이가 다음과 같이 주어졌다."
      ]
    },
    {
      "cell_type": "code",
      "execution_count": null,
      "metadata": {
        "id": "2N6LSEUzNRaw"
      },
      "outputs": [],
      "source": [
        "A = np.ones(3)*1\n",
        "B = np.ones(3)*2"
      ]
    },
    {
      "cell_type": "markdown",
      "metadata": {
        "id": "VuUhHPBkNRaw"
      },
      "source": [
        "아래 코드의 실행 결과를 설명하라."
      ]
    },
    {
      "cell_type": "code",
      "execution_count": null,
      "metadata": {
        "id": "ug9U17jdNRax"
      },
      "outputs": [],
      "source": [
        "(A+B)*(-A/2)"
      ]
    },
    {
      "cell_type": "markdown",
      "metadata": {
        "id": "ibAzNy2DNRax"
      },
      "source": [
        "`코드설명`:"
      ]
    },
    {
      "cell_type": "code",
      "execution_count": null,
      "metadata": {
        "id": "hncfbztRNRax"
      },
      "outputs": [],
      "source": [
        "np.add(A,B,out=B)"
      ]
    },
    {
      "cell_type": "markdown",
      "metadata": {
        "id": "Ihn0mVqJNRax"
      },
      "source": [
        "`코드설명`:"
      ]
    },
    {
      "cell_type": "code",
      "execution_count": null,
      "metadata": {
        "id": "EAZjp8p8NRax"
      },
      "outputs": [],
      "source": [
        "np.divide(A,2,out=A)"
      ]
    },
    {
      "cell_type": "markdown",
      "metadata": {
        "id": "YDvpFq_ANRax"
      },
      "source": [
        "`코드설명`:"
      ]
    },
    {
      "cell_type": "code",
      "execution_count": null,
      "metadata": {
        "id": "rGVn1u03NRax"
      },
      "outputs": [],
      "source": [
        "np.negative(A,out=A)"
      ]
    },
    {
      "cell_type": "markdown",
      "metadata": {
        "id": "OYfoHkBiNRax"
      },
      "source": [
        "`코드설명`:"
      ]
    },
    {
      "cell_type": "code",
      "execution_count": null,
      "metadata": {
        "id": "T_UjxP6ONRax"
      },
      "outputs": [],
      "source": [
        "np.multiply(A,B,out=A)"
      ]
    },
    {
      "cell_type": "markdown",
      "metadata": {
        "id": "uruLFUgwNRax"
      },
      "source": [
        "`코드설명`:"
      ]
    },
    {
      "cell_type": "markdown",
      "metadata": {
        "id": "QvU5-j7TNRay"
      },
      "source": [
        "## 2차원 어레이"
      ]
    },
    {
      "cell_type": "markdown",
      "metadata": {
        "id": "TUepcghbNRay"
      },
      "source": [
        "**문제 1**"
      ]
    },
    {
      "cell_type": "markdown",
      "metadata": {
        "id": "0t2HGRKRNRay"
      },
      "source": [
        "변수 `Z`가 (5, 5) 모양의 2차원 어레이를 가리키도록 하라.\n",
        "단, 어레이의 항목은 0과 1 사이의 임의의 부동소수점으로 구성되어야 한다.\n",
        "또한 `np.random.random()` 함수를 이용한다."
      ]
    },
    {
      "cell_type": "code",
      "execution_count": null,
      "metadata": {
        "id": "tfwoOQy5NRay"
      },
      "outputs": [],
      "source": [
        "# None을 적절한 표현식으로 대체하라.\n",
        "Z = None"
      ]
    },
    {
      "cell_type": "markdown",
      "metadata": {
        "id": "nXmxegU2NRay"
      },
      "source": [
        "아래 코드는 수정하지 마세요!!!"
      ]
    },
    {
      "cell_type": "code",
      "execution_count": null,
      "metadata": {
        "id": "9SpSaYPANRay"
      },
      "outputs": [],
      "source": [
        "assert (Z.shape == (5, 5))\n",
        "assert (Z.dtype == np.float64)"
      ]
    },
    {
      "cell_type": "markdown",
      "metadata": {
        "id": "470GwjxgNRay"
      },
      "source": [
        "**문제 2**"
      ]
    },
    {
      "cell_type": "markdown",
      "metadata": {
        "id": "K3IRP0_yzg5h"
      },
      "source": [
        "변수 `Z`가 0에서 8까지의 정수로 이루어진 (3, 3) 모양의 2차원 어레이를 가리키도록 하라.\n",
        "단, `np.arange()` 함수와 `reshape()` 어레이 메서드를 반드시 이용한다."
      ]
    },
    {
      "cell_type": "code",
      "execution_count": null,
      "metadata": {
        "id": "3TnVoMehK1vg"
      },
      "outputs": [],
      "source": [
        "# None을 적절한 표현식으로 대체하라.\n",
        "Z = None"
      ]
    },
    {
      "cell_type": "markdown",
      "metadata": {
        "id": "U8ghaK7HNRay"
      },
      "source": [
        "아래 코드는 수정하지 마세요!!!"
      ]
    },
    {
      "cell_type": "code",
      "execution_count": null,
      "metadata": {
        "id": "aQZLfXOLNRay"
      },
      "outputs": [],
      "source": [
        "assert (Z == np.array([[0, 1, 2],\n",
        "                       [3, 4, 5],\n",
        "                       [6, 7, 8]])).all()"
      ]
    },
    {
      "cell_type": "markdown",
      "metadata": {
        "id": "0qdCWVYfNRaz"
      },
      "source": [
        "**문제 3**"
      ]
    },
    {
      "cell_type": "markdown",
      "metadata": {
        "id": "2zk7kAOONRaz"
      },
      "source": [
        "변수 `Z`가 (3, 3) 모양의 2차원 어레이를 가리키도록 하라.\n",
        "단, 2차원 어레이의 대각선 상은 1이고 나머지는 0이어야 한다.\n",
        "또한 `np.eye()` 함수를 반드시 이용한다."
      ]
    },
    {
      "cell_type": "code",
      "execution_count": null,
      "metadata": {
        "id": "hF_WIcFkLDEM"
      },
      "outputs": [],
      "source": [
        "# None을 적절한 표현식으로 대체하라.\n",
        "Z = None"
      ]
    },
    {
      "cell_type": "markdown",
      "metadata": {
        "id": "snPK5Mt0NRaz"
      },
      "source": [
        "아래 코드는 수정하지 마세요!!!"
      ]
    },
    {
      "cell_type": "code",
      "execution_count": null,
      "metadata": {
        "id": "rs2ptf-uNRaz"
      },
      "outputs": [],
      "source": [
        "assert (Z == np.array([[1., 0., 0.],\n",
        "                       [0., 1., 0.],\n",
        "                       [0., 0., 1.]])).all"
      ]
    },
    {
      "cell_type": "markdown",
      "metadata": {
        "id": "prfCTioLNRaz"
      },
      "source": [
        "**문제 4**"
      ]
    },
    {
      "cell_type": "markdown",
      "metadata": {
        "id": "GZIyQtd8NRaz"
      },
      "source": [
        "변수 `Z`가 아래와 같은 (5,5) 모양의 2차원 어레이를 가리키도록 하라.\n",
        "단, `np.arange()` 함수와 `np.diag()` 함수의 `k` 키워드 인자를 반드시 활용한다.\n",
        "\n",
        "```\n",
        "[[0 0 0 0 0]\n",
        " [1 0 0 0 0]\n",
        " [0 2 0 0 0]\n",
        " [0 0 3 0 0]\n",
        " [0 0 0 4 0]]\n",
        "```"
      ]
    },
    {
      "cell_type": "code",
      "execution_count": null,
      "metadata": {
        "id": "yqe6rLXMMbiN"
      },
      "outputs": [],
      "source": [
        "# None을 적절한 표현식으로 대체하라.\n",
        "Z = None"
      ]
    },
    {
      "cell_type": "markdown",
      "metadata": {
        "id": "OOalYbwqNRaz"
      },
      "source": [
        "아래 코드는 수정하지 마세요!!!"
      ]
    },
    {
      "cell_type": "code",
      "execution_count": null,
      "metadata": {
        "id": "jpoQX-UUNRaz"
      },
      "outputs": [],
      "source": [
        "assert (Z == np.array([[0, 0, 0, 0, 0],\n",
        "                        [1, 0, 0, 0, 0],\n",
        "                        [0, 2, 0, 0, 0],\n",
        "                        [0, 0, 3, 0, 0],\n",
        "                        [0, 0, 0, 4, 0]])).all()"
      ]
    },
    {
      "cell_type": "markdown",
      "metadata": {
        "id": "cLRGdlY6NRa0"
      },
      "source": [
        "**문제 5**"
      ]
    },
    {
      "cell_type": "markdown",
      "metadata": {
        "id": "FMN3zDlvNRa0"
      },
      "source": [
        "변수 `Z`가 아래와 같은 (5, 5) 모양의 2차원 어레이를 가리키도록 하라.\n",
        "단, `np.zeros()` 함수, `np.arange()` 함수, 2차원 어레이 덧셈을 이용한다.\n",
        "\n",
        "```\n",
        "[[0. 1. 2. 3. 4.]\n",
        " [0. 1. 2. 3. 4.]\n",
        " [0. 1. 2. 3. 4.]\n",
        " [0. 1. 2. 3. 4.]\n",
        " [0. 1. 2. 3. 4.]]\n",
        "```"
      ]
    },
    {
      "cell_type": "code",
      "execution_count": null,
      "metadata": {
        "id": "1eXRQS31czdk"
      },
      "outputs": [],
      "source": [
        "# None을 적절한 표현식으로 대체하라.\n",
        "Z = None"
      ]
    },
    {
      "cell_type": "markdown",
      "metadata": {
        "id": "WzcE7ibKNRa0"
      },
      "source": [
        "아래 코드는 수정하지 마세요!!!"
      ]
    },
    {
      "cell_type": "code",
      "execution_count": null,
      "metadata": {
        "id": "G-6KNHWlNRa0"
      },
      "outputs": [],
      "source": [
        "assert (Z == np.array([[0., 1., 2., 3., 4.],\n",
        "                        [0., 1., 2., 3., 4.],\n",
        "                        [0., 1., 2., 3., 4.],\n",
        "                        [0., 1., 2., 3., 4.],\n",
        "                        [0., 1., 2., 3., 4.]])).all()"
      ]
    },
    {
      "cell_type": "markdown",
      "metadata": {
        "id": "JjaiPT_7NRa0"
      },
      "source": [
        "**문제 6**"
      ]
    },
    {
      "cell_type": "markdown",
      "metadata": {
        "id": "DqxSwCglNRa0"
      },
      "source": [
        "아래 3x3 단위 행렬에 해당하는 2차원 어레이를 한줄 코드로 생성하라.\n",
        "단, `np.eye()` 함수를 이용한다.\n",
        "\n",
        "```\n",
        "[[1. 0. 0.]\n",
        " [0. 1. 0.]\n",
        " [0. 0. 1.]]\n",
        "```"
      ]
    },
    {
      "cell_type": "code",
      "execution_count": null,
      "metadata": {
        "id": "GnbCUaMfNRa0"
      },
      "outputs": [],
      "source": [
        "# None을 적절한 표현식으로 대체하라.\n",
        "Z = None"
      ]
    },
    {
      "cell_type": "markdown",
      "metadata": {
        "id": "WnfKzRvjNRa0"
      },
      "source": [
        "아래 코드는 수정하지 마세요!!!"
      ]
    },
    {
      "cell_type": "code",
      "execution_count": null,
      "metadata": {
        "id": "EuxR72xbNRa0"
      },
      "outputs": [],
      "source": [
        "assert (Z == np.array([[1., 0., 0.],\n",
        "                       [0., 1., 0.],\n",
        "                       [0., 0., 1.]])).all()"
      ]
    },
    {
      "cell_type": "markdown",
      "metadata": {
        "id": "3FFnEc52NRa0"
      },
      "source": [
        "**문제 7**"
      ]
    },
    {
      "cell_type": "markdown",
      "metadata": {
        "id": "WuiJX45vNRa1"
      },
      "source": [
        "무작위 수로 구성된 (5, 5) 모양의 2차원 어레이가 다음과 같다."
      ]
    },
    {
      "cell_type": "code",
      "execution_count": null,
      "metadata": {
        "id": "5aivxDD4NRa1"
      },
      "outputs": [],
      "source": [
        "Z = np.random.random((5, 5))"
      ]
    },
    {
      "cell_type": "markdown",
      "metadata": {
        "id": "4JCaG4KlNRa1"
      },
      "source": [
        "변수 `Z`가 가리키는 2차원 어레이에 대해 min-max 크기조정(정규화)을 적용하라.\n",
        "\n",
        "min-max 크기조정(정규화)은 항목의 모든 값을 아래 식을 통해 0과 1 사이의 부동소수점으로 변환한다. $max$와 $min$은 각각 최대 항목과 최소 항목을 가리킨다.\n",
        "\n",
        "$$\n",
        "\\frac{x-min}{max - min}\n",
        "$$"
      ]
    },
    {
      "cell_type": "code",
      "execution_count": null,
      "metadata": {
        "id": "SQUHfvHxNRa1"
      },
      "outputs": [],
      "source": [
        "# None을 적절한 표현식으로 대체하라.\n",
        "Z = None"
      ]
    },
    {
      "cell_type": "markdown",
      "metadata": {
        "id": "aNqkNEtpNRa1"
      },
      "source": [
        "아래 코드는 수정하지 마세요!!!"
      ]
    },
    {
      "cell_type": "code",
      "execution_count": null,
      "metadata": {
        "id": "is04GdKKNRa1"
      },
      "outputs": [],
      "source": [
        "assert (Z.max() == 1 and Z.min() == 0)"
      ]
    },
    {
      "cell_type": "markdown",
      "metadata": {
        "id": "MCy65QriNRa1"
      },
      "source": [
        "## 3차원 어레이"
      ]
    },
    {
      "cell_type": "markdown",
      "metadata": {
        "id": "9r9b_rg3NRa1"
      },
      "source": [
        "**문제 1**"
      ]
    },
    {
      "cell_type": "markdown",
      "metadata": {
        "id": "apReyhPnNRa1"
      },
      "source": [
        "(1) 변수 `Z`가 (3, 3, 3) 모양의 3차원 어레이를 가리키도록 하라.\n",
        "단, 어레이의 항목은 0과 1 사이의 임의의 부동소수점으로 구성되어야 한다.\n",
        "또한 `np.random.random()` 함수를 이용한다."
      ]
    },
    {
      "cell_type": "code",
      "execution_count": null,
      "metadata": {
        "id": "v-K8hejPLP11"
      },
      "outputs": [],
      "source": [
        "# None을 적절한 표현식으로 대체하라.\n",
        "Z = None"
      ]
    },
    {
      "cell_type": "markdown",
      "metadata": {
        "id": "ooLR70azNRa2"
      },
      "source": [
        "아래 코드는 수정하지 마세요!!!"
      ]
    },
    {
      "cell_type": "code",
      "execution_count": null,
      "metadata": {
        "id": "D9WHqAJ6NRa2"
      },
      "outputs": [],
      "source": [
        "assert (Z.shape == (3, 3, 3))\n",
        "assert (Z.dtype == 'f8')"
      ]
    },
    {
      "cell_type": "markdown",
      "metadata": {
        "id": "Bo5Y2Du-NRa2"
      },
      "source": [
        "(2) `Z`에 포함된 항목들 중에서 최댓값과 최솟값의 차이를 구하라.\n",
        "단, `maximum`, `mininum` 두 변수가 각각 최댓값과 최솟값을 가리키도록 하며,\n",
        "`max()`와 `min()` 어레이 메서드를 이용한다."
      ]
    },
    {
      "cell_type": "code",
      "execution_count": null,
      "metadata": {
        "id": "Gu2FYn6nNRa2"
      },
      "outputs": [],
      "source": [
        "# None을 적절한 표현식으로 대체하라.\n",
        "maximum = None\n",
        "minimum = None"
      ]
    },
    {
      "cell_type": "markdown",
      "metadata": {
        "id": "8mI58YdUNRa2"
      },
      "source": [
        "아래 코드는 수정하지 마세요!!!"
      ]
    },
    {
      "cell_type": "code",
      "execution_count": null,
      "metadata": {
        "id": "YI4259qaNRa2"
      },
      "outputs": [],
      "source": [
        "print(f\"최댓값과 최솟값의 차이: {maximum - minimum}\")"
      ]
    },
    {
      "cell_type": "markdown",
      "metadata": {
        "id": "hjE8LHciNRa2"
      },
      "source": [
        "## `dtype` 종류"
      ]
    },
    {
      "cell_type": "markdown",
      "metadata": {
        "id": "QtoXobwkNRa2"
      },
      "source": [
        "**문제 1**"
      ]
    },
    {
      "cell_type": "markdown",
      "metadata": {
        "id": "I0KhnVasNRa2"
      },
      "source": [
        "아래 두 코드의 실행결과를 설명하라."
      ]
    },
    {
      "cell_type": "code",
      "execution_count": null,
      "metadata": {
        "id": "eMfLD1UINRa2"
      },
      "outputs": [],
      "source": [
        "for dtype in [np.int8, np.int32, np.int64]:\n",
        "    print(np.iinfo(dtype).min)\n",
        "    print(np.iinfo(dtype).max)"
      ]
    },
    {
      "cell_type": "markdown",
      "metadata": {
        "id": "Q7zg5csrNRa3"
      },
      "source": [
        "`코드설명`:"
      ]
    },
    {
      "cell_type": "code",
      "execution_count": null,
      "metadata": {
        "id": "XCjdREe0NRa3"
      },
      "outputs": [],
      "source": [
        "for dtype in [np.float32, np.float64]:\n",
        "    print(np.finfo(dtype).min)\n",
        "    print(np.finfo(dtype).max)\n",
        "    print(np.finfo(dtype).eps)"
      ]
    },
    {
      "cell_type": "markdown",
      "metadata": {
        "id": "JiAQCSSGNRa3"
      },
      "source": [
        "`코드설명`:"
      ]
    },
    {
      "cell_type": "markdown",
      "metadata": {
        "id": "Atu9yUiGNRa3"
      },
      "source": [
        "**문제 2**"
      ]
    },
    {
      "cell_type": "markdown",
      "metadata": {
        "id": "k2mbULdQNRa3"
      },
      "source": [
        "부동소수점으로 구성된 1차원 어레이가 아래와 같이 주어졌다."
      ]
    },
    {
      "cell_type": "code",
      "execution_count": null,
      "metadata": {
        "id": "f8ReeGhBNRa3"
      },
      "outputs": [],
      "source": [
        "Z = (np.random.rand(10)*100).astype(np.float32)"
      ]
    },
    {
      "cell_type": "markdown",
      "metadata": {
        "id": "PXU-nrJjNRa3"
      },
      "source": [
        "변수 `Y`가 변수 `Z`가 가리키는 1차원 어레이의 dtype이 `int32`로 형변환된 1차원 어레이를 가리키도록 하라.\n",
        "단, `astype()` 메서드를 이용한다."
      ]
    },
    {
      "cell_type": "code",
      "execution_count": null,
      "metadata": {
        "id": "kd98HEa7NRa3"
      },
      "outputs": [],
      "source": [
        "# None을 적절한 표현식으로 대체하라.\n",
        "Y = None"
      ]
    },
    {
      "cell_type": "markdown",
      "metadata": {
        "id": "LgB0LOFsNRa3"
      },
      "source": [
        "아래 코드는 수정하지 마세요!!!"
      ]
    },
    {
      "cell_type": "code",
      "execution_count": null,
      "metadata": {
        "id": "kc_NZIx0NRa3"
      },
      "outputs": [],
      "source": [
        "assert (Y.shape == (10,))\n",
        "assert (Y.dtype == np.int32)"
      ]
    },
    {
      "cell_type": "markdown",
      "metadata": {
        "id": "IclnlZGiNRa3"
      },
      "source": [
        "**문제 3**"
      ]
    },
    {
      "cell_type": "markdown",
      "metadata": {
        "id": "Gy9cylHDNRa3"
      },
      "source": [
        "변수 `Z`가 아래와 같이 무작위로 생성된 길이가 10인 1차원 어레이를 가리킨다."
      ]
    },
    {
      "cell_type": "code",
      "execution_count": null,
      "metadata": {
        "id": "s8KWboN6NRa4"
      },
      "outputs": [],
      "source": [
        "Z = np.random.uniform(0,10,10)\n",
        "Z"
      ]
    },
    {
      "cell_type": "markdown",
      "metadata": {
        "id": "Vk_tNbVvNRa4"
      },
      "source": [
        "(1) 나머지 연산자(`%`)를 이용하여 정수로만 구성된 어레이 `Y`를 생성하라."
      ]
    },
    {
      "cell_type": "code",
      "execution_count": null,
      "metadata": {
        "id": "sfGuHzl3NRa4"
      },
      "outputs": [],
      "source": [
        "# None을 적절한 표현식으로 대체하라.\n",
        "Y = None"
      ]
    },
    {
      "cell_type": "markdown",
      "metadata": {
        "id": "fnKntmpXNRa4"
      },
      "source": [
        "아래 코드는 수정하지 마세요!!!"
      ]
    },
    {
      "cell_type": "code",
      "execution_count": null,
      "metadata": {
        "id": "gTwE-d7-NRa4"
      },
      "outputs": [],
      "source": [
        "assert (Y == Z.astype(np.int32)).all()"
      ]
    },
    {
      "cell_type": "markdown",
      "metadata": {
        "id": "lN-sis1ZNRa4"
      },
      "source": [
        "(2) 몫 연산자(`//`)를 이용하여 정수로만 구성된 어레이 `Y`를 생성하라."
      ]
    },
    {
      "cell_type": "code",
      "execution_count": null,
      "metadata": {
        "id": "CzXG0SB_NRa4"
      },
      "outputs": [],
      "source": [
        "# None을 적절한 표현식으로 대체하라.\n",
        "Y = None"
      ]
    },
    {
      "cell_type": "markdown",
      "metadata": {
        "id": "6sUYvjiGNRa4"
      },
      "source": [
        "아래 코드는 수정하지 마세요!!!"
      ]
    },
    {
      "cell_type": "code",
      "execution_count": null,
      "metadata": {
        "id": "bb67pr4rNRa4"
      },
      "outputs": [],
      "source": [
        "assert (Y == Z.astype(np.int32)).all()"
      ]
    },
    {
      "cell_type": "markdown",
      "metadata": {
        "id": "hdEKY9EBNRa4"
      },
      "source": [
        "(3) 내림 함수 `np.floor()` 함수를 이용하여 정수로만 구성된 어레이 `Y`를 생성하라."
      ]
    },
    {
      "cell_type": "code",
      "execution_count": null,
      "metadata": {
        "id": "4gPXtPD8NRa4"
      },
      "outputs": [],
      "source": [
        "# None을 적절한 표현식으로 대체하라.\n",
        "Y = None"
      ]
    },
    {
      "cell_type": "markdown",
      "metadata": {
        "id": "24tUkm4pNRa5"
      },
      "source": [
        "아래 코드는 수정하지 마세요!!!"
      ]
    },
    {
      "cell_type": "code",
      "execution_count": null,
      "metadata": {
        "id": "YcOfVHPcNRa5"
      },
      "outputs": [],
      "source": [
        "assert (Y == Z.astype(np.int32)).all()"
      ]
    },
    {
      "cell_type": "markdown",
      "metadata": {
        "id": "ve4Itx4kNRa5"
      },
      "source": [
        "(4) `np.trunc()` 함수를 이용하여 정수로만 구성된 어레이 `Y`를 생성하라."
      ]
    },
    {
      "cell_type": "code",
      "execution_count": null,
      "metadata": {
        "id": "ReqC_kD4NRa5"
      },
      "outputs": [],
      "source": [
        "# None을 적절한 표현식으로 대체하라.\n",
        "Y = None"
      ]
    },
    {
      "cell_type": "markdown",
      "metadata": {
        "id": "5HRRQfEvNRa5"
      },
      "source": [
        "아래 코드는 수정하지 마세요!!!"
      ]
    },
    {
      "cell_type": "code",
      "execution_count": null,
      "metadata": {
        "id": "lVEgE2OCNRa5"
      },
      "outputs": [],
      "source": [
        "assert (Y == Z.astype(np.int32)).all()"
      ]
    }
  ],
  "metadata": {
    "colab": {
      "provenance": []
    },
    "kernelspec": {
      "display_name": "Python 3 (ipykernel)",
      "language": "python",
      "name": "python3"
    },
    "language_info": {
      "codemirror_mode": {
        "name": "ipython",
        "version": 3
      },
      "file_extension": ".py",
      "mimetype": "text/x-python",
      "name": "python",
      "nbconvert_exporter": "python",
      "pygments_lexer": "ipython3",
      "version": "3.10.9"
    },
    "vscode": {
      "interpreter": {
        "hash": "ad0f3c8a064f687cbf898a0868fd45ba1c7e928ac8a0404f7c241d812ddc1e76"
      }
    }
  },
  "nbformat": 4,
  "nbformat_minor": 0
}