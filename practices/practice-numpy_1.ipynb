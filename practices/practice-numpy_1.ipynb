{
  "cells": [
    {
      "cell_type": "markdown",
      "metadata": {
        "id": "4Ya6QxIkxxy-"
      },
      "source": [
        "# (실습) 넘파이 어레이"
      ]
    },
    {
      "cell_type": "markdown",
      "metadata": {
        "id": "ERevpWnvxxzB"
      },
      "source": [
        "**주의사항**\n",
        "\n",
        "- `None`은 적절한 표현식으로 대체한다.\n",
        "- `Pass`는 적절한 명령문으로 대체한다."
      ]
    },
    {
      "cell_type": "markdown",
      "metadata": {
        "id": "a2IawZpVxxzB"
      },
      "source": [
        "## numpy 모듈"
      ]
    },
    {
      "cell_type": "markdown",
      "metadata": {
        "id": "XuWPtcodxxzC"
      },
      "source": [
        "**문제 1**"
      ]
    },
    {
      "cell_type": "markdown",
      "metadata": {
        "id": "1Rk3MCirx-gA"
      },
      "source": [
        "아래 코드를 설명하라."
      ]
    },
    {
      "cell_type": "code",
      "execution_count": 1,
      "metadata": {
        "id": "J71Fcvihxzi9"
      },
      "outputs": [],
      "source": [
        "import numpy as np"
      ]
    },
    {
      "cell_type": "markdown",
      "metadata": {
        "id": "kINa3ZvCxxzD"
      },
      "source": [
        "`코드설명`: 넘파이 기본 모듈 임폴트"
      ]
    },
    {
      "cell_type": "markdown",
      "metadata": {
        "id": "XR0uljwFxxzD"
      },
      "source": [
        "아래 코드는 수정하지 마세요!!!"
      ]
    },
    {
      "cell_type": "code",
      "execution_count": null,
      "metadata": {
        "id": "pXMIfvi9yHG5"
      },
      "outputs": [],
      "source": [
        "np.__version__"
      ]
    },
    {
      "cell_type": "markdown",
      "metadata": {
        "id": "7CHTOcHExxzE"
      },
      "source": [
        "**문제 2**"
      ]
    },
    {
      "cell_type": "markdown",
      "metadata": {
        "id": "WlM3iFyJxxzE"
      },
      "source": [
        "아래 코드의 기능을 설명하라"
      ]
    },
    {
      "cell_type": "code",
      "execution_count": null,
      "metadata": {
        "id": "e8htjpLQxxzE"
      },
      "outputs": [],
      "source": [
        "np.random.seed(42)"
      ]
    },
    {
      "cell_type": "markdown",
      "metadata": {
        "id": "U7KA5BkIxxzE"
      },
      "source": [
        "`코드설명`: 42까지의 랜덤시드 생성"
      ]
    },
    {
      "cell_type": "markdown",
      "metadata": {
        "id": "BQAC4fIsxxzF"
      },
      "source": [
        "**문제 3**"
      ]
    },
    {
      "cell_type": "markdown",
      "metadata": {
        "id": "5gg9q6W3xxzF"
      },
      "source": [
        "부동소수점으로 구성된 어레이의 항목은 기본적으로 소수점 이하 8자리까지 출력한다."
      ]
    },
    {
      "cell_type": "code",
      "execution_count": null,
      "metadata": {
        "id": "vQq4vKUJxxzF"
      },
      "outputs": [],
      "source": [
        "Z = np.random.random((40,40))\n",
        "Z"
      ]
    },
    {
      "cell_type": "markdown",
      "metadata": {
        "id": "JEV4pmtFxxzF"
      },
      "source": [
        "`np.set_printoptions()` 의 기능을 다음 두 개의 예를 이용하여 설명하라."
      ]
    },
    {
      "cell_type": "code",
      "execution_count": null,
      "metadata": {
        "id": "DFaBGT1TxxzF"
      },
      "outputs": [],
      "source": [
        "np.set_printoptions(precision=4)"
      ]
    },
    {
      "cell_type": "code",
      "execution_count": null,
      "metadata": {
        "id": "U-RvDz0hxxzF"
      },
      "outputs": [],
      "source": [
        "Z"
      ]
    },
    {
      "cell_type": "code",
      "execution_count": null,
      "metadata": {
        "id": "JIugUFLPxxzF"
      },
      "outputs": [],
      "source": [
        "np.set_printoptions(precision=6)"
      ]
    },
    {
      "cell_type": "code",
      "execution_count": null,
      "metadata": {
        "id": "XIS7mIsBxxzG"
      },
      "outputs": [],
      "source": [
        "Z"
      ]
    },
    {
      "cell_type": "markdown",
      "metadata": {
        "id": "mvfvtRK4xxzG"
      },
      "source": [
        "`코드설명`: 어레이에 포함된 부동소수점들의 표현 정확도 지정"
      ]
    },
    {
      "cell_type": "markdown",
      "metadata": {
        "id": "QT93zk4HxxzG"
      },
      "source": [
        "아래 코드는 기본 옵션값으로 되돌린다. 수정하지 마세요."
      ]
    },
    {
      "cell_type": "code",
      "execution_count": null,
      "metadata": {
        "id": "S_AEF90nxxzG"
      },
      "outputs": [],
      "source": [
        "np.set_printoptions(precision=8)"
      ]
    },
    {
      "cell_type": "markdown",
      "metadata": {
        "id": "bUf3NU-HxxzG"
      },
      "source": [
        "## 1차원 어레이"
      ]
    },
    {
      "cell_type": "markdown",
      "metadata": {
        "id": "3F6qItVXxxzG"
      },
      "source": [
        "**문제 1**"
      ]
    },
    {
      "cell_type": "markdown",
      "metadata": {
        "id": "D52rYqifyYtK"
      },
      "source": [
        "크기가 10이고 모든 항목이 0인 1차원 어레이를\n",
        "변수 `Z`가 가리키도록 하라.\n",
        "단, `np.zeros()` 함수를 반드시 이용한다."
      ]
    },
    {
      "cell_type": "code",
      "execution_count": null,
      "metadata": {
        "id": "9a2qagIByT5-"
      },
      "outputs": [],
      "source": [
        "# None을 적절한 표현식으로 대체하라.\n",
        "Z = np.zeros(10)"
      ]
    },
    {
      "cell_type": "markdown",
      "metadata": {
        "id": "EDzj3vfjxxzH"
      },
      "source": [
        "아래 코드는 수정하지 마세요!!!"
      ]
    },
    {
      "cell_type": "code",
      "execution_count": null,
      "metadata": {
        "id": "bA2S5GKxxxzH"
      },
      "outputs": [],
      "source": [
        "assert (Z == np.array([0., 0., 0., 0., 0., 0., 0., 0., 0., 0.])).all()"
      ]
    },
    {
      "cell_type": "markdown",
      "metadata": {
        "id": "2N119aIFxxzH"
      },
      "source": [
        "**문제 2**"
      ]
    },
    {
      "cell_type": "markdown",
      "metadata": {
        "id": "Bly_H3ozyaSd"
      },
      "source": [
        "변수 `Z`가 10에서 49까지의 정수 중에서 짝수로만 구성된 1차원 어레이를 가리키도록 하라.\n",
        "단, `np.arange()` 함수를 반드시 이용한다."
      ]
    },
    {
      "cell_type": "code",
      "execution_count": null,
      "metadata": {
        "id": "0VkfsWyPKvcE"
      },
      "outputs": [],
      "source": [
        "# None을 적절한 표현식으로 대체하라.\n",
        "Z = np.arange(10, 49 ,2)"
      ]
    },
    {
      "cell_type": "markdown",
      "metadata": {
        "id": "bNkAIoWSxxzH"
      },
      "source": [
        "아래 코드는 수정하지 마세요!!!"
      ]
    },
    {
      "cell_type": "code",
      "execution_count": null,
      "metadata": {
        "id": "iNy1lX4NxxzH"
      },
      "outputs": [],
      "source": [
        "assert (Z == np.array([10, 12, 14, 16, 18, 20, 22, 24, 26, 28, 30, 32, 34, 36, 38, 40, 42,\n",
        "                        44, 46, 48])).all()"
      ]
    },
    {
      "cell_type": "markdown",
      "metadata": {
        "id": "xuVxeG6QxxzH"
      },
      "source": [
        "**문제 3**"
      ]
    },
    {
      "cell_type": "markdown",
      "metadata": {
        "id": "YGnyg3MExxzI"
      },
      "source": [
        "변수 `Z`가 아래와 같이 선언되었다."
      ]
    },
    {
      "cell_type": "code",
      "execution_count": null,
      "metadata": {
        "id": "V0YeyXBNxxzI"
      },
      "outputs": [],
      "source": [
        "Z = np.array([2, 3, 1, 0, 4])\n",
        "Z"
      ]
    },
    {
      "cell_type": "markdown",
      "metadata": {
        "id": "-WtNI-5AxxzI"
      },
      "source": [
        "변수 `Z`의 항목을 정렬하라.\n",
        "단, sort() 메서드를 활용한다."
      ]
    },
    {
      "cell_type": "code",
      "execution_count": null,
      "metadata": {
        "id": "sjV9eMeTxxzL"
      },
      "outputs": [],
      "source": [
        "# None을 적절한 표현식으로 대체하라.\n",
        "Z.sort()"
      ]
    },
    {
      "cell_type": "markdown",
      "metadata": {
        "id": "ZlGk-M6DxxzL"
      },
      "source": [
        "아래 코드는 수정하지 마세요!!!"
      ]
    },
    {
      "cell_type": "code",
      "execution_count": null,
      "metadata": {
        "id": "RIm9VRGhxxzL"
      },
      "outputs": [],
      "source": [
        "assert (Z == np.arange(5)).all()"
      ]
    },
    {
      "cell_type": "markdown",
      "metadata": {
        "id": "u4_Qlv1CxxzM"
      },
      "source": [
        "**문제 4**"
      ]
    },
    {
      "cell_type": "markdown",
      "metadata": {
        "id": "MUxOnwK7xxzM"
      },
      "source": [
        "변수 `Z`가 크기 30이며 무작위로 생성된 1차원 어레이를 가리키도록 하라.\n",
        "또한 포함된 항목들의 평균값을 계산하라.\n",
        "단, 어레이의 항목은 0과 1 사이의 임의의 부동소수점으로 구성되어야 한다.\n",
        "`np.random.random()` 함수, `mean()` 어레이 메서드를 반드시 이용한다."
      ]
    },
    {
      "cell_type": "code",
      "execution_count": null,
      "metadata": {
        "id": "oqjCpvhDxxzM"
      },
      "outputs": [],
      "source": [
        "# None을 적절한 표현식으로 대체하라.\n",
        "Z = np.random.random(30)\n",
        "Z_mean = Z.mean()"
      ]
    },
    {
      "cell_type": "markdown",
      "metadata": {
        "id": "QNPvaiQxxxzM"
      },
      "source": [
        "아래 코드는 수정하지 마세요!!!"
      ]
    },
    {
      "cell_type": "code",
      "execution_count": null,
      "metadata": {
        "id": "fnu8f3A7xxzM"
      },
      "outputs": [],
      "source": [
        "assert (Z.shape == (30,))\n",
        "print(f\"1차원 어레이 평균값: {Z_mean}\")"
      ]
    },
    {
      "cell_type": "markdown",
      "metadata": {
        "id": "dsO3wvn3xxzM"
      },
      "source": [
        "**문제 5**"
      ]
    },
    {
      "cell_type": "markdown",
      "metadata": {
        "id": "pocSZJSY-y56"
      },
      "source": [
        "1차원 어레이가 다음과 같이 주어졌다."
      ]
    },
    {
      "cell_type": "code",
      "execution_count": null,
      "metadata": {
        "id": "tQL-W93wxxzM"
      },
      "outputs": [],
      "source": [
        "Z = np.arange(1, 4)"
      ]
    },
    {
      "cell_type": "markdown",
      "metadata": {
        "id": "QsXP2ChKxxzM"
      },
      "source": [
        "(1) 아래 표현식의 계산 결과를 설명하라."
      ]
    },
    {
      "cell_type": "code",
      "execution_count": null,
      "metadata": {
        "id": "ZMAOCK-mZVbd"
      },
      "outputs": [],
      "source": [
        "Z*Z"
      ]
    },
    {
      "cell_type": "markdown",
      "metadata": {
        "id": "_S0XzzN2xxzN"
      },
      "source": [
        "`코드설명`: array([1, 2, 3]) * array([1, 2, 3]) = array([1, 4, 9])"
      ]
    },
    {
      "cell_type": "markdown",
      "metadata": {
        "id": "iKovaOsBxxzN"
      },
      "source": [
        "(2) 아래 표현식의 계산 결과를 설명하라."
      ]
    },
    {
      "cell_type": "code",
      "execution_count": null,
      "metadata": {
        "id": "EA81i-wbxxzN"
      },
      "outputs": [],
      "source": [
        "Z**Z"
      ]
    },
    {
      "cell_type": "markdown",
      "metadata": {
        "id": "kHgAv7woxxzN"
      },
      "source": [
        "`코드설명`: 제곱근"
      ]
    },
    {
      "cell_type": "markdown",
      "metadata": {
        "id": "AespBG4JxxzN"
      },
      "source": [
        "(3) 아래 표현식의 계산 결과를 설명하라."
      ]
    },
    {
      "cell_type": "code",
      "execution_count": null,
      "metadata": {
        "id": "CJfJkqQ8ZhZI"
      },
      "outputs": [],
      "source": [
        "Z < -Z"
      ]
    },
    {
      "cell_type": "markdown",
      "metadata": {
        "id": "WvEWwn-YxxzN"
      },
      "source": [
        "`코드설명`: array([1, 2, 3]) < array([-1, -2, -3]) = array([False, False, False]"
      ]
    },
    {
      "cell_type": "markdown",
      "metadata": {
        "id": "9-0y2aeExxzN"
      },
      "source": [
        "(4) 아래 표현식의 계산 결과를 설명하라."
      ]
    },
    {
      "cell_type": "code",
      "execution_count": null,
      "metadata": {
        "id": "wYc9wQ29ZoHt"
      },
      "outputs": [],
      "source": [
        "Z/1/1"
      ]
    },
    {
      "cell_type": "markdown",
      "metadata": {
        "id": "G4sAWkq9xxzO"
      },
      "source": [
        "`코드설명`:  (array([1, 2, 3]) / 1) /1 #동일값 반환"
      ]
    },
    {
      "cell_type": "markdown",
      "metadata": {
        "id": "LLSGbvY2xxzO"
      },
      "source": [
        "**문제 6**"
      ]
    },
    {
      "cell_type": "markdown",
      "metadata": {
        "id": "K4IYAW80xxzO"
      },
      "source": [
        "변수 `Z`가 아래 모양의 어레이를 가리키도록 하라.\n",
        "단, `np.linspace()` 함수와 `endpoint` 키워드 인자를 이용한다.\n",
        "\n",
        "```\n",
        "[0. , 0.1, 0.2, 0.3, 0.4, 0.5, 0.6, 0.7, 0.8, 0.9]\n",
        "```"
      ]
    },
    {
      "cell_type": "code",
      "execution_count": null,
      "metadata": {
        "id": "71GCWTRTxxzO"
      },
      "outputs": [],
      "source": [
        "# None을 적절한 표현식으로 대체하라.\n",
        "Z = np.linspace(0, 1, 10, endpoint=False)"
      ]
    },
    {
      "cell_type": "markdown",
      "metadata": {
        "id": "4v_jeKnnxxzO"
      },
      "source": [
        "아래 코드는 수정하지 마세요!!!"
      ]
    },
    {
      "cell_type": "code",
      "execution_count": null,
      "metadata": {
        "id": "0uDschIzxxzO"
      },
      "outputs": [],
      "source": [
        "assert np.isclose(Z, np.array([0. , 0.1, 0.2, 0.3, 0.4, 0.5, 0.6, 0.7, 0.8, 0.9])).all()"
      ]
    },
    {
      "cell_type": "markdown",
      "metadata": {
        "id": "0ULEYCMXxxzO"
      },
      "source": [
        "**문제 7**"
      ]
    },
    {
      "cell_type": "markdown",
      "metadata": {
        "lines_to_next_cell": 0,
        "id": "oHG66_IExxzO"
      },
      "source": [
        "아래 코드의 실행결과를 설명하라."
      ]
    },
    {
      "cell_type": "code",
      "execution_count": null,
      "metadata": {
        "id": "Weako8jUxxzP"
      },
      "outputs": [],
      "source": [
        "Z = np.zeros((10,10))\n",
        "print(\"%d bytes\" % (Z.size * Z.itemsize))"
      ]
    },
    {
      "cell_type": "markdown",
      "metadata": {
        "id": "Lh61H0AWxxzP"
      },
      "source": [
        "`코드설명`: 0이 10개로 이루어진 튜플 10개\n",
        "\n",
        "- Z.size는 10*10=100개\n",
        "- Z.item은 Z = np.zeros((10,10))이 float64 형 데이터 타입이라 8바이트"
      ]
    },
    {
      "cell_type": "markdown",
      "metadata": {
        "id": "gTNQ7WYixxzP"
      },
      "source": [
        "**문제 8**"
      ]
    },
    {
      "cell_type": "markdown",
      "metadata": {
        "id": "t_OaapxxxxzP"
      },
      "source": [
        "다음 리스트에서 0이 아닌 항목들의 인덱스로 구성된 어레이를 한줄 코드로 생성하라.\n",
        "단. `np.nonzero()` 함수를 활용한다."
      ]
    },
    {
      "cell_type": "code",
      "execution_count": null,
      "metadata": {
        "id": "LItn8wpixxzP"
      },
      "outputs": [],
      "source": [
        "Z = [1, 2, 0, 0, 4, 0]"
      ]
    },
    {
      "cell_type": "code",
      "execution_count": null,
      "metadata": {
        "id": "fFFvMe1TxxzP"
      },
      "outputs": [],
      "source": [
        "# None을 적절한 표현식으로 대체하라.\n",
        "\n",
        "non_zeros = np.nonzero(Z)"
      ]
    },
    {
      "cell_type": "markdown",
      "metadata": {
        "id": "mXLLylTBxxzP"
      },
      "source": [
        "아래 코드는 수정하지 마세요!!!"
      ]
    },
    {
      "cell_type": "code",
      "execution_count": null,
      "metadata": {
        "id": "YtVTao-bxxzP"
      },
      "outputs": [],
      "source": [
        "assert (non_zeros == np.array([0, 1, 4])).all()"
      ]
    },
    {
      "cell_type": "markdown",
      "metadata": {
        "id": "YIc61qd2xxzP"
      },
      "source": [
        "**문제 9**"
      ]
    },
    {
      "cell_type": "markdown",
      "metadata": {
        "id": "tl-SG3cNxxzQ"
      },
      "source": [
        "두 개의 1차원 어레이가 다음과 같이 주어졌다."
      ]
    },
    {
      "cell_type": "code",
      "execution_count": 4,
      "metadata": {
        "id": "M_iGuI-NxxzQ",
        "outputId": "4901d61d-63c6-427d-d4da-a504ffcffe8f",
        "colab": {
          "base_uri": "https://localhost:8080/"
        }
      },
      "outputs": [
        {
          "output_type": "stream",
          "name": "stdout",
          "text": [
            "[1. 1. 1.]\n",
            "[2. 2. 2.]\n"
          ]
        }
      ],
      "source": [
        "A = np.ones(3)*1\n",
        "B = np.ones(3)*2\n",
        "print(A)\n",
        "print(B)"
      ]
    },
    {
      "cell_type": "markdown",
      "metadata": {
        "id": "EdB9epJdxxzQ"
      },
      "source": [
        "아래 코드의 실행 결과를 설명하라."
      ]
    },
    {
      "cell_type": "code",
      "execution_count": 3,
      "metadata": {
        "id": "rIO4cBv_xxzQ",
        "outputId": "760cbc64-1f2d-4b98-ed61-cee3e2ac2c6a",
        "colab": {
          "base_uri": "https://localhost:8080/"
        }
      },
      "outputs": [
        {
          "output_type": "execute_result",
          "data": {
            "text/plain": [
              "array([-1.5, -1.5, -1.5])"
            ]
          },
          "metadata": {},
          "execution_count": 3
        }
      ],
      "source": [
        "(A+B)*(-A/2)"
      ]
    },
    {
      "cell_type": "markdown",
      "metadata": {
        "id": "iDDIZO14xxzQ"
      },
      "source": [
        "`코드설명`: A = [1. 1. 1.]\n",
        "B = [2. 2. 2.]\n",
        "# - ([3., 3., 3]) * ([-0.5, -0.5, -0.5]) = array([-1.5, -1.5, -1.5])"
      ]
    },
    {
      "cell_type": "code",
      "execution_count": 5,
      "metadata": {
        "id": "YxBicvUIxxzQ",
        "outputId": "3ebf08c0-0c98-4c52-8c8b-7879712e4851",
        "colab": {
          "base_uri": "https://localhost:8080/"
        }
      },
      "outputs": [
        {
          "output_type": "execute_result",
          "data": {
            "text/plain": [
              "array([3., 3., 3.])"
            ]
          },
          "metadata": {},
          "execution_count": 5
        }
      ],
      "source": [
        "np.add(A,B,out=B)"
      ]
    },
    {
      "cell_type": "markdown",
      "metadata": {
        "id": "akRsbauRxxzQ"
      },
      "source": [
        "`코드설명`: A + B #OUT = B는 기본배열에 결과 저장"
      ]
    },
    {
      "cell_type": "code",
      "execution_count": 6,
      "metadata": {
        "id": "IaMe6bMXxxzQ",
        "outputId": "10ccf1e8-a7d2-424f-b194-44228fc15112",
        "colab": {
          "base_uri": "https://localhost:8080/"
        }
      },
      "outputs": [
        {
          "output_type": "execute_result",
          "data": {
            "text/plain": [
              "array([0.5, 0.5, 0.5])"
            ]
          },
          "metadata": {},
          "execution_count": 6
        }
      ],
      "source": [
        "np.divide(A,2,out=A)"
      ]
    },
    {
      "cell_type": "markdown",
      "metadata": {
        "id": "40oN-yPaxxzQ"
      },
      "source": [
        "`코드설명`: 나누기"
      ]
    },
    {
      "cell_type": "code",
      "execution_count": 7,
      "metadata": {
        "id": "VdFTMotoxxzR",
        "outputId": "b0385b3e-a851-409a-98f1-0106c1590ff1",
        "colab": {
          "base_uri": "https://localhost:8080/"
        }
      },
      "outputs": [
        {
          "output_type": "execute_result",
          "data": {
            "text/plain": [
              "array([-0.5, -0.5, -0.5])"
            ]
          },
          "metadata": {},
          "execution_count": 7
        }
      ],
      "source": [
        "np.negative(A,out=A)"
      ]
    },
    {
      "cell_type": "markdown",
      "metadata": {
        "id": "ONrAzrhExxzR"
      },
      "source": [
        "`코드설명`: 부호반전"
      ]
    },
    {
      "cell_type": "code",
      "execution_count": 8,
      "metadata": {
        "id": "V7yt5VwkxxzR",
        "outputId": "34d78dc6-3bc1-4176-8f35-f76f45188221",
        "colab": {
          "base_uri": "https://localhost:8080/"
        }
      },
      "outputs": [
        {
          "output_type": "execute_result",
          "data": {
            "text/plain": [
              "array([-1.5, -1.5, -1.5])"
            ]
          },
          "metadata": {},
          "execution_count": 8
        }
      ],
      "source": [
        "np.multiply(A,B,out=A)"
      ]
    },
    {
      "cell_type": "markdown",
      "metadata": {
        "id": "xcMkouS2xxzR"
      },
      "source": [
        "`코드설명`: 요소별 곱셈"
      ]
    },
    {
      "cell_type": "markdown",
      "metadata": {
        "id": "lMkDVJdJxxzR"
      },
      "source": [
        "## 2차원 어레이"
      ]
    },
    {
      "cell_type": "markdown",
      "metadata": {
        "id": "JpICcwmqxxzR"
      },
      "source": [
        "**문제 1**"
      ]
    },
    {
      "cell_type": "markdown",
      "metadata": {
        "id": "cGZqrPJyxxzR"
      },
      "source": [
        "변수 `Z`가 (5, 5) 모양의 2차원 어레이를 가리키도록 하라.\n",
        "단, 어레이의 항목은 0과 1 사이의 임의의 부동소수점으로 구성되어야 한다.\n",
        "또한 `np.random.random()` 함수를 이용한다."
      ]
    },
    {
      "cell_type": "code",
      "execution_count": 9,
      "metadata": {
        "id": "dTZM6-KPxxzR"
      },
      "outputs": [],
      "source": [
        "# None을 적절한 표현식으로 대체하라.\n",
        "Z = np.random.random((5, 5))"
      ]
    },
    {
      "cell_type": "markdown",
      "metadata": {
        "id": "yqIYzjQdxxzR"
      },
      "source": [
        "아래 코드는 수정하지 마세요!!!"
      ]
    },
    {
      "cell_type": "code",
      "execution_count": 10,
      "metadata": {
        "id": "CLWDn6ltxxzR"
      },
      "outputs": [],
      "source": [
        "assert (Z.shape == (5, 5))\n",
        "assert (Z.dtype == np.float64)"
      ]
    },
    {
      "cell_type": "markdown",
      "metadata": {
        "id": "2adTfMMExxzS"
      },
      "source": [
        "**문제 2**"
      ]
    },
    {
      "cell_type": "markdown",
      "metadata": {
        "id": "K3IRP0_yzg5h"
      },
      "source": [
        "변수 `Z`가 0에서 8까지의 정수로 이루어진 (3, 3) 모양의 2차원 어레이를 가리키도록 하라.\n",
        "단, `np.arange()` 함수와 `reshape()` 어레이 메서드를 반드시 이용한다."
      ]
    },
    {
      "cell_type": "code",
      "execution_count": 11,
      "metadata": {
        "id": "3TnVoMehK1vg"
      },
      "outputs": [],
      "source": [
        "# None을 적절한 표현식으로 대체하라.\n",
        "Z = np.arange(9).reshape(3, 3)"
      ]
    },
    {
      "cell_type": "markdown",
      "metadata": {
        "id": "vWpeckBVxxzS"
      },
      "source": [
        "아래 코드는 수정하지 마세요!!!"
      ]
    },
    {
      "cell_type": "code",
      "execution_count": 12,
      "metadata": {
        "id": "f9F5D86WxxzS"
      },
      "outputs": [],
      "source": [
        "assert (Z == np.array([[0, 1, 2],\n",
        "                       [3, 4, 5],\n",
        "                       [6, 7, 8]])).all()"
      ]
    },
    {
      "cell_type": "markdown",
      "metadata": {
        "id": "pY3W-iKgxxzS"
      },
      "source": [
        "**문제 3**"
      ]
    },
    {
      "cell_type": "markdown",
      "metadata": {
        "id": "r43hEBquxxzS"
      },
      "source": [
        "변수 `Z`가 (3, 3) 모양의 2차원 어레이를 가리키도록 하라.\n",
        "단, 2차원 어레이의 대각선 상은 1이고 나머지는 0이어야 한다.\n",
        "또한 `np.eye()` 함수를 반드시 이용한다."
      ]
    },
    {
      "cell_type": "code",
      "execution_count": 13,
      "metadata": {
        "id": "hF_WIcFkLDEM"
      },
      "outputs": [],
      "source": [
        "# None을 적절한 표현식으로 대체하라.\n",
        "Z = np.eye(3)"
      ]
    },
    {
      "cell_type": "markdown",
      "metadata": {
        "id": "_PyOg__txxzT"
      },
      "source": [
        "아래 코드는 수정하지 마세요!!!"
      ]
    },
    {
      "cell_type": "code",
      "execution_count": 14,
      "metadata": {
        "id": "V4fQ0wkQxxzT"
      },
      "outputs": [],
      "source": [
        "assert (Z == np.array([[1., 0., 0.],\n",
        "                       [0., 1., 0.],\n",
        "                       [0., 0., 1.]])).all"
      ]
    },
    {
      "cell_type": "markdown",
      "metadata": {
        "id": "M6z4HtbBxxzT"
      },
      "source": [
        "**문제 4**"
      ]
    },
    {
      "cell_type": "markdown",
      "metadata": {
        "id": "Ij8T8e_wxxzT"
      },
      "source": [
        "변수 `Z`가 아래와 같은 (5,5) 모양의 2차원 어레이를 가리키도록 하라.\n",
        "단, `np.arange()` 함수와 `np.diag()` 함수의 `k` 키워드 인자를 반드시 활용한다.\n",
        "\n",
        "```\n",
        "[[0 0 0 0 0]\n",
        " [1 0 0 0 0]\n",
        " [0 2 0 0 0]\n",
        " [0 0 3 0 0]\n",
        " [0 0 0 4 0]]\n",
        "```"
      ]
    },
    {
      "cell_type": "code",
      "execution_count": 15,
      "metadata": {
        "id": "yqe6rLXMMbiN"
      },
      "outputs": [],
      "source": [
        "# None을 적절한 표현식으로 대체하라.\n",
        "Z = np.diag(1+np.arange(4), k=-1)"
      ]
    },
    {
      "cell_type": "markdown",
      "metadata": {
        "id": "_9r_Qi7axxzT"
      },
      "source": [
        "아래 코드는 수정하지 마세요!!!"
      ]
    },
    {
      "cell_type": "code",
      "execution_count": 16,
      "metadata": {
        "id": "emEL1fUexxzT"
      },
      "outputs": [],
      "source": [
        "assert (Z == np.array([[0, 0, 0, 0, 0],\n",
        "                        [1, 0, 0, 0, 0],\n",
        "                        [0, 2, 0, 0, 0],\n",
        "                        [0, 0, 3, 0, 0],\n",
        "                        [0, 0, 0, 4, 0]])).all()"
      ]
    },
    {
      "cell_type": "markdown",
      "metadata": {
        "id": "o-ufR1sDxxzT"
      },
      "source": [
        "**문제 5**"
      ]
    },
    {
      "cell_type": "markdown",
      "metadata": {
        "id": "-T947qP2xxzT"
      },
      "source": [
        "변수 `Z`가 아래와 같은 (5, 5) 모양의 2차원 어레이를 가리키도록 하라.\n",
        "단, `np.zeros()` 함수, `np.arange()` 함수, 2차원 어레이 덧셈을 이용한다.\n",
        "\n",
        "```\n",
        "[[0. 1. 2. 3. 4.]\n",
        " [0. 1. 2. 3. 4.]\n",
        " [0. 1. 2. 3. 4.]\n",
        " [0. 1. 2. 3. 4.]\n",
        " [0. 1. 2. 3. 4.]]\n",
        "```"
      ]
    },
    {
      "cell_type": "code",
      "execution_count": 17,
      "metadata": {
        "id": "1eXRQS31czdk"
      },
      "outputs": [],
      "source": [
        "# None을 적절한 표현식으로 대체하라.\n",
        "Z = np.zeros((5, 5)) + np.arange(5)"
      ]
    },
    {
      "cell_type": "markdown",
      "metadata": {
        "id": "LSXl6N15xxzU"
      },
      "source": [
        "아래 코드는 수정하지 마세요!!!"
      ]
    },
    {
      "cell_type": "code",
      "execution_count": 18,
      "metadata": {
        "id": "jNP52K-mxxzU"
      },
      "outputs": [],
      "source": [
        "assert (Z == np.array([[0., 1., 2., 3., 4.],\n",
        "                        [0., 1., 2., 3., 4.],\n",
        "                        [0., 1., 2., 3., 4.],\n",
        "                        [0., 1., 2., 3., 4.],\n",
        "                        [0., 1., 2., 3., 4.]])).all()"
      ]
    },
    {
      "cell_type": "markdown",
      "metadata": {
        "id": "nPN-8h95xxzU"
      },
      "source": [
        "**문제 6**"
      ]
    },
    {
      "cell_type": "markdown",
      "metadata": {
        "id": "SJa2aB6zxxzU"
      },
      "source": [
        "아래 3x3 단위 행렬에 해당하는 2차원 어레이를 한줄 코드로 생성하라.\n",
        "단, `np.eye()` 함수를 이용한다.\n",
        "\n",
        "```\n",
        "[[1. 0. 0.]\n",
        " [0. 1. 0.]\n",
        " [0. 0. 1.]]\n",
        "```"
      ]
    },
    {
      "cell_type": "code",
      "execution_count": 19,
      "metadata": {
        "id": "4WE7hEHDxxzU"
      },
      "outputs": [],
      "source": [
        "# None을 적절한 표현식으로 대체하라.\n",
        "Z = np.eye(3)"
      ]
    },
    {
      "cell_type": "markdown",
      "metadata": {
        "id": "70K_2qXwxxzU"
      },
      "source": [
        "아래 코드는 수정하지 마세요!!!"
      ]
    },
    {
      "cell_type": "code",
      "execution_count": 20,
      "metadata": {
        "id": "4xR08BzHxxzU"
      },
      "outputs": [],
      "source": [
        "assert (Z == np.array([[1., 0., 0.],\n",
        "                       [0., 1., 0.],\n",
        "                       [0., 0., 1.]])).all()"
      ]
    },
    {
      "cell_type": "markdown",
      "metadata": {
        "id": "mALY2-BJxxzU"
      },
      "source": [
        "**문제 7**"
      ]
    },
    {
      "cell_type": "markdown",
      "metadata": {
        "id": "1WMQ3BqkxxzU"
      },
      "source": [
        "무작위 수로 구성된 (5, 5) 모양의 2차원 어레이가 다음과 같다."
      ]
    },
    {
      "cell_type": "code",
      "execution_count": 21,
      "metadata": {
        "id": "WolNDOXGxxzU"
      },
      "outputs": [],
      "source": [
        "#지정한 범위로 값을 조정하는 것: 정규화\n",
        "Z = np.random.random((5, 5))"
      ]
    },
    {
      "cell_type": "markdown",
      "metadata": {
        "id": "SDn1RUPKxxzV"
      },
      "source": [
        "변수 `Z`가 가리키는 2차원 어레이에 대해 min-max 크기조정(정규화)을 적용하라.\n",
        "\n",
        "min-max 크기조정(정규화)은 항목의 모든 값을 아래 식을 통해 0과 1 사이의 부동소수점으로 변환한다. $max$와 $min$은 각각 최대 항목과 최소 항목을 가리킨다.\n",
        "\n",
        "$$\n",
        "\\frac{x-min}{max - min}\n",
        "$$"
      ]
    },
    {
      "cell_type": "code",
      "execution_count": 23,
      "metadata": {
        "id": "ajVkyDE6xxzV"
      },
      "outputs": [],
      "source": [
        "# None을 적절한 표현식으로 대체하라.\n",
        "Z = (Z - Z.min()) / (Z.max() - Z.min())"
      ]
    },
    {
      "cell_type": "markdown",
      "metadata": {
        "id": "Wi-5gsmkxxzV"
      },
      "source": [
        "아래 코드는 수정하지 마세요!!!"
      ]
    },
    {
      "cell_type": "code",
      "execution_count": 24,
      "metadata": {
        "id": "t_SaVyuHxxzV"
      },
      "outputs": [],
      "source": [
        "assert (Z.max() == 1 and Z.min() == 0)"
      ]
    },
    {
      "cell_type": "markdown",
      "metadata": {
        "id": "HwDSrVHixxzV"
      },
      "source": [
        "## 3차원 어레이"
      ]
    },
    {
      "cell_type": "markdown",
      "metadata": {
        "id": "Ozw6RNhjxxzV"
      },
      "source": [
        "**문제 1**"
      ]
    },
    {
      "cell_type": "markdown",
      "metadata": {
        "id": "mZsccBBwxxzV"
      },
      "source": [
        "(1) 변수 `Z`가 (3, 3, 3) 모양의 3차원 어레이를 가리키도록 하라.\n",
        "단, 어레이의 항목은 0과 1 사이의 임의의 부동소수점으로 구성되어야 한다.\n",
        "또한 `np.random.random()` 함수를 이용한다."
      ]
    },
    {
      "cell_type": "code",
      "execution_count": 25,
      "metadata": {
        "id": "v-K8hejPLP11"
      },
      "outputs": [],
      "source": [
        "# None을 적절한 표현식으로 대체하라.\n",
        "Z = np.random.random((3, 3, 3))"
      ]
    },
    {
      "cell_type": "markdown",
      "metadata": {
        "id": "VqhQXo8TxxzV"
      },
      "source": [
        "아래 코드는 수정하지 마세요!!!"
      ]
    },
    {
      "cell_type": "code",
      "execution_count": 26,
      "metadata": {
        "id": "UabuvcuoxxzW"
      },
      "outputs": [],
      "source": [
        "assert (Z.shape == (3, 3, 3))\n",
        "assert (Z.dtype == 'f8')"
      ]
    },
    {
      "cell_type": "markdown",
      "metadata": {
        "id": "v_rjadZ1xxzW"
      },
      "source": [
        "(2) `Z`에 포함된 항목들 중에서 최댓값과 최솟값의 차이를 구하라.\n",
        "단, `maximum`, `mininum` 두 변수가 각각 최댓값과 최솟값을 가리키도록 하며,\n",
        "`max()`와 `min()` 어레이 메서드를 이용한다."
      ]
    },
    {
      "cell_type": "code",
      "execution_count": 27,
      "metadata": {
        "id": "Vk9pQDVtxxzW"
      },
      "outputs": [],
      "source": [
        "# None을 적절한 표현식으로 대체하라.\n",
        "maximum = Z.max()\n",
        "minimum = Z.min()"
      ]
    },
    {
      "cell_type": "markdown",
      "metadata": {
        "id": "gIa_F_IjxxzW"
      },
      "source": [
        "아래 코드는 수정하지 마세요!!!"
      ]
    },
    {
      "cell_type": "code",
      "execution_count": 28,
      "metadata": {
        "id": "4MJKw3c_xxzW",
        "outputId": "a6966be8-fa36-4b41-e7e3-27d43bcaf68d",
        "colab": {
          "base_uri": "https://localhost:8080/"
        }
      },
      "outputs": [
        {
          "output_type": "stream",
          "name": "stdout",
          "text": [
            "최댓값과 최솟값의 차이: 0.9344309403588984\n"
          ]
        }
      ],
      "source": [
        "print(f\"최댓값과 최솟값의 차이: {maximum - minimum}\")"
      ]
    },
    {
      "cell_type": "markdown",
      "metadata": {
        "id": "vKhgLf5BxxzW"
      },
      "source": [
        "## `dtype` 종류"
      ]
    },
    {
      "cell_type": "markdown",
      "metadata": {
        "id": "2W3a4Dg5xxzW"
      },
      "source": [
        "**문제 1**"
      ]
    },
    {
      "cell_type": "markdown",
      "metadata": {
        "id": "_7aCg7CwxxzW"
      },
      "source": [
        "아래 두 코드의 실행결과를 설명하라."
      ]
    },
    {
      "cell_type": "code",
      "execution_count": 29,
      "metadata": {
        "id": "7b-2YWM4xxzW",
        "outputId": "0b0f9180-7f36-4480-9698-08f5cbe5d560",
        "colab": {
          "base_uri": "https://localhost:8080/"
        }
      },
      "outputs": [
        {
          "output_type": "stream",
          "name": "stdout",
          "text": [
            "-128\n",
            "127\n",
            "-2147483648\n",
            "2147483647\n",
            "-9223372036854775808\n",
            "9223372036854775807\n"
          ]
        }
      ],
      "source": [
        "for dtype in [np.int8, np.int32, np.int64]:\n",
        "    print(np.iinfo(dtype).min)\n",
        "    print(np.iinfo(dtype).max)"
      ]
    },
    {
      "cell_type": "markdown",
      "metadata": {
        "id": "vSioPgq9xxzW"
      },
      "source": [
        "`코드설명`: 정수형 자료형에 허용되는 비트수에 따른 최소값과 최대값\n",
        "- 8비트 정수형(np.int8): -128에서 127사이의 정수\n",
        "- 16비트 정수형: -2147483648에서\n",
        "2147483647사이의 정수\n",
        "- 32비트 정수형: -9223372036854775808에서\n",
        "9223372036854775807 사이의 정수"
      ]
    },
    {
      "cell_type": "code",
      "execution_count": 30,
      "metadata": {
        "id": "r4zTjAJuxxzX",
        "outputId": "1caec5d8-2353-4dc3-ceb2-26bec2502c29",
        "colab": {
          "base_uri": "https://localhost:8080/"
        }
      },
      "outputs": [
        {
          "output_type": "stream",
          "name": "stdout",
          "text": [
            "-3.4028235e+38\n",
            "3.4028235e+38\n",
            "1.1920929e-07\n",
            "-1.7976931348623157e+308\n",
            "1.7976931348623157e+308\n",
            "2.220446049250313e-16\n"
          ]
        }
      ],
      "source": [
        "for dtype in [np.float32, np.float64]:\n",
        "    print(np.finfo(dtype).min)\n",
        "    print(np.finfo(dtype).max)\n",
        "    print(np.finfo(dtype).eps)"
      ]
    },
    {
      "cell_type": "markdown",
      "metadata": {
        "id": "gxxzn8VcxxzX"
      },
      "source": [
        "`코드설명`:부동소수점 자료형에 허용되는 비트수에 따른 최소값과 최대값"
      ]
    },
    {
      "cell_type": "markdown",
      "metadata": {
        "id": "dKw-_5L4xxzX"
      },
      "source": [
        "**문제 2**"
      ]
    },
    {
      "cell_type": "markdown",
      "metadata": {
        "id": "fsidP7UUxxzX"
      },
      "source": [
        "부동소수점으로 구성된 1차원 어레이가 아래와 같이 주어졌다."
      ]
    },
    {
      "cell_type": "code",
      "execution_count": 31,
      "metadata": {
        "id": "D3q5PoVDxxzX"
      },
      "outputs": [],
      "source": [
        "Z = (np.random.rand(10)*100).astype(np.float32)"
      ]
    },
    {
      "cell_type": "markdown",
      "metadata": {
        "id": "TxMm2HjaxxzX"
      },
      "source": [
        "변수 `Y`가 변수 `Z`가 가리키는 1차원 어레이의 dtype이 `int32`로 형변환된 1차원 어레이를 가리키도록 하라.\n",
        "단, `astype()` 메서드를 이용한다."
      ]
    },
    {
      "cell_type": "code",
      "execution_count": 32,
      "metadata": {
        "id": "rO0qOvqFxxzX"
      },
      "outputs": [],
      "source": [
        "# None을 적절한 표현식으로 대체하라.\n",
        "Y = Z.astype(np.int32)"
      ]
    },
    {
      "cell_type": "markdown",
      "metadata": {
        "id": "o0ytL0mRxxzX"
      },
      "source": [
        "아래 코드는 수정하지 마세요!!!"
      ]
    },
    {
      "cell_type": "code",
      "execution_count": 33,
      "metadata": {
        "id": "EDSYog3BxxzX"
      },
      "outputs": [],
      "source": [
        "assert (Y.shape == (10,))\n",
        "assert (Y.dtype == np.int32)"
      ]
    },
    {
      "cell_type": "markdown",
      "metadata": {
        "id": "XFyRTaFvxxzY"
      },
      "source": [
        "**문제 3**"
      ]
    },
    {
      "cell_type": "markdown",
      "metadata": {
        "id": "1hf4bgZ_xxzY"
      },
      "source": [
        "변수 `Z`가 아래와 같이 무작위로 생성된 길이가 10인 1차원 어레이를 가리킨다."
      ]
    },
    {
      "cell_type": "code",
      "execution_count": 34,
      "metadata": {
        "id": "HTicoKdfxxzY",
        "outputId": "099492d5-c0f1-4d33-956a-f456cc6627cc",
        "colab": {
          "base_uri": "https://localhost:8080/"
        }
      },
      "outputs": [
        {
          "output_type": "execute_result",
          "data": {
            "text/plain": [
              "array([2.0125949 , 8.60229005, 8.45470152, 9.35388427, 3.89263227,\n",
              "       4.74516846, 1.82089692, 3.28830607, 5.73129852, 3.74712926])"
            ]
          },
          "metadata": {},
          "execution_count": 34
        }
      ],
      "source": [
        "Z = np.random.uniform(0,10,10)\n",
        "Z"
      ]
    },
    {
      "cell_type": "markdown",
      "metadata": {
        "id": "7BFiZexwxxzY"
      },
      "source": [
        "(1) 나머지 연산자(`%`)를 이용하여 정수로만 구성된 어레이 `Y`를 생성하라."
      ]
    },
    {
      "cell_type": "code",
      "execution_count": 35,
      "metadata": {
        "id": "1vHRSRurxxzY"
      },
      "outputs": [],
      "source": [
        "# None을 적절한 표현식으로 대체하라.\n",
        "Y = Z - Z%1 #Z의 소수점자리 빼기"
      ]
    },
    {
      "cell_type": "markdown",
      "metadata": {
        "id": "91EfChAsxxzY"
      },
      "source": [
        "아래 코드는 수정하지 마세요!!!"
      ]
    },
    {
      "cell_type": "code",
      "execution_count": 36,
      "metadata": {
        "id": "HbsXbG4UxxzY"
      },
      "outputs": [],
      "source": [
        "assert (Y == Z.astype(np.int32)).all()"
      ]
    },
    {
      "cell_type": "markdown",
      "metadata": {
        "id": "VLHfV0IxxxzY"
      },
      "source": [
        "(2) 몫 연산자(`//`)를 이용하여 정수로만 구성된 어레이 `Y`를 생성하라."
      ]
    },
    {
      "cell_type": "code",
      "execution_count": 41,
      "metadata": {
        "id": "jgTbcxTuxxzY"
      },
      "outputs": [],
      "source": [
        "# None을 적절한 표현식으로 대체하라.\n",
        "Y = Z//1"
      ]
    },
    {
      "cell_type": "markdown",
      "metadata": {
        "id": "doTtp0aBxxzY"
      },
      "source": [
        "아래 코드는 수정하지 마세요!!!"
      ]
    },
    {
      "cell_type": "code",
      "execution_count": 42,
      "metadata": {
        "id": "iA4noVzAxxzY"
      },
      "outputs": [],
      "source": [
        "assert (Y == Z.astype(np.int32)).all()"
      ]
    },
    {
      "cell_type": "markdown",
      "metadata": {
        "id": "TDX8hBxQxxzZ"
      },
      "source": [
        "(3) 내림 함수 `np.floor()` 함수를 이용하여 정수로만 구성된 어레이 `Y`를 생성하라."
      ]
    },
    {
      "cell_type": "code",
      "execution_count": 43,
      "metadata": {
        "id": "DHxv2JZIxxzZ"
      },
      "outputs": [],
      "source": [
        "# None을 적절한 표현식으로 대체하라.\n",
        "Y = np.floor(Z)"
      ]
    },
    {
      "cell_type": "markdown",
      "metadata": {
        "id": "IL0W-r8JxxzZ"
      },
      "source": [
        "아래 코드는 수정하지 마세요!!!"
      ]
    },
    {
      "cell_type": "code",
      "execution_count": 44,
      "metadata": {
        "id": "cbK2-dvbxxzZ"
      },
      "outputs": [],
      "source": [
        "assert (Y == Z.astype(np.int32)).all()"
      ]
    },
    {
      "cell_type": "markdown",
      "metadata": {
        "id": "qKmHCNp2xxzZ"
      },
      "source": [
        "(4) `np.trunc()` 함수를 이용하여 정수로만 구성된 어레이 `Y`를 생성하라."
      ]
    },
    {
      "cell_type": "code",
      "execution_count": 45,
      "metadata": {
        "id": "KaQdT8OLxxzZ"
      },
      "outputs": [],
      "source": [
        "# None을 적절한 표현식으로 대체하라.\n",
        "Y = np.trunc(Z)"
      ]
    },
    {
      "cell_type": "markdown",
      "metadata": {
        "id": "V4-d7tTSxxzZ"
      },
      "source": [
        "아래 코드는 수정하지 마세요!!!"
      ]
    },
    {
      "cell_type": "code",
      "execution_count": 46,
      "metadata": {
        "id": "8NOxppg4xxzZ"
      },
      "outputs": [],
      "source": [
        "assert (Y == Z.astype(np.int32)).all()"
      ]
    }
  ],
  "metadata": {
    "colab": {
      "provenance": []
    },
    "kernelspec": {
      "display_name": "Python 3 (ipykernel)",
      "language": "python",
      "name": "python3"
    },
    "language_info": {
      "codemirror_mode": {
        "name": "ipython",
        "version": 3
      },
      "file_extension": ".py",
      "mimetype": "text/x-python",
      "name": "python",
      "nbconvert_exporter": "python",
      "pygments_lexer": "ipython3",
      "version": "3.10.9"
    },
    "vscode": {
      "interpreter": {
        "hash": "ad0f3c8a064f687cbf898a0868fd45ba1c7e928ac8a0404f7c241d812ddc1e76"
      }
    }
  },
  "nbformat": 4,
  "nbformat_minor": 0
}