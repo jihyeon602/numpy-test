{
  "cells": [
    {
      "cell_type": "markdown",
      "metadata": {
        "id": "2XeQ19q7ZmSc"
      },
      "source": [
        "# (실습) 어레이 중심 프로그래밍"
      ]
    },
    {
      "cell_type": "markdown",
      "metadata": {
        "id": "iiISUvR2ZmSd"
      },
      "source": [
        "**주의사항**\n",
        "\n",
        "- `None`은 적절한 표현식으로 대체한다.\n",
        "- `Pass`는 적절한 명령문으로 대체한다.\n",
        "- 'asser'는 파이썬에서 조건이 참인지 확인하고 그렇지 않은 경우 예외 발생시킴"
      ]
    },
    {
      "cell_type": "code",
      "execution_count": 1,
      "metadata": {
        "id": "J71Fcvihxzi9"
      },
      "outputs": [],
      "source": [
        "import numpy as np\n",
        "import matplotlib.pyplot as plt"
      ]
    },
    {
      "cell_type": "markdown",
      "metadata": {
        "id": "8W3XopiXZmSe"
      },
      "source": [
        "**문제 1**"
      ]
    },
    {
      "cell_type": "markdown",
      "metadata": {
        "id": "1Z_eNMv7ZmSe"
      },
      "source": [
        "길이가 같은 두 개의 랜덤 벡터 `A`, `B`가 다음과 같이 주어졌다."
      ]
    },
    {
      "cell_type": "code",
      "execution_count": 2,
      "metadata": {
        "id": "E0hQQfx4ZmSf",
        "outputId": "3082d320-adec-47dc-f328-e8b25a5b1f0c",
        "colab": {
          "base_uri": "https://localhost:8080/"
        }
      },
      "outputs": [
        {
          "output_type": "execute_result",
          "data": {
            "text/plain": [
              "array([0, 1, 0, 1, 1])"
            ]
          },
          "metadata": {},
          "execution_count": 2
        }
      ],
      "source": [
        "A = np.random.randint(0,2,5)\n",
        "A"
      ]
    },
    {
      "cell_type": "code",
      "execution_count": 3,
      "metadata": {
        "id": "zWrxpicxZmSf",
        "outputId": "1a17236a-76fb-4bd9-cb09-fc28173adba2",
        "colab": {
          "base_uri": "https://localhost:8080/"
        }
      },
      "outputs": [
        {
          "output_type": "execute_result",
          "data": {
            "text/plain": [
              "array([0, 0, 0, 1, 1])"
            ]
          },
          "metadata": {},
          "execution_count": 3
        }
      ],
      "source": [
        "B = np.random.randint(0,2,5)\n",
        "B"
      ]
    },
    {
      "cell_type": "markdown",
      "metadata": {
        "id": "SFfW7Eq5ZmSg"
      },
      "source": [
        "(1) 두 벡터의 모든 항목이 동일한지 여부를 판단하라.\n",
        "단, `all()` 메서드를 이용한다."
      ]
    },
    {
      "cell_type": "code",
      "execution_count": 6,
      "metadata": {
        "id": "ZlUM2eHiZmSg",
        "outputId": "5873ca6f-c41e-4c6b-b2d7-8a95ddb93f38",
        "colab": {
          "base_uri": "https://localhost:8080/"
        }
      },
      "outputs": [
        {
          "output_type": "execute_result",
          "data": {
            "text/plain": [
              "False"
            ]
          },
          "metadata": {},
          "execution_count": 6
        }
      ],
      "source": [
        "Z = (A == B).all()\n",
        "Z"
      ]
    },
    {
      "cell_type": "markdown",
      "metadata": {
        "id": "a5J-xVklZmSg"
      },
      "source": [
        "아래 코드는 수정하지 마세요!!!"
      ]
    },
    {
      "cell_type": "code",
      "execution_count": 7,
      "metadata": {
        "id": "QVAME587ZmSg"
      },
      "outputs": [],
      "source": [
        "Y = ((A==B).sum() == len(A))\n",
        "assert Z == Y"
      ]
    },
    {
      "cell_type": "markdown",
      "metadata": {
        "id": "bMzPcxhgZmSg"
      },
      "source": [
        "(2) 최소 한 개 이상의 항목이 동일한 인덱스에 위치하는지 여부를 판단하라.\n",
        "단, `any()` 메서드를 이용한다."
      ]
    },
    {
      "cell_type": "code",
      "execution_count": 10,
      "metadata": {
        "id": "6O34j5loZmSg",
        "outputId": "30b6fb96-2136-4af3-de97-3b7cae932937",
        "colab": {
          "base_uri": "https://localhost:8080/"
        }
      },
      "outputs": [
        {
          "output_type": "execute_result",
          "data": {
            "text/plain": [
              "True"
            ]
          },
          "metadata": {},
          "execution_count": 10
        }
      ],
      "source": [
        "Z = (A==B).any()\n",
        "Z"
      ]
    },
    {
      "cell_type": "markdown",
      "metadata": {
        "id": "K_1c2bEzZmSh"
      },
      "source": [
        "아래 코드는 수정하지 마세요!!!"
      ]
    },
    {
      "cell_type": "code",
      "execution_count": 9,
      "metadata": {
        "id": "hXdTsjceZmSh"
      },
      "outputs": [],
      "source": [
        "Y = ((A==B).sum() > 0)\n",
        "assert Z == Y"
      ]
    },
    {
      "cell_type": "markdown",
      "metadata": {
        "id": "ZpV3cT_FZmSh"
      },
      "source": [
        "**문제 2**"
      ]
    },
    {
      "cell_type": "markdown",
      "metadata": {
        "id": "2P5NLNB4ZmSh"
      },
      "source": [
        "`np.random.rand()` 함수는 `[0, 1)` 구간에서 균등 분포를\n",
        "따르는 부동소수점을 무작위로 선택하여 지정된 모양의 어레이를 생성한다."
      ]
    },
    {
      "cell_type": "code",
      "execution_count": 29,
      "metadata": {
        "colab": {
          "base_uri": "https://localhost:8080/"
        },
        "id": "3y-9_C7cfMnc",
        "outputId": "a0799b4d-6aed-4436-d45f-8729a6a8e950"
      },
      "outputs": [
        {
          "output_type": "execute_result",
          "data": {
            "text/plain": [
              "array([[0.77132064, 0.02075195],\n",
              "       [0.63364823, 0.74880388],\n",
              "       [0.49850701, 0.22479665],\n",
              "       [0.19806286, 0.76053071],\n",
              "       [0.16911084, 0.08833981],\n",
              "       [0.68535982, 0.95339335],\n",
              "       [0.00394827, 0.51219226],\n",
              "       [0.81262096, 0.61252607],\n",
              "       [0.72175532, 0.29187607],\n",
              "       [0.91777412, 0.71457578]])"
            ]
          },
          "metadata": {},
          "execution_count": 29
        }
      ],
      "source": [
        "np.random.seed(10)\n",
        "\n",
        "Z = np.random.rand(10, 2)\n",
        "Z"
      ]
    },
    {
      "cell_type": "markdown",
      "metadata": {
        "id": "ja4WCtAZZmSh"
      },
      "source": [
        "변수 `Z`가 가리키는 벡터의 항목 중에서 열별 최댓값을 -1로 대체하라.\n",
        "\n",
        "힌트: `max()` 어레이 메서드, 부울 인덱싱"
      ]
    },
    {
      "cell_type": "code",
      "execution_count": 30,
      "metadata": {
        "colab": {
          "base_uri": "https://localhost:8080/"
        },
        "outputId": "cd36b9cf-3d19-48eb-d796-30145cd472f6",
        "id": "MqIerpZIZmSh"
      },
      "outputs": [
        {
          "output_type": "execute_result",
          "data": {
            "text/plain": [
              "array([[ 0.77132064,  0.02075195],\n",
              "       [ 0.63364823,  0.74880388],\n",
              "       [ 0.49850701,  0.22479665],\n",
              "       [ 0.19806286,  0.76053071],\n",
              "       [ 0.16911084,  0.08833981],\n",
              "       [ 0.68535982, -1.        ],\n",
              "       [ 0.00394827,  0.51219226],\n",
              "       [ 0.81262096,  0.61252607],\n",
              "       [ 0.72175532,  0.29187607],\n",
              "       [-1.        ,  0.71457578]])"
            ]
          },
          "metadata": {},
          "execution_count": 30
        }
      ],
      "source": [
        "max_ = Z.max(axis=0)\n",
        "Z[Z[:,0] == max_[0], 0] = -1\n",
        "Z[Z[:,1] == max_[1], 1] = -1\n",
        "Z"
      ]
    },
    {
      "cell_type": "markdown",
      "metadata": {
        "id": "m5nulh1tZmSh"
      },
      "source": [
        "아래 코드는 수정하지 마세요!!!"
      ]
    },
    {
      "cell_type": "code",
      "execution_count": 31,
      "metadata": {
        "id": "Zli3PgO_ZmSi"
      },
      "outputs": [],
      "source": [
        "assert (Z.min(axis=0)==-1).all()"
      ]
    },
    {
      "cell_type": "markdown",
      "metadata": {
        "id": "zJov0seDZmSi"
      },
      "source": [
        "**문제 3**"
      ]
    },
    {
      "cell_type": "markdown",
      "metadata": {
        "id": "3TlOky-JZmSi"
      },
      "source": [
        "`np.random.uniform()` 함수는 지정된 구간에서 지정된 개수의 부동소수점을 균등 분포를 따르면서 무작위로 선택해서\n",
        "1차원 어레이를 생성한다."
      ]
    },
    {
      "cell_type": "code",
      "execution_count": 32,
      "metadata": {
        "id": "p-18JpfhZmSi",
        "outputId": "8bd8de62-c287-48ac-a8af-607c07f8b0d1",
        "colab": {
          "base_uri": "https://localhost:8080/"
        }
      },
      "outputs": [
        {
          "output_type": "execute_result",
          "data": {
            "text/plain": [
              "array([0.77132064, 0.02075195, 0.63364823, 0.74880388, 0.49850701,\n",
              "       0.22479665, 0.19806286, 0.76053071, 0.16911084, 0.08833981])"
            ]
          },
          "metadata": {},
          "execution_count": 32
        }
      ],
      "source": [
        "np.random.seed(10)\n",
        "\n",
        "Z = np.random.uniform(0, 1, 10)\n",
        "Z"
      ]
    },
    {
      "cell_type": "markdown",
      "metadata": {
        "id": "2ujkh2o0ZmSi"
      },
      "source": [
        "변수 `Z`가 가리키는 어레이에 포함된 항목 중에서 항목들의 평균값에 가장 가까운 값을\n",
        "`min_mean` 변수가 가리키도록 하라.\n",
        "단, `argimin()` 메서드와 `np.abs()` 함수를 이용한다."
      ]
    },
    {
      "cell_type": "code",
      "execution_count": 41,
      "metadata": {
        "id": "1c7kP48XZmSi"
      },
      "outputs": [],
      "source": [
        "min_value = np.mean(Z)\n",
        "min_mean = Z[np.argmin(np.abs(Z - min_value))]\n"
      ]
    },
    {
      "cell_type": "markdown",
      "metadata": {
        "id": "kW4qPjy-ZmSi"
      },
      "source": [
        "아래 코드는 수정하지 마세요!!!"
      ]
    },
    {
      "cell_type": "code",
      "execution_count": 42,
      "metadata": {
        "id": "f8466K3sZmSi"
      },
      "outputs": [],
      "source": [
        "assert round(min_mean, 3) == 0.499"
      ]
    },
    {
      "cell_type": "markdown",
      "metadata": {
        "id": "9bTqicuRZmSi"
      },
      "source": [
        "**문제 4**"
      ]
    },
    {
      "cell_type": "markdown",
      "metadata": {
        "id": "fLlhC4YSZmSi"
      },
      "source": [
        "2차원 어레이가 다음가 같이 주어졌다."
      ]
    },
    {
      "cell_type": "code",
      "execution_count": 43,
      "metadata": {
        "colab": {
          "base_uri": "https://localhost:8080/"
        },
        "outputId": "41c6cc9b-20ff-4fae-d10e-b18800a74d3a",
        "id": "4zjlSEF4ZmSj"
      },
      "outputs": [
        {
          "output_type": "execute_result",
          "data": {
            "text/plain": [
              "array([[0.68535982, 0.95339335],\n",
              "       [0.00394827, 0.51219226],\n",
              "       [0.81262096, 0.61252607],\n",
              "       [0.72175532, 0.29187607],\n",
              "       [0.91777412, 0.71457578],\n",
              "       [0.54254437, 0.14217005],\n",
              "       [0.37334076, 0.67413362],\n",
              "       [0.44183317, 0.43401399],\n",
              "       [0.61776698, 0.51313824],\n",
              "       [0.65039718, 0.60103895]])"
            ]
          },
          "metadata": {},
          "execution_count": 43
        }
      ],
      "source": [
        "Z = np.random.rand(10, 2)\n",
        "Z"
      ]
    },
    {
      "cell_type": "markdown",
      "metadata": {
        "id": "EcyjQL68ZmSj"
      },
      "source": [
        "변수 `Z`가 가리키는 어레이를 정규화 하라.\n",
        "즉, 항목들의 평균은 0, 표준편차는 1이 되도록 한다.\n",
        "단, `mean()`과 `std()` 메서드를 이용한다.\n",
        "\n",
        "표준화: (측정값 - 평균) / 표준편차"
      ]
    },
    {
      "cell_type": "code",
      "execution_count": 44,
      "metadata": {
        "id": "qMnshZ5lU-Iy"
      },
      "outputs": [],
      "source": [
        "Z = (Z - np.mean(Z)) / np.std(Z)"
      ]
    },
    {
      "cell_type": "markdown",
      "metadata": {
        "id": "7mZaiVh1ZmSj"
      },
      "source": [
        "아래 코드는 수정하지 마세요!!!"
      ]
    },
    {
      "cell_type": "code",
      "execution_count": 45,
      "metadata": {
        "id": "ZAlt41p9ZmSj"
      },
      "outputs": [],
      "source": [
        "assert round(Z.mean(), 1) == 0.0\n",
        "assert round(Z.std(), 1) == 1.0"
      ]
    },
    {
      "cell_type": "markdown",
      "metadata": {
        "id": "2sW4UlWRZmSj"
      },
      "source": [
        "**텍스트 파일 다운로드 후 활용**"
      ]
    },
    {
      "cell_type": "markdown",
      "metadata": {
        "id": "k43ivXEcZmSj"
      },
      "source": [
        "`data_path`가 가리키는 인터넷 주소에 아래 내용의 파일이 저장되어 있다.\n",
        "\n",
        "```python\n",
        "1,  2,  3,  4,  5\n",
        "6,  7,  8,  9, 10\n",
        "11, 12, 13, 14, 15\n",
        "```"
      ]
    },
    {
      "cell_type": "code",
      "execution_count": 46,
      "metadata": {
        "id": "8i130EHaZmSj"
      },
      "outputs": [],
      "source": [
        "data_path = \"https://raw.githubusercontent.com/codingalzi/datapy/master/practices/data/exc_data_import.txt\""
      ]
    },
    {
      "cell_type": "markdown",
      "metadata": {
        "id": "1mHi3YLRZmSm"
      },
      "source": [
        "**문제 5**"
      ]
    },
    {
      "cell_type": "markdown",
      "metadata": {
        "id": "ZmvLjJzvZmSm"
      },
      "source": [
        "위 파일을 불러와 아래 모양의 2차원 어레이를 생성하라.\n",
        "\n",
        "힌트: `np.genfromtxt()` 함수와 `delimiter` 키워드 매개변수"
      ]
    },
    {
      "cell_type": "markdown",
      "metadata": {
        "id": "cw6fXaAgZmSm"
      },
      "source": [
        "```python\n",
        "array([[ 1,  2,  3,  4,  5],\n",
        "       [ 6,  7,  8,  9, 10],\n",
        "       [11, 12, 13, 14, 15]])\n",
        "```"
      ]
    },
    {
      "cell_type": "code",
      "execution_count": null,
      "metadata": {
        "id": "VHm8IvTqZmSn"
      },
      "outputs": [],
      "source": [
        "Z = None"
      ]
    },
    {
      "cell_type": "markdown",
      "metadata": {
        "id": "goVNVfJgZmSn"
      },
      "source": [
        "아래 코드는 수정하지 마세요!!!"
      ]
    },
    {
      "cell_type": "code",
      "execution_count": null,
      "metadata": {
        "id": "B6lE6FTyZmSn"
      },
      "outputs": [],
      "source": [
        "assert (Z == np.array([[ 1,  2,  3,  4,  5],\n",
        "                        [ 6,  7,  8,  9, 10],\n",
        "                        [11, 12, 13, 14, 15]])).all()"
      ]
    },
    {
      "cell_type": "markdown",
      "metadata": {
        "id": "2qtYZolpZmSn"
      },
      "source": [
        "**문제 6**"
      ]
    },
    {
      "cell_type": "markdown",
      "metadata": {
        "id": "gLLg-KCdZmSn"
      },
      "source": [
        "`Z`에 `np.divmod()` 함수를 적용하라. 단 7로 나눈 몫과 나머지로 이루어진 어레이를 생성해야 한다."
      ]
    },
    {
      "cell_type": "code",
      "execution_count": null,
      "metadata": {
        "id": "jkr6p76xZmSn"
      },
      "outputs": [],
      "source": [
        "Zmod = None"
      ]
    },
    {
      "cell_type": "markdown",
      "metadata": {
        "id": "S2uBL-FyZmSn"
      },
      "source": [
        "아래 코드는 수정하지 마세요!!!"
      ]
    },
    {
      "cell_type": "code",
      "execution_count": null,
      "metadata": {
        "id": "UnTL5QRwZmSn"
      },
      "outputs": [],
      "source": [
        "assert (Zmod[0] == np.array([[0, 0, 0, 0, 0],\n",
        "                              [0, 1, 1, 1, 1],\n",
        "                              [1, 1, 1, 2, 2]])).all()\n",
        "\n",
        "assert (Zmod[1] == np.array([[1, 2, 3, 4, 5],\n",
        "                              [6, 0, 1, 2, 3],\n",
        "                              [4, 5, 6, 0, 1]])).all()"
      ]
    },
    {
      "cell_type": "markdown",
      "metadata": {
        "id": "4gLUQSMUZmSn"
      },
      "source": [
        "**문제 7**"
      ]
    },
    {
      "cell_type": "markdown",
      "metadata": {
        "id": "PHhh1XdsZmSo"
      },
      "source": [
        "변수 `Z`가 가리키는 어레이에 7로 나누어 떨어지는 항목의 수를 `n_mod7_0` 변수가 가리키도록 하라.\n",
        "단, `Zmod`와 `sum()` 메서드를 이용한다."
      ]
    },
    {
      "cell_type": "code",
      "execution_count": null,
      "metadata": {
        "id": "OO_WRlrSZmSo"
      },
      "outputs": [],
      "source": [
        "n_mod7_0 = None"
      ]
    },
    {
      "cell_type": "markdown",
      "metadata": {
        "id": "HLuSZ6ISZmSo"
      },
      "source": [
        "아래 코드는 수정하지 마세요!!!"
      ]
    },
    {
      "cell_type": "code",
      "execution_count": null,
      "metadata": {
        "id": "1yYVSb4rZmSo"
      },
      "outputs": [],
      "source": [
        "assert n_mod7_0 == 2"
      ]
    },
    {
      "cell_type": "markdown",
      "metadata": {
        "id": "urreyoaXZmSo"
      },
      "source": [
        "**문제 8**"
      ]
    },
    {
      "cell_type": "markdown",
      "metadata": {
        "id": "mBvT7Dj0ZmSo"
      },
      "source": [
        "변수 `Z`가 가리키는 어레이에 7로 나눴을 때 나머지가 3인 항목만으로 이루어진 1차원 어레이를 `n_mod7_3` 변수가 가리키도록 하라.\n",
        "단, `Zmod`와 부울 인덱싱을 활용한다."
      ]
    },
    {
      "cell_type": "code",
      "execution_count": null,
      "metadata": {
        "id": "i3ydjEeHZmSo"
      },
      "outputs": [],
      "source": [
        "n_mod7_3 = None"
      ]
    },
    {
      "cell_type": "markdown",
      "metadata": {
        "id": "douj-MNCZmSp"
      },
      "source": [
        "아래 코드는 수정하지 마세요!!!"
      ]
    },
    {
      "cell_type": "code",
      "execution_count": null,
      "metadata": {
        "id": "kyNlrqb5ZmSp"
      },
      "outputs": [],
      "source": [
        "assert (n_mod7_3 == np.array([ 3, 10])).all()"
      ]
    },
    {
      "cell_type": "markdown",
      "metadata": {
        "id": "YpeNT2DWZmSp"
      },
      "source": [
        "**문제 9**"
      ]
    },
    {
      "cell_type": "markdown",
      "metadata": {
        "id": "I_hS64GnZmSp"
      },
      "source": [
        "다음 어레이를 이용한다."
      ]
    },
    {
      "cell_type": "code",
      "execution_count": null,
      "metadata": {
        "id": "wRV8MnKTZmSp",
        "outputId": "9c346b15-4b35-4a9e-8d67-e14e014ecf4f"
      },
      "outputs": [
        {
          "data": {
            "text/plain": [
              "array([[11, 34,  2],\n",
              "       [47,  3,  7],\n",
              "       [35, 40, 16],\n",
              "       [16,  2, 15]])"
            ]
          },
          "execution_count": 22,
          "metadata": {},
          "output_type": "execute_result"
        }
      ],
      "source": [
        "np.random.seed(1235)\n",
        "\n",
        "Z = np.random.randint(0,50,(4, 3))\n",
        "Z"
      ]
    },
    {
      "cell_type": "markdown",
      "metadata": {
        "id": "U31_AmFVZmSp"
      },
      "source": [
        "1번 열에 위치한 값들의 순서대로 행을 재배치한 어레이를 변수 `X`가 가리키도록 하라.\n",
        "단, `argsort()` 메서드와 인덱싱, 슬라이싱, 팬시 인덱싱을 사용한다."
      ]
    },
    {
      "cell_type": "code",
      "execution_count": null,
      "metadata": {
        "id": "ZSr90sVFZmSp"
      },
      "outputs": [],
      "source": [
        "X = None"
      ]
    },
    {
      "cell_type": "markdown",
      "metadata": {
        "id": "RiN_W01cZmSp"
      },
      "source": [
        "아래 코드는 수정하지 마세요!!!"
      ]
    },
    {
      "cell_type": "code",
      "execution_count": null,
      "metadata": {
        "id": "CgT7-OrwZmSq"
      },
      "outputs": [],
      "source": [
        "assert (X == np.array([[16,  2, 15],\n",
        "                        [47,  3,  7],\n",
        "                        [11, 34,  2],\n",
        "                        [35, 40, 16]])).all()"
      ]
    },
    {
      "cell_type": "markdown",
      "metadata": {
        "id": "u2D1VpIwZmSq"
      },
      "source": [
        "**문제 10**"
      ]
    },
    {
      "cell_type": "markdown",
      "metadata": {
        "id": "J49K001CZmSq"
      },
      "source": [
        "아래와 같은 그래프를 그리는 코드를 완성하라.\n",
        "단, `np.sin()`, `np.cos()` 두 유니버설 함수를 이용한다."
      ]
    },
    {
      "cell_type": "markdown",
      "metadata": {
        "id": "kYLmtCbyZmSq"
      },
      "source": [
        "<div align=\"center\"><img src=\"https://raw.githubusercontent.com/codingalzi/datapy/master/jupyter-book/images/sine-cosine.png?raw=true\" style=\"width:400px;\"></div>"
      ]
    },
    {
      "cell_type": "code",
      "execution_count": null,
      "metadata": {
        "id": "ZF-fwmf5ZmSq"
      },
      "outputs": [],
      "source": [
        "x = np.arange(0, 3 * np.pi, 0.1)\n",
        "y_sin = None\n",
        "y_cos = None\n",
        "\n",
        "plt.plot(x, y_sin)\n",
        "plt.plot(x, y_cos)\n",
        "plt.xlabel('x axis')\n",
        "plt.ylabel('y axis')\n",
        "plt.legend(['sine', 'cosine'])\n",
        "\n",
        "plt.show()"
      ]
    }
  ],
  "metadata": {
    "colab": {
      "provenance": []
    },
    "kernelspec": {
      "display_name": "Python 3 (ipykernel)",
      "language": "python",
      "name": "python3"
    },
    "language_info": {
      "codemirror_mode": {
        "name": "ipython",
        "version": 3
      },
      "file_extension": ".py",
      "mimetype": "text/x-python",
      "name": "python",
      "nbconvert_exporter": "python",
      "pygments_lexer": "ipython3",
      "version": "3.11.4"
    },
    "vscode": {
      "interpreter": {
        "hash": "ad0f3c8a064f687cbf898a0868fd45ba1c7e928ac8a0404f7c241d812ddc1e76"
      }
    }
  },
  "nbformat": 4,
  "nbformat_minor": 0
}