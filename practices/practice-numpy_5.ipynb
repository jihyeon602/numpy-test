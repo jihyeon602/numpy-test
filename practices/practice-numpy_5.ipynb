{
  "cells": [
    {
      "cell_type": "markdown",
      "metadata": {
        "id": "view-in-github",
        "colab_type": "text"
      },
      "source": [
        "<a href=\"https://colab.research.google.com/github/jihyeon602/numpy-test/blob/main/practices/practice-numpy_5.ipynb\" target=\"_parent\"><img src=\"https://colab.research.google.com/assets/colab-badge.svg\" alt=\"Open In Colab\"/></a>"
      ]
    },
    {
      "cell_type": "markdown",
      "id": "97ecff92",
      "metadata": {
        "id": "97ecff92"
      },
      "source": [
        "# (실습) 실전 예제: 붓꽃 데이터 분석"
      ]
    },
    {
      "cell_type": "code",
      "execution_count": 1,
      "id": "83c36ad1",
      "metadata": {
        "id": "83c36ad1"
      },
      "outputs": [],
      "source": [
        "# 넘파이\n",
        "import numpy as np\n",
        "\n",
        "# 램덤 시드\n",
        "np.random.seed(12345)\n",
        "\n",
        "# 어레이 사용되는 부동소수점들의 정확도 지정\n",
        "np.set_printoptions(precision=4, suppress=True)"
      ]
    },
    {
      "cell_type": "code",
      "execution_count": 2,
      "id": "45cc6114",
      "metadata": {
        "id": "45cc6114"
      },
      "outputs": [],
      "source": [
        "# 파이플롯\n",
        "import matplotlib.pyplot as plt\n",
        "\n",
        "# # 도표 크기 지정\n",
        "plt.rc('figure', figsize=(10, 6))"
      ]
    },
    {
      "cell_type": "markdown",
      "id": "4523eae0",
      "metadata": {
        "id": "4523eae0"
      },
      "source": [
        "아래 코드는 인터넷 데이터 저장소로부터 아이리스(붓꽃) 데이터(`iris.data`)를\n",
        "2차원 넘파이 어레이로 불러온다."
      ]
    },
    {
      "cell_type": "markdown",
      "id": "0b973d49",
      "metadata": {
        "id": "0b973d49"
      },
      "source": [
        "- `np.genfromtxt()` 함수의 `dtype='str'` 키워드 옵션: 부동소수점과 문자열이 함께 포함된 데이터이기에 모두 문자열로 통일해서 불러오는 용도"
      ]
    },
    {
      "cell_type": "code",
      "execution_count": 3,
      "id": "f44d0a1e",
      "metadata": {
        "id": "f44d0a1e"
      },
      "outputs": [],
      "source": [
        "import numpy as np\n",
        "\n",
        "# 아이리스(붓꽃) 데이터 불러오기\n",
        "url = 'https://archive.ics.uci.edu/ml/machine-learning-databases/iris/iris.data'\n",
        "iris = np.genfromtxt(url, delimiter=',', dtype='str')"
      ]
    },
    {
      "cell_type": "markdown",
      "id": "4d45917c",
      "metadata": {
        "id": "4d45917c"
      },
      "source": [
        "`iris.data` 파일에는 아래 형식의 데이터가 150개 들어 있다.\n",
        "\n",
        "```python\n",
        "5.1,3.5,1.4,0.2,Iris-setosa\n",
        "```\n",
        "\n",
        "하나의 데이터에 사용된 값들은 하나의 아이리스(붓꽃)에 대한 꽃잎, 꽃받침과 관련된 특성(features)과 품종을 나타내며,\n",
        "보다 구체적으로 아래 순서를 따른다.\n",
        "\n",
        "```\n",
        "꽃받침 길이, 꽃받침 너비, 꽃잎 길이, 꽃잎 너비, 품종\n",
        "```"
      ]
    },
    {
      "cell_type": "code",
      "execution_count": 4,
      "id": "8bb7c2f9",
      "metadata": {
        "colab": {
          "base_uri": "https://localhost:8080/"
        },
        "id": "8bb7c2f9",
        "outputId": "1fa5dd0b-bbc6-471f-bd99-ee4510c395f7"
      },
      "outputs": [
        {
          "output_type": "execute_result",
          "data": {
            "text/plain": [
              "(150, 5)"
            ]
          },
          "metadata": {},
          "execution_count": 4
        }
      ],
      "source": [
        "iris.shape"
      ]
    },
    {
      "cell_type": "markdown",
      "id": "c0484899",
      "metadata": {
        "id": "c0484899"
      },
      "source": [
        "길이와 너비를 저장하는 특성들은 원래 숫자이지만 위 코드는 문자열로 불러왔다.\n",
        "처음 5개 데이터를 확인하면 다음과 같다.\n",
        "\n",
        "__참고:__ `'<U15'`는 길이가 최대 15인 유니코드 문자열 자료형을 나타낸다."
      ]
    },
    {
      "cell_type": "code",
      "execution_count": null,
      "id": "3f1f98ba",
      "metadata": {
        "colab": {
          "base_uri": "https://localhost:8080/"
        },
        "id": "3f1f98ba",
        "outputId": "849109a8-d670-48d6-fd3a-3e82b39947cb"
      },
      "outputs": [
        {
          "output_type": "execute_result",
          "data": {
            "text/plain": [
              "array([['5.1', '3.5', '1.4', '0.2', 'Iris-setosa'],\n",
              "       ['4.9', '3.0', '1.4', '0.2', 'Iris-setosa'],\n",
              "       ['4.7', '3.2', '1.3', '0.2', 'Iris-setosa'],\n",
              "       ['4.6', '3.1', '1.5', '0.2', 'Iris-setosa'],\n",
              "       ['5.0', '3.6', '1.4', '0.2', 'Iris-setosa']], dtype='<U15')"
            ]
          },
          "metadata": {},
          "execution_count": 5
        }
      ],
      "source": [
        "iris[:5]"
      ]
    },
    {
      "cell_type": "markdown",
      "id": "5bda5d05",
      "metadata": {
        "id": "5bda5d05"
      },
      "source": [
        "수치형 데이터와 품종 데이터를 분리해서 각각 (150,4), (150,) 모양의 어레이를 생성하자.\n",
        "이때 수치형 데이터는 `'f8'`, 즉 `'float64'` 자료형을 사용하도록 한다."
      ]
    },
    {
      "cell_type": "code",
      "execution_count": 5,
      "id": "f0a6a0a4",
      "metadata": {
        "id": "f0a6a0a4"
      },
      "outputs": [],
      "source": [
        "iris_features = iris[:,:4].astype('f8')\n",
        "iris_labels = iris[:, 4]"
      ]
    },
    {
      "cell_type": "code",
      "execution_count": 6,
      "id": "ef1b835d",
      "metadata": {
        "colab": {
          "base_uri": "https://localhost:8080/"
        },
        "id": "ef1b835d",
        "outputId": "1335ce74-4710-4924-c7bc-d7202b881667"
      },
      "outputs": [
        {
          "output_type": "execute_result",
          "data": {
            "text/plain": [
              "array([[5.1, 3.5, 1.4, 0.2],\n",
              "       [4.9, 3. , 1.4, 0.2],\n",
              "       [4.7, 3.2, 1.3, 0.2],\n",
              "       [4.6, 3.1, 1.5, 0.2],\n",
              "       [5. , 3.6, 1.4, 0.2]])"
            ]
          },
          "metadata": {},
          "execution_count": 6
        }
      ],
      "source": [
        "iris_features[:5]"
      ]
    },
    {
      "cell_type": "markdown",
      "id": "51420ffa",
      "metadata": {
        "id": "51420ffa"
      },
      "source": [
        "150개의 데이터는 아래 세 개의 품종으로 구분되며, 각각 50개씩 아래 언급된 순서대로 구분되어 있다.\n",
        "\n",
        "```\n",
        "'Iris-setosa', 'Iris-versicolor', 'Iris-virginica'\n",
        "```\n",
        "\n",
        "즉, 0번, 50번, 100번부터 각 품종의 데이터가 시작된다."
      ]
    },
    {
      "cell_type": "code",
      "execution_count": 7,
      "id": "ec1e3d75",
      "metadata": {
        "colab": {
          "base_uri": "https://localhost:8080/"
        },
        "id": "ec1e3d75",
        "outputId": "cfa5cd75-228c-4034-e750-6f829c6974d2"
      },
      "outputs": [
        {
          "output_type": "execute_result",
          "data": {
            "text/plain": [
              "array(['Iris-setosa', 'Iris-versicolor', 'Iris-virginica'], dtype='<U15')"
            ]
          },
          "metadata": {},
          "execution_count": 7
        }
      ],
      "source": [
        "iris_labels[::50]"
      ]
    },
    {
      "cell_type": "code",
      "execution_count": 8,
      "id": "2bc9ae96",
      "metadata": {
        "colab": {
          "base_uri": "https://localhost:8080/"
        },
        "id": "2bc9ae96",
        "outputId": "bd51489f-1c68-43bf-bb07-2213fa590901"
      },
      "outputs": [
        {
          "output_type": "execute_result",
          "data": {
            "text/plain": [
              "array(['Iris-setosa', 'Iris-setosa', 'Iris-setosa', 'Iris-setosa',\n",
              "       'Iris-setosa'], dtype='<U15')"
            ]
          },
          "metadata": {},
          "execution_count": 8
        }
      ],
      "source": [
        "iris_labels[:5]"
      ]
    },
    {
      "cell_type": "code",
      "execution_count": 9,
      "id": "35fa2b46",
      "metadata": {
        "colab": {
          "base_uri": "https://localhost:8080/"
        },
        "id": "35fa2b46",
        "outputId": "50231a49-31dd-4a1f-ee95-3226082a0e80"
      },
      "outputs": [
        {
          "output_type": "execute_result",
          "data": {
            "text/plain": [
              "array(['Iris-versicolor', 'Iris-versicolor', 'Iris-versicolor',\n",
              "       'Iris-versicolor', 'Iris-versicolor'], dtype='<U15')"
            ]
          },
          "metadata": {},
          "execution_count": 9
        }
      ],
      "source": [
        "iris_labels[50:55]"
      ]
    },
    {
      "cell_type": "code",
      "execution_count": 10,
      "id": "fd477f1b",
      "metadata": {
        "colab": {
          "base_uri": "https://localhost:8080/"
        },
        "id": "fd477f1b",
        "outputId": "53959d63-d9be-4aa3-efd8-10d2c95bd4b1"
      },
      "outputs": [
        {
          "output_type": "execute_result",
          "data": {
            "text/plain": [
              "array(['Iris-virginica', 'Iris-virginica', 'Iris-virginica',\n",
              "       'Iris-virginica', 'Iris-virginica'], dtype='<U15')"
            ]
          },
          "metadata": {},
          "execution_count": 10
        }
      ],
      "source": [
        "iris_labels[100:105]"
      ]
    },
    {
      "cell_type": "markdown",
      "id": "707f09a7",
      "metadata": {
        "id": "707f09a7"
      },
      "source": [
        "**문제 1**"
      ]
    },
    {
      "cell_type": "markdown",
      "id": "bcca0683",
      "metadata": {
        "id": "bcca0683"
      },
      "source": [
        "꽃잎 길이(2번 열)가 1.5보다 크거나 꽃받침 길이(0번 열)가 5.0보다 작은 데이터만 추출하라."
      ]
    },
    {
      "cell_type": "code",
      "execution_count": 14,
      "id": "9a6320ee",
      "metadata": {
        "colab": {
          "base_uri": "https://localhost:8080/"
        },
        "id": "9a6320ee",
        "outputId": "7474bc87-8700-464c-aa29-e44305ef0693"
      },
      "outputs": [
        {
          "output_type": "execute_result",
          "data": {
            "text/plain": [
              "array([[4.9, 3. , 1.4, 0.2],\n",
              "       [4.7, 3.2, 1.3, 0.2],\n",
              "       [4.6, 3.1, 1.5, 0.2],\n",
              "       [5.4, 3.9, 1.7, 0.4],\n",
              "       [4.6, 3.4, 1.4, 0.3],\n",
              "       [4.4, 2.9, 1.4, 0.2],\n",
              "       [4.9, 3.1, 1.5, 0.1],\n",
              "       [4.8, 3.4, 1.6, 0.2],\n",
              "       [4.8, 3. , 1.4, 0.1],\n",
              "       [4.3, 3. , 1.1, 0.1],\n",
              "       [5.7, 3.8, 1.7, 0.3],\n",
              "       [5.4, 3.4, 1.7, 0.2],\n",
              "       [4.6, 3.6, 1. , 0.2],\n",
              "       [5.1, 3.3, 1.7, 0.5],\n",
              "       [4.8, 3.4, 1.9, 0.2],\n",
              "       [5. , 3. , 1.6, 0.2],\n",
              "       [5. , 3.4, 1.6, 0.4],\n",
              "       [4.7, 3.2, 1.6, 0.2],\n",
              "       [4.8, 3.1, 1.6, 0.2],\n",
              "       [4.9, 3.1, 1.5, 0.1],\n",
              "       [4.9, 3.1, 1.5, 0.1],\n",
              "       [4.4, 3. , 1.3, 0.2],\n",
              "       [4.5, 2.3, 1.3, 0.3],\n",
              "       [4.4, 3.2, 1.3, 0.2],\n",
              "       [5. , 3.5, 1.6, 0.6],\n",
              "       [5.1, 3.8, 1.9, 0.4],\n",
              "       [4.8, 3. , 1.4, 0.3],\n",
              "       [5.1, 3.8, 1.6, 0.2],\n",
              "       [4.6, 3.2, 1.4, 0.2],\n",
              "       [7. , 3.2, 4.7, 1.4],\n",
              "       [6.4, 3.2, 4.5, 1.5],\n",
              "       [6.9, 3.1, 4.9, 1.5],\n",
              "       [5.5, 2.3, 4. , 1.3],\n",
              "       [6.5, 2.8, 4.6, 1.5],\n",
              "       [5.7, 2.8, 4.5, 1.3],\n",
              "       [6.3, 3.3, 4.7, 1.6],\n",
              "       [4.9, 2.4, 3.3, 1. ],\n",
              "       [6.6, 2.9, 4.6, 1.3],\n",
              "       [5.2, 2.7, 3.9, 1.4],\n",
              "       [5. , 2. , 3.5, 1. ],\n",
              "       [5.9, 3. , 4.2, 1.5],\n",
              "       [6. , 2.2, 4. , 1. ],\n",
              "       [6.1, 2.9, 4.7, 1.4],\n",
              "       [5.6, 2.9, 3.6, 1.3],\n",
              "       [6.7, 3.1, 4.4, 1.4],\n",
              "       [5.6, 3. , 4.5, 1.5],\n",
              "       [5.8, 2.7, 4.1, 1. ],\n",
              "       [6.2, 2.2, 4.5, 1.5],\n",
              "       [5.6, 2.5, 3.9, 1.1],\n",
              "       [5.9, 3.2, 4.8, 1.8],\n",
              "       [6.1, 2.8, 4. , 1.3],\n",
              "       [6.3, 2.5, 4.9, 1.5],\n",
              "       [6.1, 2.8, 4.7, 1.2],\n",
              "       [6.4, 2.9, 4.3, 1.3],\n",
              "       [6.6, 3. , 4.4, 1.4],\n",
              "       [6.8, 2.8, 4.8, 1.4],\n",
              "       [6.7, 3. , 5. , 1.7],\n",
              "       [6. , 2.9, 4.5, 1.5],\n",
              "       [5.7, 2.6, 3.5, 1. ],\n",
              "       [5.5, 2.4, 3.8, 1.1],\n",
              "       [5.5, 2.4, 3.7, 1. ],\n",
              "       [5.8, 2.7, 3.9, 1.2],\n",
              "       [6. , 2.7, 5.1, 1.6],\n",
              "       [5.4, 3. , 4.5, 1.5],\n",
              "       [6. , 3.4, 4.5, 1.6],\n",
              "       [6.7, 3.1, 4.7, 1.5],\n",
              "       [6.3, 2.3, 4.4, 1.3],\n",
              "       [5.6, 3. , 4.1, 1.3],\n",
              "       [5.5, 2.5, 4. , 1.3],\n",
              "       [5.5, 2.6, 4.4, 1.2],\n",
              "       [6.1, 3. , 4.6, 1.4],\n",
              "       [5.8, 2.6, 4. , 1.2],\n",
              "       [5. , 2.3, 3.3, 1. ],\n",
              "       [5.6, 2.7, 4.2, 1.3],\n",
              "       [5.7, 3. , 4.2, 1.2],\n",
              "       [5.7, 2.9, 4.2, 1.3],\n",
              "       [6.2, 2.9, 4.3, 1.3],\n",
              "       [5.1, 2.5, 3. , 1.1],\n",
              "       [5.7, 2.8, 4.1, 1.3],\n",
              "       [6.3, 3.3, 6. , 2.5],\n",
              "       [5.8, 2.7, 5.1, 1.9],\n",
              "       [7.1, 3. , 5.9, 2.1],\n",
              "       [6.3, 2.9, 5.6, 1.8],\n",
              "       [6.5, 3. , 5.8, 2.2],\n",
              "       [7.6, 3. , 6.6, 2.1],\n",
              "       [4.9, 2.5, 4.5, 1.7],\n",
              "       [7.3, 2.9, 6.3, 1.8],\n",
              "       [6.7, 2.5, 5.8, 1.8],\n",
              "       [7.2, 3.6, 6.1, 2.5],\n",
              "       [6.5, 3.2, 5.1, 2. ],\n",
              "       [6.4, 2.7, 5.3, 1.9],\n",
              "       [6.8, 3. , 5.5, 2.1],\n",
              "       [5.7, 2.5, 5. , 2. ],\n",
              "       [5.8, 2.8, 5.1, 2.4],\n",
              "       [6.4, 3.2, 5.3, 2.3],\n",
              "       [6.5, 3. , 5.5, 1.8],\n",
              "       [7.7, 3.8, 6.7, 2.2],\n",
              "       [7.7, 2.6, 6.9, 2.3],\n",
              "       [6. , 2.2, 5. , 1.5],\n",
              "       [6.9, 3.2, 5.7, 2.3],\n",
              "       [5.6, 2.8, 4.9, 2. ],\n",
              "       [7.7, 2.8, 6.7, 2. ],\n",
              "       [6.3, 2.7, 4.9, 1.8],\n",
              "       [6.7, 3.3, 5.7, 2.1],\n",
              "       [7.2, 3.2, 6. , 1.8],\n",
              "       [6.2, 2.8, 4.8, 1.8],\n",
              "       [6.1, 3. , 4.9, 1.8],\n",
              "       [6.4, 2.8, 5.6, 2.1],\n",
              "       [7.2, 3. , 5.8, 1.6],\n",
              "       [7.4, 2.8, 6.1, 1.9],\n",
              "       [7.9, 3.8, 6.4, 2. ],\n",
              "       [6.4, 2.8, 5.6, 2.2],\n",
              "       [6.3, 2.8, 5.1, 1.5],\n",
              "       [6.1, 2.6, 5.6, 1.4],\n",
              "       [7.7, 3. , 6.1, 2.3],\n",
              "       [6.3, 3.4, 5.6, 2.4],\n",
              "       [6.4, 3.1, 5.5, 1.8],\n",
              "       [6. , 3. , 4.8, 1.8],\n",
              "       [6.9, 3.1, 5.4, 2.1],\n",
              "       [6.7, 3.1, 5.6, 2.4],\n",
              "       [6.9, 3.1, 5.1, 2.3],\n",
              "       [5.8, 2.7, 5.1, 1.9],\n",
              "       [6.8, 3.2, 5.9, 2.3],\n",
              "       [6.7, 3.3, 5.7, 2.5],\n",
              "       [6.7, 3. , 5.2, 2.3],\n",
              "       [6.3, 2.5, 5. , 1.9],\n",
              "       [6.5, 3. , 5.2, 2. ],\n",
              "       [6.2, 3.4, 5.4, 2.3],\n",
              "       [5.9, 3. , 5.1, 1.8]])"
            ]
          },
          "metadata": {},
          "execution_count": 14
        }
      ],
      "source": [
        "# None을 적절한 부울 표현식으로 대체하라.\n",
        "\n",
        "mask = (iris_features[:, 2] > 1.5) | (iris_features[:, 0] < 5.0)\n",
        "iris_features[mask]"
      ]
    },
    {
      "cell_type": "code",
      "source": [
        "len(iris_features[mask])"
      ],
      "metadata": {
        "id": "CbHOJsFCafWw",
        "outputId": "df89cd9e-f6f8-4a1e-ae8c-5673ed44e938",
        "colab": {
          "base_uri": "https://localhost:8080/"
        }
      },
      "id": "CbHOJsFCafWw",
      "execution_count": 15,
      "outputs": [
        {
          "output_type": "execute_result",
          "data": {
            "text/plain": [
              "129"
            ]
          },
          "metadata": {},
          "execution_count": 15
        }
      ]
    },
    {
      "cell_type": "markdown",
      "id": "bc8df63e",
      "metadata": {
        "id": "bc8df63e"
      },
      "source": [
        "**문제 2**"
      ]
    },
    {
      "cell_type": "markdown",
      "id": "41628dd8",
      "metadata": {
        "id": "41628dd8"
      },
      "source": [
        "꽃받침 길이(0번 열)와 꽃잎 길이(2번 열) 사이의 상관관계를 계산하라.\n",
        "\n",
        "힌트: 넘파이의 적절한 함수를 활용한다. 상관계수에 대한 설명은 [위키백과: 상관분석](https://ko.wikipedia.org/wiki/상관_분석)을 참고한다."
      ]
    },
    {
      "cell_type": "markdown",
      "source": [],
      "metadata": {
        "id": "hI5NzcqldgPT"
      },
      "id": "hI5NzcqldgPT"
    },
    {
      "cell_type": "code",
      "execution_count": 16,
      "id": "90beda34",
      "metadata": {
        "colab": {
          "base_uri": "https://localhost:8080/"
        },
        "id": "90beda34",
        "outputId": "7ce7a91e-abc0-4786-e0e0-eaa2f2e18cc3"
      },
      "outputs": [
        {
          "output_type": "execute_result",
          "data": {
            "text/plain": [
              "array([[1.    , 0.8718],\n",
              "       [0.8718, 1.    ]])"
            ]
          },
          "metadata": {},
          "execution_count": 16
        }
      ],
      "source": [
        "# 적절한 넘파이 함수를 호출하라.\n",
        "import numpy as np\n",
        "correlate = np.corrcoef(iris_features[:, 0], iris_features[:, 2])\n",
        "correlate"
      ]
    },
    {
      "cell_type": "markdown",
      "id": "b97ffc00",
      "metadata": {
        "id": "b97ffc00"
      },
      "source": [
        "**문제 3**"
      ]
    },
    {
      "cell_type": "markdown",
      "id": "b6699dd6",
      "metadata": {
        "id": "b6699dd6"
      },
      "source": [
        "아래 식으로 계산된 값을 갖는 새로운 열(column)이 추가된 2차원 어레이  `iris_features_added`를 생성하라.\n",
        "\n",
        "$$\\frac{\\text{원주율} \\times \\text{꽃잎길이} \\times \\text{꽃받침길이}^2}{3} $$\n",
        "\n",
        "힌트: `np.hstack()` 함수를 활용할 수 있다."
      ]
    },
    {
      "cell_type": "code",
      "execution_count": 19,
      "id": "48627edc",
      "metadata": {
        "colab": {
          "base_uri": "https://localhost:8080/"
        },
        "id": "48627edc",
        "outputId": "3d5398ab-5667-4de6-d9bb-88304e390de3"
      },
      "outputs": [
        {
          "output_type": "execute_result",
          "data": {
            "text/plain": [
              "array([[  5.1   ,   3.5   ,   1.4   ,   0.2   ,  38.1133],\n",
              "       [  4.9   ,   3.    ,   1.4   ,   0.2   ,  35.1827],\n",
              "       [  4.7   ,   3.2   ,   1.3   ,   0.2   ,  30.0571],\n",
              "       [  4.6   ,   3.1   ,   1.5   ,   0.2   ,  33.2212],\n",
              "       [  5.    ,   3.6   ,   1.4   ,   0.2   ,  36.6333],\n",
              "       [  5.4   ,   3.9   ,   1.7   ,   0.4   ,  51.8854],\n",
              "       [  4.6   ,   3.4   ,   1.4   ,   0.3   ,  31.0065],\n",
              "       [  5.    ,   3.4   ,   1.5   ,   0.2   ,  39.25  ],\n",
              "       [  4.4   ,   2.9   ,   1.4   ,   0.2   ,  28.3689],\n",
              "       [  4.9   ,   3.1   ,   1.5   ,   0.1   ,  37.6957],\n",
              "       [  5.4   ,   3.7   ,   1.5   ,   0.2   ,  45.7812],\n",
              "       [  4.8   ,   3.4   ,   1.6   ,   0.2   ,  38.5843],\n",
              "       [  4.8   ,   3.    ,   1.4   ,   0.1   ,  33.7613],\n",
              "       [  4.3   ,   3.    ,   1.1   ,   0.1   ,  21.2882],\n",
              "       [  5.8   ,   4.    ,   1.2   ,   0.2   ,  42.2518],\n",
              "       [  5.7   ,   4.4   ,   1.5   ,   0.4   ,  51.0093],\n",
              "       [  5.4   ,   3.9   ,   1.3   ,   0.4   ,  39.677 ],\n",
              "       [  5.1   ,   3.5   ,   1.4   ,   0.3   ,  38.1133],\n",
              "       [  5.7   ,   3.8   ,   1.7   ,   0.3   ,  57.8105],\n",
              "       [  5.1   ,   3.8   ,   1.5   ,   0.3   ,  40.8357],\n",
              "       [  5.4   ,   3.4   ,   1.7   ,   0.2   ,  51.8854],\n",
              "       [  5.1   ,   3.7   ,   1.5   ,   0.4   ,  40.8357],\n",
              "       [  4.6   ,   3.6   ,   1.    ,   0.2   ,  22.1475],\n",
              "       [  5.1   ,   3.3   ,   1.7   ,   0.5   ,  46.2805],\n",
              "       [  4.8   ,   3.4   ,   1.9   ,   0.2   ,  45.8189],\n",
              "       [  5.    ,   3.    ,   1.6   ,   0.2   ,  41.8667],\n",
              "       [  5.    ,   3.4   ,   1.6   ,   0.4   ,  41.8667],\n",
              "       [  5.2   ,   3.5   ,   1.5   ,   0.2   ,  42.4528],\n",
              "       [  5.2   ,   3.4   ,   1.4   ,   0.2   ,  39.6226],\n",
              "       [  4.7   ,   3.2   ,   1.6   ,   0.2   ,  36.9934],\n",
              "       [  4.8   ,   3.1   ,   1.6   ,   0.2   ,  38.5843],\n",
              "       [  5.4   ,   3.4   ,   1.5   ,   0.4   ,  45.7812],\n",
              "       [  5.2   ,   4.1   ,   1.5   ,   0.1   ,  42.4528],\n",
              "       [  5.5   ,   4.2   ,   1.4   ,   0.2   ,  44.3263],\n",
              "       [  4.9   ,   3.1   ,   1.5   ,   0.1   ,  37.6957],\n",
              "       [  5.    ,   3.2   ,   1.2   ,   0.2   ,  31.4   ],\n",
              "       [  5.5   ,   3.5   ,   1.3   ,   0.2   ,  41.1602],\n",
              "       [  4.9   ,   3.1   ,   1.5   ,   0.1   ,  37.6957],\n",
              "       [  4.4   ,   3.    ,   1.3   ,   0.2   ,  26.3425],\n",
              "       [  5.1   ,   3.4   ,   1.5   ,   0.2   ,  40.8357],\n",
              "       [  5.    ,   3.5   ,   1.3   ,   0.3   ,  34.0167],\n",
              "       [  4.5   ,   2.3   ,   1.3   ,   0.3   ,  27.5535],\n",
              "       [  4.4   ,   3.2   ,   1.3   ,   0.2   ,  26.3425],\n",
              "       [  5.    ,   3.5   ,   1.6   ,   0.6   ,  41.8667],\n",
              "       [  5.1   ,   3.8   ,   1.9   ,   0.4   ,  51.7252],\n",
              "       [  4.8   ,   3.    ,   1.4   ,   0.3   ,  33.7613],\n",
              "       [  5.1   ,   3.8   ,   1.6   ,   0.2   ,  43.5581],\n",
              "       [  4.6   ,   3.2   ,   1.4   ,   0.2   ,  31.0065],\n",
              "       [  5.3   ,   3.7   ,   1.5   ,   0.2   ,  44.1013],\n",
              "       [  5.    ,   3.3   ,   1.4   ,   0.2   ,  36.6333],\n",
              "       [  7.    ,   3.2   ,   4.7   ,   1.4   , 241.0473],\n",
              "       [  6.4   ,   3.2   ,   4.5   ,   1.5   , 192.9216],\n",
              "       [  6.9   ,   3.1   ,   4.9   ,   1.5   , 244.1758],\n",
              "       [  5.5   ,   2.3   ,   4.    ,   1.3   , 126.6467],\n",
              "       [  6.5   ,   2.8   ,   4.6   ,   1.5   , 203.4197],\n",
              "       [  5.7   ,   2.8   ,   4.5   ,   1.3   , 153.0279],\n",
              "       [  6.3   ,   3.3   ,   4.7   ,   1.6   , 195.2483],\n",
              "       [  4.9   ,   2.4   ,   3.3   ,   1.    ,  82.9305],\n",
              "       [  6.6   ,   2.9   ,   4.6   ,   1.3   , 209.7269],\n",
              "       [  5.2   ,   2.7   ,   3.9   ,   1.4   , 110.3773],\n",
              "       [  5.    ,   2.    ,   3.5   ,   1.    ,  91.5833],\n",
              "       [  5.9   ,   3.    ,   4.2   ,   1.5   , 153.0248],\n",
              "       [  6.    ,   2.2   ,   4.    ,   1.    , 150.72  ],\n",
              "       [  6.1   ,   2.9   ,   4.7   ,   1.4   , 183.0484],\n",
              "       [  5.6   ,   2.9   ,   3.6   ,   1.3   , 118.1645],\n",
              "       [  6.7   ,   3.1   ,   4.4   ,   1.4   , 206.7334],\n",
              "       [  5.6   ,   3.    ,   4.5   ,   1.5   , 147.7056],\n",
              "       [  5.8   ,   2.7   ,   4.1   ,   1.    , 144.3605],\n",
              "       [  6.2   ,   2.2   ,   4.5   ,   1.5   , 181.0524],\n",
              "       [  5.6   ,   2.5   ,   3.9   ,   1.1   , 128.0115],\n",
              "       [  5.9   ,   3.2   ,   4.8   ,   1.8   , 174.8854],\n",
              "       [  6.1   ,   2.8   ,   4.    ,   1.3   , 155.7859],\n",
              "       [  6.3   ,   2.5   ,   4.9   ,   1.5   , 203.5568],\n",
              "       [  6.1   ,   2.8   ,   4.7   ,   1.2   , 183.0484],\n",
              "       [  6.4   ,   2.9   ,   4.3   ,   1.3   , 184.3473],\n",
              "       [  6.6   ,   3.    ,   4.4   ,   1.4   , 200.6083],\n",
              "       [  6.8   ,   2.8   ,   4.8   ,   1.4   , 232.3098],\n",
              "       [  6.7   ,   3.    ,   5.    ,   1.7   , 234.9243],\n",
              "       [  6.    ,   2.9   ,   4.5   ,   1.5   , 169.56  ],\n",
              "       [  5.7   ,   2.6   ,   3.5   ,   1.    , 119.0217],\n",
              "       [  5.5   ,   2.4   ,   3.8   ,   1.1   , 120.3143],\n",
              "       [  5.5   ,   2.4   ,   3.7   ,   1.    , 117.1482],\n",
              "       [  5.8   ,   2.7   ,   3.9   ,   1.2   , 137.3185],\n",
              "       [  6.    ,   2.7   ,   5.1   ,   1.6   , 192.168 ],\n",
              "       [  5.4   ,   3.    ,   4.5   ,   1.5   , 137.3436],\n",
              "       [  6.    ,   3.4   ,   4.5   ,   1.6   , 169.56  ],\n",
              "       [  6.7   ,   3.1   ,   4.7   ,   1.5   , 220.8289],\n",
              "       [  6.3   ,   2.3   ,   4.4   ,   1.3   , 182.7857],\n",
              "       [  5.6   ,   3.    ,   4.1   ,   1.3   , 134.5762],\n",
              "       [  5.5   ,   2.5   ,   4.    ,   1.3   , 126.6467],\n",
              "       [  5.5   ,   2.6   ,   4.4   ,   1.2   , 139.3113],\n",
              "       [  6.1   ,   3.    ,   4.6   ,   1.4   , 179.1537],\n",
              "       [  5.8   ,   2.6   ,   4.    ,   1.2   , 140.8395],\n",
              "       [  5.    ,   2.3   ,   3.3   ,   1.    ,  86.35  ],\n",
              "       [  5.6   ,   2.7   ,   4.2   ,   1.3   , 137.8586],\n",
              "       [  5.7   ,   3.    ,   4.2   ,   1.2   , 142.826 ],\n",
              "       [  5.7   ,   2.9   ,   4.2   ,   1.3   , 142.826 ],\n",
              "       [  6.2   ,   2.9   ,   4.3   ,   1.3   , 173.0056],\n",
              "       [  5.1   ,   2.5   ,   3.    ,   1.1   ,  81.6714],\n",
              "       [  5.7   ,   2.8   ,   4.1   ,   1.3   , 139.4254],\n",
              "       [  6.3   ,   3.3   ,   6.    ,   2.5   , 249.2532],\n",
              "       [  5.8   ,   2.7   ,   5.1   ,   1.9   , 179.5703],\n",
              "       [  7.1   ,   3.    ,   5.9   ,   2.1   , 311.2986],\n",
              "       [  6.3   ,   2.9   ,   5.6   ,   1.8   , 232.6363],\n",
              "       [  6.5   ,   3.    ,   5.8   ,   2.2   , 256.4857],\n",
              "       [  7.6   ,   3.    ,   6.6   ,   2.1   , 399.0061],\n",
              "       [  4.9   ,   2.5   ,   4.5   ,   1.7   , 113.0871],\n",
              "       [  7.3   ,   2.9   ,   6.3   ,   1.8   , 351.3943],\n",
              "       [  6.7   ,   2.5   ,   5.8   ,   1.8   , 272.5122],\n",
              "       [  7.2   ,   3.6   ,   6.1   ,   2.5   , 330.9811],\n",
              "       [  6.5   ,   3.2   ,   5.1   ,   2.    , 225.5305],\n",
              "       [  6.4   ,   2.7   ,   5.3   ,   1.9   , 227.2188],\n",
              "       [  6.8   ,   3.    ,   5.5   ,   2.1   , 266.1883],\n",
              "       [  5.7   ,   2.5   ,   5.    ,   2.    , 170.031 ],\n",
              "       [  5.8   ,   2.8   ,   5.1   ,   2.4   , 179.5703],\n",
              "       [  6.4   ,   3.2   ,   5.3   ,   2.3   , 227.2188],\n",
              "       [  6.5   ,   3.    ,   5.5   ,   1.8   , 243.2192],\n",
              "       [  7.7   ,   3.8   ,   6.7   ,   2.2   , 415.781 ],\n",
              "       [  7.7   ,   2.6   ,   6.9   ,   2.3   , 428.1924],\n",
              "       [  6.    ,   2.2   ,   5.    ,   1.5   , 188.4   ],\n",
              "       [  6.9   ,   3.2   ,   5.7   ,   2.3   , 284.0413],\n",
              "       [  5.6   ,   2.8   ,   4.9   ,   2.    , 160.835 ],\n",
              "       [  7.7   ,   2.8   ,   6.7   ,   2.    , 415.781 ],\n",
              "       [  6.3   ,   2.7   ,   4.9   ,   1.8   , 203.5568],\n",
              "       [  6.7   ,   3.3   ,   5.7   ,   2.1   , 267.8137],\n",
              "       [  7.2   ,   3.2   ,   6.    ,   1.8   , 325.5552],\n",
              "       [  6.2   ,   2.8   ,   4.8   ,   1.8   , 193.1226],\n",
              "       [  6.1   ,   3.    ,   4.9   ,   1.8   , 190.8377],\n",
              "       [  6.4   ,   2.8   ,   5.6   ,   2.1   , 240.0802],\n",
              "       [  7.2   ,   3.    ,   5.8   ,   1.6   , 314.7034],\n",
              "       [  7.4   ,   2.8   ,   6.1   ,   1.9   , 349.6243],\n",
              "       [  7.9   ,   3.8   ,   6.4   ,   2.    , 418.0638],\n",
              "       [  6.4   ,   2.8   ,   5.6   ,   2.2   , 240.0802],\n",
              "       [  6.3   ,   2.8   ,   5.1   ,   1.5   , 211.8652],\n",
              "       [  6.1   ,   2.6   ,   5.6   ,   1.4   , 218.1002],\n",
              "       [  7.7   ,   3.    ,   6.1   ,   2.3   , 378.5469],\n",
              "       [  6.3   ,   3.4   ,   5.6   ,   2.4   , 232.6363],\n",
              "       [  6.4   ,   3.1   ,   5.5   ,   1.8   , 235.7931],\n",
              "       [  6.    ,   3.    ,   4.8   ,   1.8   , 180.864 ],\n",
              "       [  6.9   ,   3.1   ,   5.4   ,   2.1   , 269.0917],\n",
              "       [  6.7   ,   3.1   ,   5.6   ,   2.4   , 263.1153],\n",
              "       [  6.9   ,   3.1   ,   5.1   ,   2.3   , 254.1422],\n",
              "       [  5.8   ,   2.7   ,   5.1   ,   1.9   , 179.5703],\n",
              "       [  6.8   ,   3.2   ,   5.9   ,   2.3   , 285.5474],\n",
              "       [  6.7   ,   3.3   ,   5.7   ,   2.5   , 267.8137],\n",
              "       [  6.7   ,   3.    ,   5.2   ,   2.3   , 244.3213],\n",
              "       [  6.3   ,   2.5   ,   5.    ,   1.9   , 207.711 ],\n",
              "       [  6.5   ,   3.    ,   5.2   ,   2.    , 229.9527],\n",
              "       [  6.2   ,   3.4   ,   5.4   ,   2.3   , 217.2629],\n",
              "       [  5.9   ,   3.    ,   5.1   ,   1.8   , 185.8158]])"
            ]
          },
          "metadata": {},
          "execution_count": 19
        }
      ],
      "source": [
        "# pass와 None을 각각 적절한 코드와 표현식으로 대체하라.\n",
        "\n",
        "a = (3.14 * iris_features[:, 2] * iris_features[:, 0] ** 2) / 3\n",
        "\n",
        "\n",
        "iris_features_added = np.hstack((iris_features, a.reshape(-1, 1)))\n",
        "iris_features_added"
      ]
    },
    {
      "cell_type": "code",
      "execution_count": 18,
      "id": "57fbd892",
      "metadata": {
        "colab": {
          "base_uri": "https://localhost:8080/"
        },
        "id": "57fbd892",
        "outputId": "db338d6a-029c-4dd4-c38e-8c02fb5eafe0"
      },
      "outputs": [
        {
          "output_type": "execute_result",
          "data": {
            "text/plain": [
              "array([[ 5.1   ,  3.5   ,  1.4   ,  0.2   , 38.1327],\n",
              "       [ 4.9   ,  3.    ,  1.4   ,  0.2   , 35.2005],\n",
              "       [ 4.7   ,  3.2   ,  1.3   ,  0.2   , 30.0724],\n",
              "       [ 4.6   ,  3.1   ,  1.5   ,  0.2   , 33.2381],\n",
              "       [ 5.    ,  3.6   ,  1.4   ,  0.2   , 36.6519]])"
            ]
          },
          "metadata": {},
          "execution_count": 18
        }
      ],
      "source": [
        "# 아래 주석을 해제하고 실행하라.\n",
        "\n",
        "assert iris_features_added.shape == (150, 5)\n",
        "iris_features_added[:5]"
      ]
    },
    {
      "cell_type": "markdown",
      "id": "4d4b4f93",
      "metadata": {
        "id": "4d4b4f93"
      },
      "source": [
        "**문제 4**"
      ]
    },
    {
      "cell_type": "markdown",
      "id": "ffedb587",
      "metadata": {
        "id": "ffedb587"
      },
      "source": [
        "`Iris_versicolor` 품종에 해당하는 데이터만 `iris_features`로부터 추출하라."
      ]
    },
    {
      "cell_type": "code",
      "execution_count": 21,
      "id": "523d1d75",
      "metadata": {
        "colab": {
          "base_uri": "https://localhost:8080/"
        },
        "id": "523d1d75",
        "outputId": "4dc68f02-3081-43bd-eba7-9525bc965714"
      },
      "outputs": [
        {
          "output_type": "execute_result",
          "data": {
            "text/plain": [
              "array([[7. , 3.2, 4.7, 1.4],\n",
              "       [6.4, 3.2, 4.5, 1.5],\n",
              "       [6.9, 3.1, 4.9, 1.5],\n",
              "       [5.5, 2.3, 4. , 1.3],\n",
              "       [6.5, 2.8, 4.6, 1.5]])"
            ]
          },
          "metadata": {},
          "execution_count": 21
        }
      ],
      "source": [
        "# None을 적절한 부울 표현식으로 대체하라.\n",
        "\n",
        "mask = iris_labels == 'Iris-versicolor'\n",
        "iris_features[mask][:5]"
      ]
    },
    {
      "cell_type": "markdown",
      "id": "dc332748",
      "metadata": {
        "id": "dc332748"
      },
      "source": [
        "**문제 5**"
      ]
    },
    {
      "cell_type": "markdown",
      "id": "17a8b3f7",
      "metadata": {
        "id": "17a8b3f7"
      },
      "source": [
        "꽃받침 길이(0번 열)의 평균값(mean), 중앙값(median), 표준편차(standard deviation)를 구하라."
      ]
    },
    {
      "cell_type": "code",
      "execution_count": 22,
      "id": "4d122a6e",
      "metadata": {
        "colab": {
          "base_uri": "https://localhost:8080/"
        },
        "id": "4d122a6e",
        "outputId": "ff54eb24-2708-42d5-89dd-f3794c749472"
      },
      "outputs": [
        {
          "output_type": "stream",
          "name": "stdout",
          "text": [
            "5.843333333333334\n",
            "5.8\n",
            "0.8253012917851409\n"
          ]
        }
      ],
      "source": [
        "# None을 적절한 표현식으로 대체하라.\n",
        "\n",
        "petal_length_mean = np.mean(iris_features[:, 0])\n",
        "petal_length_median = np.median(iris_features[:, 0])\n",
        "petal_length_std = np.std(iris_features[:, 0])\n",
        "\n",
        "print(petal_length_mean, petal_length_median, petal_length_std, sep='\\n')"
      ]
    },
    {
      "cell_type": "markdown",
      "id": "a2c3c9e4",
      "metadata": {
        "id": "a2c3c9e4"
      },
      "source": [
        "**문제 6**"
      ]
    },
    {
      "cell_type": "markdown",
      "id": "11d0a4d8",
      "metadata": {
        "id": "11d0a4d8"
      },
      "source": [
        "세 개의 품종 별 꽃받침 너비(1번 열)의 평균값을 계산하여\n",
        "변수 `iris_kind_sepal_length`가 아래 사전을 가리키도록 하라.\n",
        "\n",
        "```\n",
        "{'Iris-setosa':3.418,\n",
        " 'Iris-versicolor':2.77,\n",
        " 'Iris-virginica':2.974}\n",
        "```"
      ]
    },
    {
      "cell_type": "code",
      "source": [
        "labels = np.unique(iris_labels)\n",
        "labels"
      ],
      "metadata": {
        "id": "BvzcsvKFcO-L",
        "outputId": "2096cb49-4777-41b7-883e-8cd8359a5e04",
        "colab": {
          "base_uri": "https://localhost:8080/"
        }
      },
      "id": "BvzcsvKFcO-L",
      "execution_count": 25,
      "outputs": [
        {
          "output_type": "execute_result",
          "data": {
            "text/plain": [
              "array(['Iris-setosa', 'Iris-versicolor', 'Iris-virginica'], dtype='<U15')"
            ]
          },
          "metadata": {},
          "execution_count": 25
        }
      ]
    },
    {
      "cell_type": "code",
      "source": [
        "mask = iris_labels == 'Iris-setosa'\n",
        "iris_features[:, 1][mask].mean()"
      ],
      "metadata": {
        "id": "Q0tELfUdcWbX",
        "outputId": "b5f1827f-010e-49ec-b4f6-46a4be950711",
        "colab": {
          "base_uri": "https://localhost:8080/"
        }
      },
      "id": "Q0tELfUdcWbX",
      "execution_count": 26,
      "outputs": [
        {
          "output_type": "execute_result",
          "data": {
            "text/plain": [
              "3.418"
            ]
          },
          "metadata": {},
          "execution_count": 26
        }
      ]
    },
    {
      "cell_type": "code",
      "execution_count": 27,
      "id": "4845447a",
      "metadata": {
        "colab": {
          "base_uri": "https://localhost:8080/"
        },
        "id": "4845447a",
        "outputId": "d4cb11ef-c1fe-4058-9a48-cad1f3ab160a"
      },
      "outputs": [
        {
          "output_type": "execute_result",
          "data": {
            "text/plain": [
              "{'Iris-setosa': 3.418, 'Iris-versicolor': 2.77, 'Iris-virginica': 2.974}"
            ]
          },
          "metadata": {},
          "execution_count": 27
        }
      ],
      "source": [
        "# pass와 None을 각각 적절한 코드와 표현식으로 대체하라.\n",
        "\n",
        "iris_kind_sepal_length = dict()\n",
        "for label in labels:\n",
        "    mask = iris_labels == label\n",
        "    label_mean = iris_features[:, 1][mask].mean()\n",
        "    iris_kind_sepal_length[label] = np.round(label_mean, 3)\n",
        "\n",
        "iris_kind_sepal_length"
      ]
    },
    {
      "cell_type": "code",
      "execution_count": 28,
      "id": "e9a8f3b3",
      "metadata": {
        "id": "e9a8f3b3"
      },
      "outputs": [],
      "source": [
        "assert (iris_kind_sepal_length == {'Iris-setosa':3.418,\n",
        "                                   'Iris-versicolor':2.77,\n",
        "                                   'Iris-virginica':2.974})"
      ]
    },
    {
      "cell_type": "markdown",
      "id": "e3715123",
      "metadata": {
        "id": "e3715123"
      },
      "source": [
        "**문제 7**"
      ]
    },
    {
      "cell_type": "markdown",
      "id": "2a89d2c6",
      "metadata": {
        "id": "2a89d2c6"
      },
      "source": [
        "`iris_features`에 사용된 모든 값을 특성별로 정규화(normalization)하라.\n",
        "\n",
        "힌트: 꽃잎 너비 등 하나의 특성에 속하는 값을 모두 0과 1사이의 값으로 변환하는 작업을 정규화(normalization)라 한다.\n",
        "정규화에 대한 설명은 [정규화/표준화](https://rucrazia.tistory.com/90)를 참고하라."
      ]
    },
    {
      "cell_type": "code",
      "execution_count": 31,
      "id": "aefce832",
      "metadata": {
        "colab": {
          "base_uri": "https://localhost:8080/"
        },
        "id": "aefce832",
        "outputId": "ea0502f2-0193-4ecd-dfa1-430968205758"
      },
      "outputs": [
        {
          "output_type": "execute_result",
          "data": {
            "text/plain": [
              "array([[0.2222, 0.625 , 0.0678, 0.0417],\n",
              "       [0.1667, 0.4167, 0.0678, 0.0417],\n",
              "       [0.1111, 0.5   , 0.0508, 0.0417],\n",
              "       [0.0833, 0.4583, 0.0847, 0.0417],\n",
              "       [0.1944, 0.6667, 0.0678, 0.0417],\n",
              "       [0.3056, 0.7917, 0.1186, 0.125 ],\n",
              "       [0.0833, 0.5833, 0.0678, 0.0833],\n",
              "       [0.1944, 0.5833, 0.0847, 0.0417],\n",
              "       [0.0278, 0.375 , 0.0678, 0.0417],\n",
              "       [0.1667, 0.4583, 0.0847, 0.    ],\n",
              "       [0.3056, 0.7083, 0.0847, 0.0417],\n",
              "       [0.1389, 0.5833, 0.1017, 0.0417],\n",
              "       [0.1389, 0.4167, 0.0678, 0.    ],\n",
              "       [0.    , 0.4167, 0.0169, 0.    ],\n",
              "       [0.4167, 0.8333, 0.0339, 0.0417],\n",
              "       [0.3889, 1.    , 0.0847, 0.125 ],\n",
              "       [0.3056, 0.7917, 0.0508, 0.125 ],\n",
              "       [0.2222, 0.625 , 0.0678, 0.0833],\n",
              "       [0.3889, 0.75  , 0.1186, 0.0833],\n",
              "       [0.2222, 0.75  , 0.0847, 0.0833],\n",
              "       [0.3056, 0.5833, 0.1186, 0.0417],\n",
              "       [0.2222, 0.7083, 0.0847, 0.125 ],\n",
              "       [0.0833, 0.6667, 0.    , 0.0417],\n",
              "       [0.2222, 0.5417, 0.1186, 0.1667],\n",
              "       [0.1389, 0.5833, 0.1525, 0.0417],\n",
              "       [0.1944, 0.4167, 0.1017, 0.0417],\n",
              "       [0.1944, 0.5833, 0.1017, 0.125 ],\n",
              "       [0.25  , 0.625 , 0.0847, 0.0417],\n",
              "       [0.25  , 0.5833, 0.0678, 0.0417],\n",
              "       [0.1111, 0.5   , 0.1017, 0.0417],\n",
              "       [0.1389, 0.4583, 0.1017, 0.0417],\n",
              "       [0.3056, 0.5833, 0.0847, 0.125 ],\n",
              "       [0.25  , 0.875 , 0.0847, 0.    ],\n",
              "       [0.3333, 0.9167, 0.0678, 0.0417],\n",
              "       [0.1667, 0.4583, 0.0847, 0.    ],\n",
              "       [0.1944, 0.5   , 0.0339, 0.0417],\n",
              "       [0.3333, 0.625 , 0.0508, 0.0417],\n",
              "       [0.1667, 0.4583, 0.0847, 0.    ],\n",
              "       [0.0278, 0.4167, 0.0508, 0.0417],\n",
              "       [0.2222, 0.5833, 0.0847, 0.0417],\n",
              "       [0.1944, 0.625 , 0.0508, 0.0833],\n",
              "       [0.0556, 0.125 , 0.0508, 0.0833],\n",
              "       [0.0278, 0.5   , 0.0508, 0.0417],\n",
              "       [0.1944, 0.625 , 0.1017, 0.2083],\n",
              "       [0.2222, 0.75  , 0.1525, 0.125 ],\n",
              "       [0.1389, 0.4167, 0.0678, 0.0833],\n",
              "       [0.2222, 0.75  , 0.1017, 0.0417],\n",
              "       [0.0833, 0.5   , 0.0678, 0.0417],\n",
              "       [0.2778, 0.7083, 0.0847, 0.0417],\n",
              "       [0.1944, 0.5417, 0.0678, 0.0417],\n",
              "       [0.75  , 0.5   , 0.6271, 0.5417],\n",
              "       [0.5833, 0.5   , 0.5932, 0.5833],\n",
              "       [0.7222, 0.4583, 0.661 , 0.5833],\n",
              "       [0.3333, 0.125 , 0.5085, 0.5   ],\n",
              "       [0.6111, 0.3333, 0.6102, 0.5833],\n",
              "       [0.3889, 0.3333, 0.5932, 0.5   ],\n",
              "       [0.5556, 0.5417, 0.6271, 0.625 ],\n",
              "       [0.1667, 0.1667, 0.3898, 0.375 ],\n",
              "       [0.6389, 0.375 , 0.6102, 0.5   ],\n",
              "       [0.25  , 0.2917, 0.4915, 0.5417],\n",
              "       [0.1944, 0.    , 0.4237, 0.375 ],\n",
              "       [0.4444, 0.4167, 0.5424, 0.5833],\n",
              "       [0.4722, 0.0833, 0.5085, 0.375 ],\n",
              "       [0.5   , 0.375 , 0.6271, 0.5417],\n",
              "       [0.3611, 0.375 , 0.4407, 0.5   ],\n",
              "       [0.6667, 0.4583, 0.5763, 0.5417],\n",
              "       [0.3611, 0.4167, 0.5932, 0.5833],\n",
              "       [0.4167, 0.2917, 0.5254, 0.375 ],\n",
              "       [0.5278, 0.0833, 0.5932, 0.5833],\n",
              "       [0.3611, 0.2083, 0.4915, 0.4167],\n",
              "       [0.4444, 0.5   , 0.6441, 0.7083],\n",
              "       [0.5   , 0.3333, 0.5085, 0.5   ],\n",
              "       [0.5556, 0.2083, 0.661 , 0.5833],\n",
              "       [0.5   , 0.3333, 0.6271, 0.4583],\n",
              "       [0.5833, 0.375 , 0.5593, 0.5   ],\n",
              "       [0.6389, 0.4167, 0.5763, 0.5417],\n",
              "       [0.6944, 0.3333, 0.6441, 0.5417],\n",
              "       [0.6667, 0.4167, 0.678 , 0.6667],\n",
              "       [0.4722, 0.375 , 0.5932, 0.5833],\n",
              "       [0.3889, 0.25  , 0.4237, 0.375 ],\n",
              "       [0.3333, 0.1667, 0.4746, 0.4167],\n",
              "       [0.3333, 0.1667, 0.4576, 0.375 ],\n",
              "       [0.4167, 0.2917, 0.4915, 0.4583],\n",
              "       [0.4722, 0.2917, 0.6949, 0.625 ],\n",
              "       [0.3056, 0.4167, 0.5932, 0.5833],\n",
              "       [0.4722, 0.5833, 0.5932, 0.625 ],\n",
              "       [0.6667, 0.4583, 0.6271, 0.5833],\n",
              "       [0.5556, 0.125 , 0.5763, 0.5   ],\n",
              "       [0.3611, 0.4167, 0.5254, 0.5   ],\n",
              "       [0.3333, 0.2083, 0.5085, 0.5   ],\n",
              "       [0.3333, 0.25  , 0.5763, 0.4583],\n",
              "       [0.5   , 0.4167, 0.6102, 0.5417],\n",
              "       [0.4167, 0.25  , 0.5085, 0.4583],\n",
              "       [0.1944, 0.125 , 0.3898, 0.375 ],\n",
              "       [0.3611, 0.2917, 0.5424, 0.5   ],\n",
              "       [0.3889, 0.4167, 0.5424, 0.4583],\n",
              "       [0.3889, 0.375 , 0.5424, 0.5   ],\n",
              "       [0.5278, 0.375 , 0.5593, 0.5   ],\n",
              "       [0.2222, 0.2083, 0.339 , 0.4167],\n",
              "       [0.3889, 0.3333, 0.5254, 0.5   ],\n",
              "       [0.5556, 0.5417, 0.8475, 1.    ],\n",
              "       [0.4167, 0.2917, 0.6949, 0.75  ],\n",
              "       [0.7778, 0.4167, 0.8305, 0.8333],\n",
              "       [0.5556, 0.375 , 0.7797, 0.7083],\n",
              "       [0.6111, 0.4167, 0.8136, 0.875 ],\n",
              "       [0.9167, 0.4167, 0.9492, 0.8333],\n",
              "       [0.1667, 0.2083, 0.5932, 0.6667],\n",
              "       [0.8333, 0.375 , 0.8983, 0.7083],\n",
              "       [0.6667, 0.2083, 0.8136, 0.7083],\n",
              "       [0.8056, 0.6667, 0.8644, 1.    ],\n",
              "       [0.6111, 0.5   , 0.6949, 0.7917],\n",
              "       [0.5833, 0.2917, 0.7288, 0.75  ],\n",
              "       [0.6944, 0.4167, 0.7627, 0.8333],\n",
              "       [0.3889, 0.2083, 0.678 , 0.7917],\n",
              "       [0.4167, 0.3333, 0.6949, 0.9583],\n",
              "       [0.5833, 0.5   , 0.7288, 0.9167],\n",
              "       [0.6111, 0.4167, 0.7627, 0.7083],\n",
              "       [0.9444, 0.75  , 0.9661, 0.875 ],\n",
              "       [0.9444, 0.25  , 1.    , 0.9167],\n",
              "       [0.4722, 0.0833, 0.678 , 0.5833],\n",
              "       [0.7222, 0.5   , 0.7966, 0.9167],\n",
              "       [0.3611, 0.3333, 0.661 , 0.7917],\n",
              "       [0.9444, 0.3333, 0.9661, 0.7917],\n",
              "       [0.5556, 0.2917, 0.661 , 0.7083],\n",
              "       [0.6667, 0.5417, 0.7966, 0.8333],\n",
              "       [0.8056, 0.5   , 0.8475, 0.7083],\n",
              "       [0.5278, 0.3333, 0.6441, 0.7083],\n",
              "       [0.5   , 0.4167, 0.661 , 0.7083],\n",
              "       [0.5833, 0.3333, 0.7797, 0.8333],\n",
              "       [0.8056, 0.4167, 0.8136, 0.625 ],\n",
              "       [0.8611, 0.3333, 0.8644, 0.75  ],\n",
              "       [1.    , 0.75  , 0.9153, 0.7917],\n",
              "       [0.5833, 0.3333, 0.7797, 0.875 ],\n",
              "       [0.5556, 0.3333, 0.6949, 0.5833],\n",
              "       [0.5   , 0.25  , 0.7797, 0.5417],\n",
              "       [0.9444, 0.4167, 0.8644, 0.9167],\n",
              "       [0.5556, 0.5833, 0.7797, 0.9583],\n",
              "       [0.5833, 0.4583, 0.7627, 0.7083],\n",
              "       [0.4722, 0.4167, 0.6441, 0.7083],\n",
              "       [0.7222, 0.4583, 0.7458, 0.8333],\n",
              "       [0.6667, 0.4583, 0.7797, 0.9583],\n",
              "       [0.7222, 0.4583, 0.6949, 0.9167],\n",
              "       [0.4167, 0.2917, 0.6949, 0.75  ],\n",
              "       [0.6944, 0.5   , 0.8305, 0.9167],\n",
              "       [0.6667, 0.5417, 0.7966, 1.    ],\n",
              "       [0.6667, 0.4167, 0.7119, 0.9167],\n",
              "       [0.5556, 0.2083, 0.678 , 0.75  ],\n",
              "       [0.6111, 0.4167, 0.7119, 0.7917],\n",
              "       [0.5278, 0.5833, 0.7458, 0.9167],\n",
              "       [0.4444, 0.4167, 0.6949, 0.7083]])"
            ]
          },
          "metadata": {},
          "execution_count": 31
        }
      ],
      "source": [
        "# None을 적절한 부울 표현식으로 대체하라.\n",
        "\n",
        "iris_features_normalized = (iris_features - iris_features.min(axis=0)) / (iris_features.max(axis=0) - iris_features.min(axis=0))\n",
        "iris_features_normalized"
      ]
    },
    {
      "cell_type": "markdown",
      "id": "214ef2f8",
      "metadata": {
        "id": "214ef2f8"
      },
      "source": [
        "아래 코드는 수정하지 마세요!!!"
      ]
    },
    {
      "cell_type": "code",
      "execution_count": 32,
      "id": "c6c01fbf",
      "metadata": {
        "id": "c6c01fbf"
      },
      "outputs": [],
      "source": [
        "sol = np.array([[0.22222222, 0.625     , 0.06779661, 0.04166667],\n",
        "                [0.16666667, 0.41666667, 0.06779661, 0.04166667],\n",
        "                [0.11111111, 0.5       , 0.05084746, 0.04166667],\n",
        "                [0.08333333, 0.45833333, 0.08474576, 0.04166667],\n",
        "                [0.19444444, 0.66666667, 0.06779661, 0.04166667]])\n",
        "\n",
        "assert ~(iris_features_normalized.min(axis=0).all())\n",
        "assert (iris_features_normalized.max(axis=0).all())\n",
        "assert np.allclose(iris_features_normalized[:5], sol)"
      ]
    },
    {
      "cell_type": "markdown",
      "id": "d3c1a73a",
      "metadata": {
        "id": "d3c1a73a"
      },
      "source": [
        "**문제 8**"
      ]
    },
    {
      "cell_type": "markdown",
      "id": "18411e15",
      "metadata": {
        "id": "18411e15"
      },
      "source": [
        "`iris_features`에 사용된 모든 값을 특성별로 표준화(standardization)하라.\n",
        "\n",
        "힌트: 꽃잎 너비 등 하나의 특성에 속하는 값들의 평균값은 0, 표준편차는 1이 되도록 항목을 변환하는 작업을 표준화(standardization)라 한다.\n",
        "표준화에 대한 설명은 [정규화/표준화](https://rucrazia.tistory.com/90)를 참고하라."
      ]
    },
    {
      "cell_type": "code",
      "execution_count": 33,
      "id": "2f960ff4",
      "metadata": {
        "colab": {
          "base_uri": "https://localhost:8080/"
        },
        "id": "2f960ff4",
        "outputId": "ea36a273-a82c-4afd-89b3-acddf99d59ff"
      },
      "outputs": [
        {
          "output_type": "execute_result",
          "data": {
            "text/plain": [
              "array([[-0.9007,  1.0321, -1.3413, -1.313 ],\n",
              "       [-1.143 , -0.125 , -1.3413, -1.313 ],\n",
              "       [-1.3854,  0.3378, -1.3981, -1.313 ],\n",
              "       [-1.5065,  0.1064, -1.2844, -1.313 ],\n",
              "       [-1.0218,  1.2635, -1.3413, -1.313 ],\n",
              "       [-0.5372,  1.9577, -1.1707, -1.05  ],\n",
              "       [-1.5065,  0.8007, -1.3413, -1.1815],\n",
              "       [-1.0218,  0.8007, -1.2844, -1.313 ],\n",
              "       [-1.7489, -0.3564, -1.3413, -1.313 ],\n",
              "       [-1.143 ,  0.1064, -1.2844, -1.4444],\n",
              "       [-0.5372,  1.4949, -1.2844, -1.313 ],\n",
              "       [-1.2642,  0.8007, -1.2275, -1.313 ],\n",
              "       [-1.2642, -0.125 , -1.3413, -1.4444],\n",
              "       [-1.87  , -0.125 , -1.5119, -1.4444],\n",
              "       [-0.0525,  2.1891, -1.455 , -1.313 ],\n",
              "       [-0.1737,  3.1147, -1.2844, -1.05  ],\n",
              "       [-0.5372,  1.9577, -1.3981, -1.05  ],\n",
              "       [-0.9007,  1.0321, -1.3413, -1.1815],\n",
              "       [-0.1737,  1.7263, -1.1707, -1.1815],\n",
              "       [-0.9007,  1.7263, -1.2844, -1.1815],\n",
              "       [-0.5372,  0.8007, -1.1707, -1.313 ],\n",
              "       [-0.9007,  1.4949, -1.2844, -1.05  ],\n",
              "       [-1.5065,  1.2635, -1.5687, -1.313 ],\n",
              "       [-0.9007,  0.5693, -1.1707, -0.9186],\n",
              "       [-1.2642,  0.8007, -1.0569, -1.313 ],\n",
              "       [-1.0218, -0.125 , -1.2275, -1.313 ],\n",
              "       [-1.0218,  0.8007, -1.2275, -1.05  ],\n",
              "       [-0.7795,  1.0321, -1.2844, -1.313 ],\n",
              "       [-0.7795,  0.8007, -1.3413, -1.313 ],\n",
              "       [-1.3854,  0.3378, -1.2275, -1.313 ],\n",
              "       [-1.2642,  0.1064, -1.2275, -1.313 ],\n",
              "       [-0.5372,  0.8007, -1.2844, -1.05  ],\n",
              "       [-0.7795,  2.4205, -1.2844, -1.4444],\n",
              "       [-0.416 ,  2.6519, -1.3413, -1.313 ],\n",
              "       [-1.143 ,  0.1064, -1.2844, -1.4444],\n",
              "       [-1.0218,  0.3378, -1.455 , -1.313 ],\n",
              "       [-0.416 ,  1.0321, -1.3981, -1.313 ],\n",
              "       [-1.143 ,  0.1064, -1.2844, -1.4444],\n",
              "       [-1.7489, -0.125 , -1.3981, -1.313 ],\n",
              "       [-0.9007,  0.8007, -1.2844, -1.313 ],\n",
              "       [-1.0218,  1.0321, -1.3981, -1.1815],\n",
              "       [-1.6277, -1.7448, -1.3981, -1.1815],\n",
              "       [-1.7489,  0.3378, -1.3981, -1.313 ],\n",
              "       [-1.0218,  1.0321, -1.2275, -0.7871],\n",
              "       [-0.9007,  1.7263, -1.0569, -1.05  ],\n",
              "       [-1.2642, -0.125 , -1.3413, -1.1815],\n",
              "       [-0.9007,  1.7263, -1.2275, -1.313 ],\n",
              "       [-1.5065,  0.3378, -1.3413, -1.313 ],\n",
              "       [-0.6583,  1.4949, -1.2844, -1.313 ],\n",
              "       [-1.0218,  0.5693, -1.3413, -1.313 ],\n",
              "       [ 1.4015,  0.3378,  0.5353,  0.2647],\n",
              "       [ 0.6745,  0.3378,  0.4216,  0.3962],\n",
              "       [ 1.2803,  0.1064,  0.649 ,  0.3962],\n",
              "       [-0.416 , -1.7448,  0.1372,  0.1332],\n",
              "       [ 0.7957, -0.5878,  0.4784,  0.3962],\n",
              "       [-0.1737, -0.5878,  0.4216,  0.1332],\n",
              "       [ 0.5533,  0.5693,  0.5353,  0.5276],\n",
              "       [-1.143 , -1.5134, -0.2608, -0.2612],\n",
              "       [ 0.9168, -0.3564,  0.4784,  0.1332],\n",
              "       [-0.7795, -0.8192,  0.0804,  0.2647],\n",
              "       [-1.0218, -2.439 , -0.1471, -0.2612],\n",
              "       [ 0.0687, -0.125 ,  0.251 ,  0.3962],\n",
              "       [ 0.1898, -1.9762,  0.1372, -0.2612],\n",
              "       [ 0.311 , -0.3564,  0.5353,  0.2647],\n",
              "       [-0.2948, -0.3564, -0.0902,  0.1332],\n",
              "       [ 1.038 ,  0.1064,  0.3647,  0.2647],\n",
              "       [-0.2948, -0.125 ,  0.4216,  0.3962],\n",
              "       [-0.0525, -0.8192,  0.1941, -0.2612],\n",
              "       [ 0.4322, -1.9762,  0.4216,  0.3962],\n",
              "       [-0.2948, -1.282 ,  0.0804, -0.1297],\n",
              "       [ 0.0687,  0.3378,  0.5922,  0.7906],\n",
              "       [ 0.311 , -0.5878,  0.1372,  0.1332],\n",
              "       [ 0.5533, -1.282 ,  0.649 ,  0.3962],\n",
              "       [ 0.311 , -0.5878,  0.5353,  0.0018],\n",
              "       [ 0.6745, -0.3564,  0.3078,  0.1332],\n",
              "       [ 0.9168, -0.125 ,  0.3647,  0.2647],\n",
              "       [ 1.1592, -0.5878,  0.5922,  0.2647],\n",
              "       [ 1.038 , -0.125 ,  0.7059,  0.6591],\n",
              "       [ 0.1898, -0.3564,  0.4216,  0.3962],\n",
              "       [-0.1737, -1.0506, -0.1471, -0.2612],\n",
              "       [-0.416 , -1.5134,  0.0235, -0.1297],\n",
              "       [-0.416 , -1.5134, -0.0334, -0.2612],\n",
              "       [-0.0525, -0.8192,  0.0804,  0.0018],\n",
              "       [ 0.1898, -0.8192,  0.7628,  0.5276],\n",
              "       [-0.5372, -0.125 ,  0.4216,  0.3962],\n",
              "       [ 0.1898,  0.8007,  0.4216,  0.5276],\n",
              "       [ 1.038 ,  0.1064,  0.5353,  0.3962],\n",
              "       [ 0.5533, -1.7448,  0.3647,  0.1332],\n",
              "       [-0.2948, -0.125 ,  0.1941,  0.1332],\n",
              "       [-0.416 , -1.282 ,  0.1372,  0.1332],\n",
              "       [-0.416 , -1.0506,  0.3647,  0.0018],\n",
              "       [ 0.311 , -0.125 ,  0.4784,  0.2647],\n",
              "       [-0.0525, -1.0506,  0.1372,  0.0018],\n",
              "       [-1.0218, -1.7448, -0.2608, -0.2612],\n",
              "       [-0.2948, -0.8192,  0.251 ,  0.1332],\n",
              "       [-0.1737, -0.125 ,  0.251 ,  0.0018],\n",
              "       [-0.1737, -0.3564,  0.251 ,  0.1332],\n",
              "       [ 0.4322, -0.3564,  0.3078,  0.1332],\n",
              "       [-0.9007, -1.282 , -0.4314, -0.1297],\n",
              "       [-0.1737, -0.5878,  0.1941,  0.1332],\n",
              "       [ 0.5533,  0.5693,  1.2745,  1.7109],\n",
              "       [-0.0525, -0.8192,  0.7628,  0.9221],\n",
              "       [ 1.5227, -0.125 ,  1.2177,  1.185 ],\n",
              "       [ 0.5533, -0.3564,  1.0471,  0.7906],\n",
              "       [ 0.7957, -0.125 ,  1.1608,  1.3165],\n",
              "       [ 2.1285, -0.125 ,  1.6157,  1.185 ],\n",
              "       [-1.143 , -1.282 ,  0.4216,  0.6591],\n",
              "       [ 1.765 , -0.3564,  1.4451,  0.7906],\n",
              "       [ 1.038 , -1.282 ,  1.1608,  0.7906],\n",
              "       [ 1.6438,  1.2635,  1.3314,  1.7109],\n",
              "       [ 0.7957,  0.3378,  0.7628,  1.0535],\n",
              "       [ 0.6745, -0.8192,  0.8765,  0.9221],\n",
              "       [ 1.1592, -0.125 ,  0.9902,  1.185 ],\n",
              "       [-0.1737, -1.282 ,  0.7059,  1.0535],\n",
              "       [-0.0525, -0.5878,  0.7628,  1.5794],\n",
              "       [ 0.6745,  0.3378,  0.8765,  1.448 ],\n",
              "       [ 0.7957, -0.125 ,  0.9902,  0.7906],\n",
              "       [ 2.2497,  1.7263,  1.6726,  1.3165],\n",
              "       [ 2.2497, -1.0506,  1.7863,  1.448 ],\n",
              "       [ 0.1898, -1.9762,  0.7059,  0.3962],\n",
              "       [ 1.2803,  0.3378,  1.104 ,  1.448 ],\n",
              "       [-0.2948, -0.5878,  0.649 ,  1.0535],\n",
              "       [ 2.2497, -0.5878,  1.6726,  1.0535],\n",
              "       [ 0.5533, -0.8192,  0.649 ,  0.7906],\n",
              "       [ 1.038 ,  0.5693,  1.104 ,  1.185 ],\n",
              "       [ 1.6438,  0.3378,  1.2745,  0.7906],\n",
              "       [ 0.4322, -0.5878,  0.5922,  0.7906],\n",
              "       [ 0.311 , -0.125 ,  0.649 ,  0.7906],\n",
              "       [ 0.6745, -0.5878,  1.0471,  1.185 ],\n",
              "       [ 1.6438, -0.125 ,  1.1608,  0.5276],\n",
              "       [ 1.8862, -0.5878,  1.3314,  0.9221],\n",
              "       [ 2.492 ,  1.7263,  1.502 ,  1.0535],\n",
              "       [ 0.6745, -0.5878,  1.0471,  1.3165],\n",
              "       [ 0.5533, -0.5878,  0.7628,  0.3962],\n",
              "       [ 0.311 , -1.0506,  1.0471,  0.2647],\n",
              "       [ 2.2497, -0.125 ,  1.3314,  1.448 ],\n",
              "       [ 0.5533,  0.8007,  1.0471,  1.5794],\n",
              "       [ 0.6745,  0.1064,  0.9902,  0.7906],\n",
              "       [ 0.1898, -0.125 ,  0.5922,  0.7906],\n",
              "       [ 1.2803,  0.1064,  0.9334,  1.185 ],\n",
              "       [ 1.038 ,  0.1064,  1.0471,  1.5794],\n",
              "       [ 1.2803,  0.1064,  0.7628,  1.448 ],\n",
              "       [-0.0525, -0.8192,  0.7628,  0.9221],\n",
              "       [ 1.1592,  0.3378,  1.2177,  1.448 ],\n",
              "       [ 1.038 ,  0.5693,  1.104 ,  1.7109],\n",
              "       [ 1.038 , -0.125 ,  0.8196,  1.448 ],\n",
              "       [ 0.5533, -1.282 ,  0.7059,  0.9221],\n",
              "       [ 0.7957, -0.125 ,  0.8196,  1.0535],\n",
              "       [ 0.4322,  0.8007,  0.9334,  1.448 ],\n",
              "       [ 0.0687, -0.125 ,  0.7628,  0.7906]])"
            ]
          },
          "metadata": {},
          "execution_count": 33
        }
      ],
      "source": [
        "# None을 적절한 부울 표현식으로 대체하라.\n",
        "\n",
        "iris_features_standardized = (iris_features - np.mean(iris_features, axis=0)) / np.std(iris_features, axis=0)\n",
        "iris_features_standardized"
      ]
    },
    {
      "cell_type": "code",
      "execution_count": 34,
      "id": "c29ef50d",
      "metadata": {
        "colab": {
          "base_uri": "https://localhost:8080/"
        },
        "id": "c29ef50d",
        "outputId": "cfe24a9d-9329-40f7-f2a7-5643d1822b33"
      },
      "outputs": [
        {
          "output_type": "execute_result",
          "data": {
            "text/plain": [
              "array([[-0.9007,  1.0321, -1.3413, -1.313 ],\n",
              "       [-1.143 , -0.125 , -1.3413, -1.313 ],\n",
              "       [-1.3854,  0.3378, -1.3981, -1.313 ],\n",
              "       [-1.5065,  0.1064, -1.2844, -1.313 ],\n",
              "       [-1.0218,  1.2635, -1.3413, -1.313 ]])"
            ]
          },
          "metadata": {},
          "execution_count": 34
        }
      ],
      "source": [
        "# 아래 주석을 해제하고 실행하라.\n",
        "iris_features_standardized[:5]"
      ]
    },
    {
      "cell_type": "markdown",
      "id": "aeda9ea9",
      "metadata": {
        "id": "aeda9ea9"
      },
      "source": [
        "**문제 9**"
      ]
    },
    {
      "cell_type": "markdown",
      "id": "6b0a1648",
      "metadata": {
        "id": "6b0a1648"
      },
      "source": [
        "아래 코드는 붓꽃 데이터의 산점도를 품종에 따라 다른 모양과 색을 갖는 산점도를 그린다."
      ]
    },
    {
      "cell_type": "code",
      "execution_count": 35,
      "id": "74ab7c53",
      "metadata": {
        "id": "74ab7c53"
      },
      "outputs": [],
      "source": [
        "import matplotlib.pyplot as plt\n",
        "X = iris_features[:, 2] # 꽃잎 길이\n",
        "Y = iris_features[:, 3] # 꽃잎 너비\n",
        "\n",
        "points_x = np.arange(0, 7.01, 0.02)\n",
        "points_y = np.arange(0, 3.51, 0.02)\n",
        "xs, ys = np.meshgrid(points_x, points_y)\n",
        "\n",
        "Z = np.zeros(xs.shape)"
      ]
    },
    {
      "cell_type": "code",
      "execution_count": 36,
      "id": "562073be",
      "metadata": {
        "colab": {
          "base_uri": "https://localhost:8080/",
          "height": 393
        },
        "id": "562073be",
        "outputId": "5bd3dddb-1875-4c79-d98b-9d9585a01ece"
      },
      "outputs": [
        {
          "output_type": "display_data",
          "data": {
            "text/plain": [
              "<Figure size 800x400 with 1 Axes>"
            ],
            "image/png": "[encoded data removed]"
          },
          "metadata": {}
        }
      ],
      "source": [
        "plt.figure(figsize=(8, 4))\n",
        "\n",
        "# 등고선을 색으로 구분\n",
        "plt.contourf(xs, ys, Z, alpha=0.1, cmap='Purples')\n",
        "\n",
        "# 붓꽃 데이터 산점도\n",
        "plt.plot(X[iris_labels == 'Iris-setosa'], Y[iris_labels == 'Iris-setosa'], 'm+', label='Iris setosa')\n",
        "plt.plot(X[iris_labels == 'Iris-versicolor'], Y[iris_labels == 'Iris-versicolor'], 'ys', label='Iris versicolor')\n",
        "plt.plot(X[iris_labels == 'Iris-virginica'], Y[iris_labels == 'Iris-virginica'], 'b^',  label='Iris setosa')\n",
        "\n",
        "plt.xlabel(\"Petal length\")\n",
        "plt.ylabel(\"Petal width\")\n",
        "plt.legend(loc=\"upper left\")\n",
        "plt.axis([0, 7.0, 0, 3])\n",
        "\n",
        "# plt.grid()\n",
        "plt.show()"
      ]
    },
    {
      "cell_type": "markdown",
      "id": "2bfa61fe",
      "metadata": {
        "id": "2bfa61fe"
      },
      "source": [
        "위 코드에 사용된 2차원 어레이 `Z`를 수정하여 아래 산점도를 그리는 코드를 작성하려 한다."
      ]
    },
    {
      "cell_type": "markdown",
      "id": "76a357b6",
      "metadata": {
        "id": "76a357b6"
      },
      "source": [
        "<p><div align=\"center\"><img src=\"https://raw.githubusercontent.com/codingalzi/datapy/master/jupyter-book//images/iris-classification.png\" style=\"width:70%;\"></div></p>"
      ]
    },
    {
      "cell_type": "markdown",
      "id": "2e40c325",
      "metadata": {
        "id": "2e40c325"
      },
      "source": [
        "이를 위해 영역을 구분하는 두 개의 직선은 다음 두 개의 직선 방정식을 이용한다.\n",
        "\n",
        "```\n",
        "y = x + 3\n",
        "y = x + 6.6\n",
        "```"
      ]
    },
    {
      "cell_type": "markdown",
      "id": "0dd90755",
      "metadata": {
        "id": "0dd90755"
      },
      "source": [
        "**질문**"
      ]
    },
    {
      "cell_type": "markdown",
      "id": "9737bfea",
      "metadata": {
        "id": "9737bfea"
      },
      "source": [
        "아래 코드는 세 개의 영역을 구분하는 세 개의 마스크를 지정한다.\n",
        "`None`을 모두 적절한 어레이 논리식으로 대체하라."
      ]
    },
    {
      "cell_type": "code",
      "execution_count": 38,
      "id": "37878127",
      "metadata": {
        "id": "37878127"
      },
      "outputs": [],
      "source": [
        "mask1 = xs + ys - 3.0 <= 0\n",
        "mask2 = (xs + ys - 3.0 > 0) & (xs + ys - 6.6 <= 0)\n",
        "mask3 = (xs + ys - 6.6 > 0)"
      ]
    },
    {
      "cell_type": "markdown",
      "id": "81c9eb79",
      "metadata": {
        "id": "81c9eb79"
      },
      "source": [
        "정해진 마스크에 따라 등고선 어레이 `Z`의 값을 0, 1, 2 중에 하나로 지정한다."
      ]
    },
    {
      "cell_type": "code",
      "execution_count": 39,
      "id": "9f9143de",
      "metadata": {
        "id": "9f9143de"
      },
      "outputs": [],
      "source": [
        "Z[mask1] = 0\n",
        "Z[mask2] = 1\n",
        "Z[mask3] = 2"
      ]
    },
    {
      "cell_type": "markdown",
      "id": "67eb6b21",
      "metadata": {
        "id": "67eb6b21"
      },
      "source": [
        "수정된 등고선 어레이 `Z`를 이용하여 산점도를 그린다."
      ]
    },
    {
      "cell_type": "code",
      "execution_count": 40,
      "id": "d5aa7edf",
      "metadata": {
        "colab": {
          "base_uri": "https://localhost:8080/",
          "height": 393
        },
        "id": "d5aa7edf",
        "outputId": "391b6264-6d33-41b4-dac7-83c191d46b2f"
      },
      "outputs": [
        {
          "output_type": "display_data",
          "data": {
            "text/plain": [
              "<Figure size 800x400 with 1 Axes>"
            ],
            "image/png": "[encoded data removed]"
          },
          "metadata": {}
        }
      ],
      "source": [
        "plt.figure(figsize=(8, 4))\n",
        "\n",
        "# 등고선을 색으로 구분\n",
        "plt.contourf(xs, ys, Z, alpha=0.1, cmap='Purples')\n",
        "\n",
        "# 붓꽃 데이터 산점도\n",
        "plt.plot(X[iris_labels == 'Iris-setosa'], Y[iris_labels == 'Iris-setosa'], 'm+', label='Iris setosa')\n",
        "plt.plot(X[iris_labels == 'Iris-versicolor'], Y[iris_labels == 'Iris-versicolor'], 'ys', label='Iris versicolor')\n",
        "plt.plot(X[iris_labels == 'Iris-virginica'], Y[iris_labels == 'Iris-virginica'], 'b^',  label='Iris setosa')\n",
        "\n",
        "plt.xlabel(\"Petal length\")\n",
        "plt.ylabel(\"Petal width\")\n",
        "plt.legend(loc=\"upper left\")\n",
        "plt.axis([0, 7.0, 0, 3])\n",
        "\n",
        "# plt.grid()\n",
        "plt.show()"
      ]
    }
  ],
  "metadata": {
    "kernelspec": {
      "display_name": "Python 3 (ipykernel)",
      "language": "python",
      "name": "python3"
    },
    "language_info": {
      "codemirror_mode": {
        "name": "ipython",
        "version": 3
      },
      "file_extension": ".py",
      "mimetype": "text/x-python",
      "name": "python",
      "nbconvert_exporter": "python",
      "pygments_lexer": "ipython3",
      "version": "3.11.5"
    },
    "colab": {
      "provenance": [],
      "include_colab_link": true
    }
  },
  "nbformat": 4,
  "nbformat_minor": 5
}